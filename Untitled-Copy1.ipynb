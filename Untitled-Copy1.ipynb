{
 "cells": [
  {
   "cell_type": "markdown",
   "id": "f4f298b9",
   "metadata": {},
   "source": [
    "## [Amazon business research analyst hiring challenge](https://assessment.hackerearth.com/challenges/hiring/amazon-business-research-analyst-hiring-challenge/problems/)"
   ]
  },
  {
   "cell_type": "code",
   "execution_count": 1,
   "id": "54628c5d",
   "metadata": {
    "ExecuteTime": {
     "end_time": "2022-09-01T13:33:32.727572Z",
     "start_time": "2022-09-01T13:33:28.657969Z"
    }
   },
   "outputs": [],
   "source": [
    "import pandas as pd\n",
    "import numpy as np\n",
    "import seaborn as sns\n",
    "import matplotlib.pyplot as plt\n",
    "import re\n",
    "import os\n",
    "from tqdm.auto import tqdm"
   ]
  },
  {
   "cell_type": "code",
   "execution_count": 2,
   "id": "d89745e6",
   "metadata": {
    "ExecuteTime": {
     "end_time": "2022-08-29T05:32:17.586136Z",
     "start_time": "2022-08-29T05:32:17.564192Z"
    }
   },
   "outputs": [],
   "source": [
    "def conver_all_text_to_dict(path):\n",
    "    with open(path) as file:\n",
    "        data = [_.replace('\\n', '') for _ in file.readlines()[:-1]]\n",
    "        data_ = [re.sub('  +', '\\t', _) for _ in data]\n",
    "        return {_.split('\\t')[0]:_.split('\\t')[1] for _ in data_}\n",
    "\n",
    "\n",
    "def convert_all_data_in_dataframe(path_dir):\n",
    "    all_file = os.listdir(path_dir)\n",
    "    numfile = len(all_file)\n",
    "    dataframe = []\n",
    "    pro_bar = tqdm(total=numfile)\n",
    "    for file_name in all_file:\n",
    "        dataframe.append(conver_all_text_to_dict(path_dir+file_name))\n",
    "        pro_bar.update()\n",
    "    return pd.DataFrame(dataframe)"
   ]
  },
  {
   "cell_type": "code",
   "execution_count": 3,
   "id": "75244ead",
   "metadata": {
    "ExecuteTime": {
     "end_time": "2022-08-29T05:49:34.930574Z",
     "start_time": "2022-08-29T05:33:47.917877Z"
    }
   },
   "outputs": [
    {
     "data": {
      "application/vnd.jupyter.widget-view+json": {
       "model_id": "7258e00cd5844ab7b7cbf59e2427e886",
       "version_major": 2,
       "version_minor": 0
      },
      "text/plain": [
       "  0%|          | 0/45593 [00:00<?, ?it/s]"
      ]
     },
     "metadata": {},
     "output_type": "display_data"
    },
    {
     "data": {
      "application/vnd.jupyter.widget-view+json": {
       "model_id": "00218b0ee35344d8a0519913335435dd",
       "version_major": 2,
       "version_minor": 0
      },
      "text/plain": [
       "  0%|          | 0/11399 [00:00<?, ?it/s]"
      ]
     },
     "metadata": {},
     "output_type": "display_data"
    }
   ],
   "source": [
    "# read_train_data\n",
    "df_train = convert_all_data_in_dataframe('train/')\n",
    "df_test = convert_all_data_in_dataframe('test/')"
   ]
  },
  {
   "cell_type": "code",
   "execution_count": 8,
   "id": "441b45a8",
   "metadata": {
    "ExecuteTime": {
     "end_time": "2022-08-29T06:00:52.667947Z",
     "start_time": "2022-08-29T06:00:52.074349Z"
    }
   },
   "outputs": [],
   "source": [
    "# Save file in csv\n",
    "df_train.to_csv('train.csv', index=False)\n",
    "df_test.to_csv('test.csv', index=False)"
   ]
  },
  {
   "cell_type": "markdown",
   "id": "fd2d9c0c",
   "metadata": {},
   "source": [
    "|Columns_Name|                   Details|\n",
    "|----------:|:-------------------------|\n",
    "|ID|                             Represent a unique identification of an entry.|\n",
    "|Delivery_person_ID|             Represent a unique identification of a delivery person.|\n",
    "|Delivery_person_Age|            Represent the age of a delivery person|\n",
    "|Delivery_person_Ratings|        Represent the average ratings given to the delivery person. (1 to 5)|\n",
    "|Restaurant_latitude|            Represent the latitude of the restaurant.|\n",
    "|Restaurant_longitude|           Represent the longitude of the restaurant.|\n",
    "|Delivery_location_latitude|     Represent the latitude of the Delivery location.|\n",
    "|Delivery_location_longitude|    Represent the longitude of the Delivery location.|\n",
    "|Order_Date|                     Represent the date when the order was placed.|\n",
    "|Time_Ordered|                    Represent the time when the order was placed.|\n",
    "|Time_Order_picked|              Represent the time when the order was picked from the restaurant.|\n",
    "|Weather conditions|             Represent the weather conditions (windy, sunny, cloudy, stormy, fog, sandstorms, etc.)|\n",
    "|Road_traffic_density|           Represent the road traffic density (Jam, High, Medium and Low)|\n",
    "|Vehicle_condition|              Represent the condition of the Vehicle. (Smooth, Good or Average)|\n",
    "|Type_of_order|                  Represent the type of order (Snack, Meal, Buffet, Drinks, etc.)|\n",
    "|Type_of_vehicle|                Represent the type of vehicle one is using (Motorbike, Bicycle etc.)|\n",
    "|multiple_deliveries|            Represent the number of orders to be delivered in one attempt.|\n",
    "|Festival|                       Represent whether day is festive or not.|\n",
    "|City|                           Represent the city|\n",
    "|**Time_taken (min)**|               **Represent the time taken by the delivery person to deliver the order. [TARGET]**|"
   ]
  },
  {
   "cell_type": "code",
   "execution_count": 2,
   "id": "87e440de",
   "metadata": {
    "ExecuteTime": {
     "end_time": "2022-09-01T13:33:47.338403Z",
     "start_time": "2022-09-01T13:33:47.049286Z"
    }
   },
   "outputs": [],
   "source": [
    "# load dataset\n",
    "df_train = pd.read_csv('train.csv')\n",
    "df_test = pd.read_csv('test.csv')"
   ]
  },
  {
   "cell_type": "code",
   "execution_count": 3,
   "id": "9e4e8ece",
   "metadata": {
    "ExecuteTime": {
     "end_time": "2022-09-01T13:33:49.794562Z",
     "start_time": "2022-09-01T13:33:49.712772Z"
    }
   },
   "outputs": [
    {
     "name": "stdout",
     "output_type": "stream",
     "text": [
      "<class 'pandas.core.frame.DataFrame'>\n",
      "RangeIndex: 45593 entries, 0 to 45592\n",
      "Data columns (total 20 columns):\n",
      " #   Column                       Non-Null Count  Dtype  \n",
      "---  ------                       --------------  -----  \n",
      " 0   ID                           45593 non-null  object \n",
      " 1   Delivery_person_ID           45593 non-null  object \n",
      " 2   Delivery_person_Age          43739 non-null  float64\n",
      " 3   Delivery_person_Ratings      43685 non-null  float64\n",
      " 4   Restaurant_latitude          45593 non-null  float64\n",
      " 5   Restaurant_longitude         45593 non-null  float64\n",
      " 6   Delivery_location_latitude   45593 non-null  float64\n",
      " 7   Delivery_location_longitude  45593 non-null  float64\n",
      " 8   Order_Date                   45593 non-null  object \n",
      " 9   Time_Orderd                  43862 non-null  object \n",
      " 10  Time_Order_picked            45593 non-null  object \n",
      " 11  Weather conditions           44977 non-null  object \n",
      " 12  Road_traffic_density         44992 non-null  object \n",
      " 13  Vehicle_condition            45593 non-null  int64  \n",
      " 14  Type_of_order                45593 non-null  object \n",
      " 15  Type_of_vehicle              45593 non-null  object \n",
      " 16  multiple_deliveries          44600 non-null  float64\n",
      " 17  Festival                     45365 non-null  object \n",
      " 18  City                         44393 non-null  object \n",
      " 19  Time_taken (min)             45593 non-null  float64\n",
      "dtypes: float64(8), int64(1), object(11)\n",
      "memory usage: 7.0+ MB\n"
     ]
    }
   ],
   "source": [
    "df_train.info()"
   ]
  },
  {
   "cell_type": "code",
   "execution_count": 4,
   "id": "87bbd7de",
   "metadata": {
    "ExecuteTime": {
     "end_time": "2022-09-01T13:33:53.209898Z",
     "start_time": "2022-09-01T13:33:53.161032Z"
    }
   },
   "outputs": [
    {
     "data": {
      "text/html": [
       "<div>\n",
       "<style scoped>\n",
       "    .dataframe tbody tr th:only-of-type {\n",
       "        vertical-align: middle;\n",
       "    }\n",
       "\n",
       "    .dataframe tbody tr th {\n",
       "        vertical-align: top;\n",
       "    }\n",
       "\n",
       "    .dataframe thead th {\n",
       "        text-align: right;\n",
       "    }\n",
       "</style>\n",
       "<table border=\"1\" class=\"dataframe\">\n",
       "  <thead>\n",
       "    <tr style=\"text-align: right;\">\n",
       "      <th></th>\n",
       "      <th>ID</th>\n",
       "      <th>Delivery_person_ID</th>\n",
       "      <th>Delivery_person_Age</th>\n",
       "      <th>Delivery_person_Ratings</th>\n",
       "      <th>Restaurant_latitude</th>\n",
       "      <th>Restaurant_longitude</th>\n",
       "      <th>Delivery_location_latitude</th>\n",
       "      <th>Delivery_location_longitude</th>\n",
       "      <th>Order_Date</th>\n",
       "      <th>Time_Orderd</th>\n",
       "      <th>Time_Order_picked</th>\n",
       "      <th>Weather conditions</th>\n",
       "      <th>Road_traffic_density</th>\n",
       "      <th>Vehicle_condition</th>\n",
       "      <th>Type_of_order</th>\n",
       "      <th>Type_of_vehicle</th>\n",
       "      <th>multiple_deliveries</th>\n",
       "      <th>Festival</th>\n",
       "      <th>City</th>\n",
       "      <th>Time_taken (min)</th>\n",
       "    </tr>\n",
       "  </thead>\n",
       "  <tbody>\n",
       "    <tr>\n",
       "      <th>0</th>\n",
       "      <td>0x4607</td>\n",
       "      <td>INDORES13DEL02</td>\n",
       "      <td>37.0</td>\n",
       "      <td>4.9</td>\n",
       "      <td>22.745049</td>\n",
       "      <td>75.892471</td>\n",
       "      <td>22.765049</td>\n",
       "      <td>75.912471</td>\n",
       "      <td>19-03-2022</td>\n",
       "      <td>11:30</td>\n",
       "      <td>11:45</td>\n",
       "      <td>Sunny</td>\n",
       "      <td>High</td>\n",
       "      <td>2</td>\n",
       "      <td>Snack</td>\n",
       "      <td>motorcycle</td>\n",
       "      <td>0.0</td>\n",
       "      <td>No</td>\n",
       "      <td>Urban</td>\n",
       "      <td>24.0</td>\n",
       "    </tr>\n",
       "    <tr>\n",
       "      <th>1</th>\n",
       "      <td>0xb379</td>\n",
       "      <td>BANGRES18DEL02</td>\n",
       "      <td>34.0</td>\n",
       "      <td>4.5</td>\n",
       "      <td>12.913041</td>\n",
       "      <td>77.683237</td>\n",
       "      <td>13.043041</td>\n",
       "      <td>77.813237</td>\n",
       "      <td>25-03-2022</td>\n",
       "      <td>19:45</td>\n",
       "      <td>19:50</td>\n",
       "      <td>Stormy</td>\n",
       "      <td>Jam</td>\n",
       "      <td>2</td>\n",
       "      <td>Snack</td>\n",
       "      <td>scooter</td>\n",
       "      <td>1.0</td>\n",
       "      <td>No</td>\n",
       "      <td>Metropolitian</td>\n",
       "      <td>33.0</td>\n",
       "    </tr>\n",
       "    <tr>\n",
       "      <th>2</th>\n",
       "      <td>0x5d6d</td>\n",
       "      <td>BANGRES19DEL01</td>\n",
       "      <td>23.0</td>\n",
       "      <td>4.4</td>\n",
       "      <td>12.914264</td>\n",
       "      <td>77.678400</td>\n",
       "      <td>12.924264</td>\n",
       "      <td>77.688400</td>\n",
       "      <td>19-03-2022</td>\n",
       "      <td>8:30</td>\n",
       "      <td>8:45</td>\n",
       "      <td>Sandstorms</td>\n",
       "      <td>Low</td>\n",
       "      <td>0</td>\n",
       "      <td>Drinks</td>\n",
       "      <td>motorcycle</td>\n",
       "      <td>1.0</td>\n",
       "      <td>No</td>\n",
       "      <td>Urban</td>\n",
       "      <td>26.0</td>\n",
       "    </tr>\n",
       "    <tr>\n",
       "      <th>3</th>\n",
       "      <td>0x7a6a</td>\n",
       "      <td>COIMBRES13DEL02</td>\n",
       "      <td>38.0</td>\n",
       "      <td>4.7</td>\n",
       "      <td>11.003669</td>\n",
       "      <td>76.976494</td>\n",
       "      <td>11.053669</td>\n",
       "      <td>77.026494</td>\n",
       "      <td>05-04-2022</td>\n",
       "      <td>17:60</td>\n",
       "      <td>18:10</td>\n",
       "      <td>Sunny</td>\n",
       "      <td>Medium</td>\n",
       "      <td>0</td>\n",
       "      <td>Buffet</td>\n",
       "      <td>motorcycle</td>\n",
       "      <td>1.0</td>\n",
       "      <td>No</td>\n",
       "      <td>Metropolitian</td>\n",
       "      <td>21.0</td>\n",
       "    </tr>\n",
       "    <tr>\n",
       "      <th>4</th>\n",
       "      <td>0x70a2</td>\n",
       "      <td>CHENRES12DEL01</td>\n",
       "      <td>32.0</td>\n",
       "      <td>4.6</td>\n",
       "      <td>12.972793</td>\n",
       "      <td>80.249982</td>\n",
       "      <td>13.012793</td>\n",
       "      <td>80.289982</td>\n",
       "      <td>26-03-2022</td>\n",
       "      <td>13:30</td>\n",
       "      <td>13:45</td>\n",
       "      <td>Cloudy</td>\n",
       "      <td>High</td>\n",
       "      <td>1</td>\n",
       "      <td>Snack</td>\n",
       "      <td>scooter</td>\n",
       "      <td>1.0</td>\n",
       "      <td>No</td>\n",
       "      <td>Metropolitian</td>\n",
       "      <td>30.0</td>\n",
       "    </tr>\n",
       "    <tr>\n",
       "      <th>...</th>\n",
       "      <td>...</td>\n",
       "      <td>...</td>\n",
       "      <td>...</td>\n",
       "      <td>...</td>\n",
       "      <td>...</td>\n",
       "      <td>...</td>\n",
       "      <td>...</td>\n",
       "      <td>...</td>\n",
       "      <td>...</td>\n",
       "      <td>...</td>\n",
       "      <td>...</td>\n",
       "      <td>...</td>\n",
       "      <td>...</td>\n",
       "      <td>...</td>\n",
       "      <td>...</td>\n",
       "      <td>...</td>\n",
       "      <td>...</td>\n",
       "      <td>...</td>\n",
       "      <td>...</td>\n",
       "      <td>...</td>\n",
       "    </tr>\n",
       "    <tr>\n",
       "      <th>45588</th>\n",
       "      <td>0x7c09</td>\n",
       "      <td>JAPRES04DEL01</td>\n",
       "      <td>30.0</td>\n",
       "      <td>4.8</td>\n",
       "      <td>26.902328</td>\n",
       "      <td>75.794257</td>\n",
       "      <td>26.912328</td>\n",
       "      <td>75.804257</td>\n",
       "      <td>24-03-2022</td>\n",
       "      <td>11:35</td>\n",
       "      <td>11:45</td>\n",
       "      <td>Windy</td>\n",
       "      <td>High</td>\n",
       "      <td>1</td>\n",
       "      <td>Meal</td>\n",
       "      <td>motorcycle</td>\n",
       "      <td>0.0</td>\n",
       "      <td>No</td>\n",
       "      <td>Metropolitian</td>\n",
       "      <td>32.0</td>\n",
       "    </tr>\n",
       "    <tr>\n",
       "      <th>45589</th>\n",
       "      <td>0xd641</td>\n",
       "      <td>AGRRES16DEL01</td>\n",
       "      <td>21.0</td>\n",
       "      <td>4.6</td>\n",
       "      <td>0.000000</td>\n",
       "      <td>0.000000</td>\n",
       "      <td>0.070000</td>\n",
       "      <td>0.070000</td>\n",
       "      <td>16-02-2022</td>\n",
       "      <td>19:55</td>\n",
       "      <td>20:10</td>\n",
       "      <td>Windy</td>\n",
       "      <td>Jam</td>\n",
       "      <td>0</td>\n",
       "      <td>Buffet</td>\n",
       "      <td>motorcycle</td>\n",
       "      <td>1.0</td>\n",
       "      <td>No</td>\n",
       "      <td>Metropolitian</td>\n",
       "      <td>36.0</td>\n",
       "    </tr>\n",
       "    <tr>\n",
       "      <th>45590</th>\n",
       "      <td>0x4f8d</td>\n",
       "      <td>CHENRES08DEL03</td>\n",
       "      <td>30.0</td>\n",
       "      <td>4.9</td>\n",
       "      <td>13.022394</td>\n",
       "      <td>80.242439</td>\n",
       "      <td>13.052394</td>\n",
       "      <td>80.272439</td>\n",
       "      <td>11-03-2022</td>\n",
       "      <td>23:50</td>\n",
       "      <td>24:05</td>\n",
       "      <td>Cloudy</td>\n",
       "      <td>Low</td>\n",
       "      <td>1</td>\n",
       "      <td>Drinks</td>\n",
       "      <td>scooter</td>\n",
       "      <td>0.0</td>\n",
       "      <td>No</td>\n",
       "      <td>Metropolitian</td>\n",
       "      <td>16.0</td>\n",
       "    </tr>\n",
       "    <tr>\n",
       "      <th>45591</th>\n",
       "      <td>0x5eee</td>\n",
       "      <td>COIMBRES11DEL01</td>\n",
       "      <td>20.0</td>\n",
       "      <td>4.7</td>\n",
       "      <td>11.001753</td>\n",
       "      <td>76.986241</td>\n",
       "      <td>11.041753</td>\n",
       "      <td>77.026241</td>\n",
       "      <td>07-03-2022</td>\n",
       "      <td>13:35</td>\n",
       "      <td>13:40</td>\n",
       "      <td>Cloudy</td>\n",
       "      <td>High</td>\n",
       "      <td>0</td>\n",
       "      <td>Snack</td>\n",
       "      <td>motorcycle</td>\n",
       "      <td>1.0</td>\n",
       "      <td>No</td>\n",
       "      <td>Metropolitian</td>\n",
       "      <td>26.0</td>\n",
       "    </tr>\n",
       "    <tr>\n",
       "      <th>45592</th>\n",
       "      <td>0x5fb2</td>\n",
       "      <td>RANCHIRES09DEL02</td>\n",
       "      <td>23.0</td>\n",
       "      <td>4.9</td>\n",
       "      <td>23.351058</td>\n",
       "      <td>85.325731</td>\n",
       "      <td>23.431058</td>\n",
       "      <td>85.405731</td>\n",
       "      <td>02-03-2022</td>\n",
       "      <td>17:10</td>\n",
       "      <td>17:15</td>\n",
       "      <td>Fog</td>\n",
       "      <td>Medium</td>\n",
       "      <td>2</td>\n",
       "      <td>Snack</td>\n",
       "      <td>scooter</td>\n",
       "      <td>1.0</td>\n",
       "      <td>No</td>\n",
       "      <td>Metropolitian</td>\n",
       "      <td>36.0</td>\n",
       "    </tr>\n",
       "  </tbody>\n",
       "</table>\n",
       "<p>45593 rows × 20 columns</p>\n",
       "</div>"
      ],
      "text/plain": [
       "           ID Delivery_person_ID  Delivery_person_Age  \\\n",
       "0      0x4607     INDORES13DEL02                 37.0   \n",
       "1      0xb379     BANGRES18DEL02                 34.0   \n",
       "2      0x5d6d     BANGRES19DEL01                 23.0   \n",
       "3      0x7a6a    COIMBRES13DEL02                 38.0   \n",
       "4      0x70a2     CHENRES12DEL01                 32.0   \n",
       "...       ...                ...                  ...   \n",
       "45588  0x7c09      JAPRES04DEL01                 30.0   \n",
       "45589  0xd641      AGRRES16DEL01                 21.0   \n",
       "45590  0x4f8d     CHENRES08DEL03                 30.0   \n",
       "45591  0x5eee    COIMBRES11DEL01                 20.0   \n",
       "45592  0x5fb2   RANCHIRES09DEL02                 23.0   \n",
       "\n",
       "       Delivery_person_Ratings  Restaurant_latitude  Restaurant_longitude  \\\n",
       "0                          4.9            22.745049             75.892471   \n",
       "1                          4.5            12.913041             77.683237   \n",
       "2                          4.4            12.914264             77.678400   \n",
       "3                          4.7            11.003669             76.976494   \n",
       "4                          4.6            12.972793             80.249982   \n",
       "...                        ...                  ...                   ...   \n",
       "45588                      4.8            26.902328             75.794257   \n",
       "45589                      4.6             0.000000              0.000000   \n",
       "45590                      4.9            13.022394             80.242439   \n",
       "45591                      4.7            11.001753             76.986241   \n",
       "45592                      4.9            23.351058             85.325731   \n",
       "\n",
       "       Delivery_location_latitude  Delivery_location_longitude  Order_Date  \\\n",
       "0                       22.765049                    75.912471  19-03-2022   \n",
       "1                       13.043041                    77.813237  25-03-2022   \n",
       "2                       12.924264                    77.688400  19-03-2022   \n",
       "3                       11.053669                    77.026494  05-04-2022   \n",
       "4                       13.012793                    80.289982  26-03-2022   \n",
       "...                           ...                          ...         ...   \n",
       "45588                   26.912328                    75.804257  24-03-2022   \n",
       "45589                    0.070000                     0.070000  16-02-2022   \n",
       "45590                   13.052394                    80.272439  11-03-2022   \n",
       "45591                   11.041753                    77.026241  07-03-2022   \n",
       "45592                   23.431058                    85.405731  02-03-2022   \n",
       "\n",
       "      Time_Orderd Time_Order_picked Weather conditions Road_traffic_density  \\\n",
       "0           11:30             11:45              Sunny                 High   \n",
       "1           19:45             19:50             Stormy                  Jam   \n",
       "2            8:30              8:45         Sandstorms                  Low   \n",
       "3           17:60             18:10              Sunny               Medium   \n",
       "4           13:30             13:45             Cloudy                 High   \n",
       "...           ...               ...                ...                  ...   \n",
       "45588       11:35             11:45              Windy                 High   \n",
       "45589       19:55             20:10              Windy                  Jam   \n",
       "45590       23:50             24:05             Cloudy                  Low   \n",
       "45591       13:35             13:40             Cloudy                 High   \n",
       "45592       17:10             17:15                Fog               Medium   \n",
       "\n",
       "       Vehicle_condition Type_of_order Type_of_vehicle  multiple_deliveries  \\\n",
       "0                      2         Snack      motorcycle                  0.0   \n",
       "1                      2         Snack         scooter                  1.0   \n",
       "2                      0        Drinks      motorcycle                  1.0   \n",
       "3                      0        Buffet      motorcycle                  1.0   \n",
       "4                      1         Snack         scooter                  1.0   \n",
       "...                  ...           ...             ...                  ...   \n",
       "45588                  1          Meal      motorcycle                  0.0   \n",
       "45589                  0        Buffet      motorcycle                  1.0   \n",
       "45590                  1        Drinks         scooter                  0.0   \n",
       "45591                  0         Snack      motorcycle                  1.0   \n",
       "45592                  2         Snack         scooter                  1.0   \n",
       "\n",
       "      Festival           City  Time_taken (min)  \n",
       "0           No          Urban              24.0  \n",
       "1           No  Metropolitian              33.0  \n",
       "2           No          Urban              26.0  \n",
       "3           No  Metropolitian              21.0  \n",
       "4           No  Metropolitian              30.0  \n",
       "...        ...            ...               ...  \n",
       "45588       No  Metropolitian              32.0  \n",
       "45589       No  Metropolitian              36.0  \n",
       "45590       No  Metropolitian              16.0  \n",
       "45591       No  Metropolitian              26.0  \n",
       "45592       No  Metropolitian              36.0  \n",
       "\n",
       "[45593 rows x 20 columns]"
      ]
     },
     "execution_count": 4,
     "metadata": {},
     "output_type": "execute_result"
    }
   ],
   "source": [
    "df_train"
   ]
  },
  {
   "cell_type": "markdown",
   "id": "3751dbec",
   "metadata": {
    "ExecuteTime": {
     "end_time": "2022-08-29T06:52:59.348158Z",
     "start_time": "2022-08-29T06:52:59.327174Z"
    }
   },
   "source": [
    "### `ID`    : *Represent a unique identification of an entry.*"
   ]
  },
  {
   "cell_type": "code",
   "execution_count": 5,
   "id": "e40ec579",
   "metadata": {
    "ExecuteTime": {
     "end_time": "2022-09-01T13:33:56.184266Z",
     "start_time": "2022-09-01T13:33:56.159335Z"
    }
   },
   "outputs": [
    {
     "data": {
      "text/plain": [
       "45593"
      ]
     },
     "execution_count": 5,
     "metadata": {},
     "output_type": "execute_result"
    }
   ],
   "source": [
    "df_train['ID'].nunique()"
   ]
  },
  {
   "cell_type": "markdown",
   "id": "bc9ad261",
   "metadata": {},
   "source": [
    "### `Delivery_person_ID` :\t*Represent a unique identification of a delivery person.*"
   ]
  },
  {
   "cell_type": "code",
   "execution_count": 6,
   "id": "e71c9c80",
   "metadata": {
    "ExecuteTime": {
     "end_time": "2022-09-01T13:33:57.928282Z",
     "start_time": "2022-09-01T13:33:57.906338Z"
    }
   },
   "outputs": [
    {
     "name": "stdout",
     "output_type": "stream",
     "text": [
      "Number of delivery persons :  1320\n"
     ]
    }
   ],
   "source": [
    "# Number of delivery person\n",
    "print('Number of delivery persons : ', df_train['Delivery_person_ID'].nunique())"
   ]
  },
  {
   "cell_type": "code",
   "execution_count": 7,
   "id": "67e5008b",
   "metadata": {
    "ExecuteTime": {
     "end_time": "2022-09-01T13:34:01.696351Z",
     "start_time": "2022-09-01T13:33:59.584196Z"
    }
   },
   "outputs": [
    {
     "name": "stdout",
     "output_type": "stream",
     "text": [
      "Top 15 Devilery Persons Delivey in this dataset\n"
     ]
    },
    {
     "data": {
      "image/png": "[encoded data removed]",
      "text/plain": [
       "<Figure size 1080x360 with 1 Axes>"
      ]
     },
     "metadata": {
      "needs_background": "light"
     },
     "output_type": "display_data"
    }
   ],
   "source": [
    "# Top 15 Devilery Person Delivey in this dataset\n",
    "print('Top 15 Devilery Persons Delivey in this dataset')\n",
    "plt.figure(figsize=(15, 5))\n",
    "sns.barplot(x = df_train['Delivery_person_ID'].value_counts()[:15].index,\n",
    "            y = df_train['Delivery_person_ID'].value_counts()[:15].values)\n",
    "plt.xticks(rotation=90)\n",
    "plt.title('Top 15 Person Number of time they delivery')\n",
    "plt.show()"
   ]
  },
  {
   "cell_type": "markdown",
   "id": "f79d4524",
   "metadata": {},
   "source": [
    "### `Delivery_person_Age` :\t*Represent the age of a delivery person*"
   ]
  },
  {
   "cell_type": "code",
   "execution_count": 8,
   "id": "88e2cb7c",
   "metadata": {
    "ExecuteTime": {
     "end_time": "2022-09-01T13:34:08.596498Z",
     "start_time": "2022-09-01T13:34:08.586523Z"
    }
   },
   "outputs": [
    {
     "name": "stdout",
     "output_type": "stream",
     "text": [
      "Number of Null value in Deliver Person Age : 1854\n"
     ]
    }
   ],
   "source": [
    "# Null value\n",
    "print('Number of Null value in Deliver Person Age :' , df_train['Delivery_person_Age'].isna().sum())"
   ]
  },
  {
   "cell_type": "code",
   "execution_count": 9,
   "id": "99b95775",
   "metadata": {
    "ExecuteTime": {
     "end_time": "2022-09-01T13:34:10.022533Z",
     "start_time": "2022-09-01T13:34:09.753022Z"
    }
   },
   "outputs": [
    {
     "data": {
      "image/png": "[encoded data removed]",
      "text/plain": [
       "<Figure size 432x288 with 1 Axes>"
      ]
     },
     "metadata": {
      "needs_background": "light"
     },
     "output_type": "display_data"
    }
   ],
   "source": [
    "# Most frequent Age of Delivery person age\n",
    "sns.histplot(df_train['Delivery_person_Age'])\n",
    "plt.title('Frequency of Delivery Person Age')\n",
    "plt.show()"
   ]
  },
  {
   "cell_type": "code",
   "execution_count": 10,
   "id": "1fb60213",
   "metadata": {
    "ExecuteTime": {
     "end_time": "2022-09-01T13:34:12.492330Z",
     "start_time": "2022-09-01T13:34:12.473381Z"
    },
    "scrolled": false
   },
   "outputs": [],
   "source": [
    "# fill Null value by mode value\n",
    "age_nom = df_train['Delivery_person_Age'].value_counts(normalize=True)\n",
    "fill_train_age = pd.Series(np.random.choice(age_nom.index, p=age_nom.values, size=len(df_train)))\n",
    "df_train['Delivery_person_Age'].fillna(fill_train_age, inplace=True)"
   ]
  },
  {
   "cell_type": "markdown",
   "id": "09c8b66b",
   "metadata": {},
   "source": [
    "> I fill null value in Age by same ratio by present train dataset, Because If I fill null value by Mean or Median value then Age data will be bias so I fill this column value by own ratio."
   ]
  },
  {
   "cell_type": "markdown",
   "id": "496ed9dc",
   "metadata": {},
   "source": [
    "### `Delivery_person_Ratings` :\t*Represent the average ratings given to the delivery person. (1 to 5)*"
   ]
  },
  {
   "cell_type": "code",
   "execution_count": 11,
   "id": "45a09305",
   "metadata": {
    "ExecuteTime": {
     "end_time": "2022-09-01T13:34:16.556777Z",
     "start_time": "2022-09-01T13:34:16.535786Z"
    }
   },
   "outputs": [
    {
     "data": {
      "text/plain": [
       "1908"
      ]
     },
     "execution_count": 11,
     "metadata": {},
     "output_type": "execute_result"
    }
   ],
   "source": [
    "df_train['Delivery_person_Ratings'].isna().sum()"
   ]
  },
  {
   "cell_type": "code",
   "execution_count": 12,
   "id": "f02a42dc",
   "metadata": {
    "ExecuteTime": {
     "end_time": "2022-09-01T13:34:17.602317Z",
     "start_time": "2022-09-01T13:34:17.104975Z"
    }
   },
   "outputs": [
    {
     "data": {
      "text/plain": [
       "<AxesSubplot:xlabel='Delivery_person_Ratings', ylabel='Count'>"
      ]
     },
     "execution_count": 12,
     "metadata": {},
     "output_type": "execute_result"
    },
    {
     "data": {
      "image/png": "[encoded data removed]",
      "text/plain": [
       "<Figure size 432x288 with 1 Axes>"
      ]
     },
     "metadata": {
      "needs_background": "light"
     },
     "output_type": "display_data"
    }
   ],
   "source": [
    "sns.histplot(df_train['Delivery_person_Ratings'])"
   ]
  },
  {
   "cell_type": "code",
   "execution_count": 13,
   "id": "f3c27489",
   "metadata": {
    "ExecuteTime": {
     "end_time": "2022-09-01T13:34:20.034810Z",
     "start_time": "2022-09-01T13:34:20.024836Z"
    }
   },
   "outputs": [
    {
     "name": "stdout",
     "output_type": "stream",
     "text": [
      "Delivery Person Ratings Median value : 4.7\n"
     ]
    }
   ],
   "source": [
    "# fill null value by median value\n",
    "print('Delivery Person Ratings Median value :', df_train['Delivery_person_Ratings'].median())\n",
    "df_train['Delivery_person_Ratings'].fillna(4.7, inplace=True)"
   ]
  },
  {
   "cell_type": "markdown",
   "id": "574a5097",
   "metadata": {},
   "source": [
    "### Location of Restaurant\n",
    "`Restaurant_latitude` :\t*Represent the latitude of the restaurant.*\n",
    "\n",
    "`Restaurant_longitude` :\t*Represent the longitude of the restaurant.*"
   ]
  },
  {
   "cell_type": "code",
   "execution_count": 14,
   "id": "9ed46535",
   "metadata": {
    "ExecuteTime": {
     "end_time": "2022-09-01T13:34:23.537247Z",
     "start_time": "2022-09-01T13:34:23.064024Z"
    }
   },
   "outputs": [],
   "source": [
    "import folium"
   ]
  },
  {
   "cell_type": "code",
   "execution_count": 15,
   "id": "828af9c5",
   "metadata": {
    "ExecuteTime": {
     "end_time": "2022-09-01T13:34:26.071483Z",
     "start_time": "2022-09-01T13:34:25.975703Z"
    },
    "scrolled": false
   },
   "outputs": [],
   "source": [
    "rest_location = df_train['Restaurant_latitude'].astype(str) + ',' + df_train['Restaurant_longitude'].astype(str)\n",
    "rest_location = rest_location.value_counts().reset_index().rename(columns={0: 'Count'})\n",
    "rest_loc = rest_location['index'].str.split(',', expand=True).rename(columns={0:'lati', 1:'long'})\n",
    "rest_loc['count'] = rest_location['Count']"
   ]
  },
  {
   "cell_type": "code",
   "execution_count": 16,
   "id": "9c2506e6",
   "metadata": {
    "ExecuteTime": {
     "end_time": "2022-09-01T13:34:29.091521Z",
     "start_time": "2022-09-01T13:34:29.081548Z"
    }
   },
   "outputs": [
    {
     "name": "stdout",
     "output_type": "stream",
     "text": [
      "Number of Restaurants : 706\n"
     ]
    }
   ],
   "source": [
    "# number of Restaurants\n",
    "print('Number of Restaurants :', len(rest_loc))"
   ]
  },
  {
   "cell_type": "code",
   "execution_count": 17,
   "id": "7637005c",
   "metadata": {
    "ExecuteTime": {
     "end_time": "2022-09-01T13:34:31.551307Z",
     "start_time": "2022-09-01T13:34:31.498412Z"
    }
   },
   "outputs": [],
   "source": [
    "m = folium.Map(location=[rest_loc['lati'][0], rest_loc['long'][0]])\n",
    "for lat, long, count in rest_loc.values:\n",
    "    folium.Marker(location=[lat, long],\n",
    "                  tooltip=folium.map.Tooltip(text='<p><b>Num Order:</b> {0}'.format(count))).add_to(m)\n",
    "# display(m)"
   ]
  },
  {
   "cell_type": "markdown",
   "id": "35246ae7",
   "metadata": {},
   "source": [
    "### Location of Delivery\n",
    "`Delivery_location_latitude` :\t*Represent the latitude of the Delivery location.*\n",
    "\n",
    "`Delivery_location_longitude` :\t*Represent the longitude of the Delivery location.*"
   ]
  },
  {
   "cell_type": "code",
   "execution_count": 18,
   "id": "02fe6ea1",
   "metadata": {
    "ExecuteTime": {
     "end_time": "2022-09-01T13:34:34.973898Z",
     "start_time": "2022-09-01T13:34:34.856053Z"
    }
   },
   "outputs": [],
   "source": [
    "dest_location = df_train['Delivery_location_latitude'].astype(str) + ',' + df_train['Delivery_location_longitude'].astype(str)\n",
    "dest_location = dest_location.value_counts().reset_index().rename(columns={0: 'Count'})\n",
    "dest_loc = dest_location['index'].str.split(',', expand=True).rename(columns={0:'lati', 1:'long'})\n",
    "dest_loc['count'] = dest_location['Count']"
   ]
  },
  {
   "cell_type": "code",
   "execution_count": 19,
   "id": "5b9bd995",
   "metadata": {
    "ExecuteTime": {
     "end_time": "2022-09-01T13:34:36.833730Z",
     "start_time": "2022-09-01T13:34:36.817774Z"
    }
   },
   "outputs": [
    {
     "name": "stdout",
     "output_type": "stream",
     "text": [
      "Number of Restaurants : 4373\n"
     ]
    }
   ],
   "source": [
    "# number of Restaurants\n",
    "print('Number of Restaurants :', len(dest_loc))"
   ]
  },
  {
   "cell_type": "code",
   "execution_count": 20,
   "id": "90c7e514",
   "metadata": {
    "ExecuteTime": {
     "end_time": "2022-09-01T13:34:38.290650Z",
     "start_time": "2022-09-01T13:34:38.138468Z"
    }
   },
   "outputs": [],
   "source": [
    "m = folium.Map(location=[dest_loc['lati'][0], dest_loc['long'][0]])\n",
    "for lat, long, count in dest_loc.values:\n",
    "    folium.Marker(location=[lat, long],\n",
    "                  tooltip=folium.map.Tooltip(text='<p><b>Num Order:</b> {0}'.format(count))).add_to(m)\n",
    "# display(m)"
   ]
  },
  {
   "cell_type": "markdown",
   "id": "9e9b573f",
   "metadata": {},
   "source": [
    "> As per visualize in delivery data has some wrong data."
   ]
  },
  {
   "cell_type": "markdown",
   "id": "5597b738",
   "metadata": {},
   "source": [
    "### `Order_Date` :\t*Represent the date when the order was placed.*"
   ]
  },
  {
   "cell_type": "code",
   "execution_count": 21,
   "id": "4c72524d",
   "metadata": {
    "ExecuteTime": {
     "end_time": "2022-09-01T13:34:41.421951Z",
     "start_time": "2022-09-01T13:34:41.208266Z"
    },
    "code_folding": []
   },
   "outputs": [],
   "source": [
    "# pd.to_datetime(df_train['Order_Date'], format=\"%d-%m-%y\")\n",
    "o_date = df_train['Order_Date'].str.split('-', expand=True).rename(columns={0:'Day', 1:'Month', 2:'Year'})\n",
    "o_date['Date'] = o_date['Year'] + '-' + o_date['Month'] + '-' + o_date['Day']\n",
    "df_train['Order_Date'] = pd.to_datetime(o_date['Date'])"
   ]
  },
  {
   "cell_type": "code",
   "execution_count": 22,
   "id": "1cb1a550",
   "metadata": {
    "ExecuteTime": {
     "end_time": "2022-09-01T13:34:42.648335Z",
     "start_time": "2022-09-01T13:34:42.630383Z"
    },
    "code_folding": []
   },
   "outputs": [],
   "source": [
    "def breack_down_date(dataframe, date_col):\n",
    "    col_index = [index for index, col in enumerate(dataframe.columns) if col == date_col][0]\n",
    "    dataframe.insert(col_index + 1, column=f\"{date_col}_Year\", value=dataframe[date_col].dt.year.values)\n",
    "    dataframe.insert(col_index + 2, column=f\"{date_col}_Month\", value=dataframe[date_col].dt.month.values)\n",
    "    dataframe.insert(col_index + 3, column=f\"{date_col}_Day\", value=dataframe[date_col].dt.day.values)\n",
    "    dataframe.insert(col_index + 4, column=f\"{date_col}_WeekDay\", value=dataframe[date_col].dt.weekday.values)\n",
    "    dataframe.insert(col_index + 5, column=f\"{date_col}_Week\", value=dataframe[date_col].dt.isocalendar().week.values)\n",
    "    dataframe.insert(col_index + 6, column=f\"{date_col}_Quarter\", value=dataframe[date_col].dt.quarter.values)"
   ]
  },
  {
   "cell_type": "code",
   "execution_count": 23,
   "id": "e5a226fd",
   "metadata": {
    "ExecuteTime": {
     "end_time": "2022-09-01T13:34:45.889203Z",
     "start_time": "2022-09-01T13:34:45.825337Z"
    }
   },
   "outputs": [],
   "source": [
    "breack_down_date(df_train, 'Order_Date')"
   ]
  },
  {
   "cell_type": "markdown",
   "id": "29133309",
   "metadata": {},
   "source": [
    "### `Time_Orderd` :\t*Represent the time when the order was placed.*"
   ]
  },
  {
   "cell_type": "code",
   "execution_count": 24,
   "id": "1eddbcae",
   "metadata": {
    "ExecuteTime": {
     "end_time": "2022-09-01T13:34:49.157463Z",
     "start_time": "2022-09-01T13:34:49.141838Z"
    }
   },
   "outputs": [
    {
     "data": {
      "text/plain": [
       "0    21:55\n",
       "Name: Time_Orderd, dtype: object"
      ]
     },
     "execution_count": 24,
     "metadata": {},
     "output_type": "execute_result"
    }
   ],
   "source": [
    "df_train['Time_Orderd'].mode()"
   ]
  },
  {
   "cell_type": "code",
   "execution_count": 25,
   "id": "1a67844b",
   "metadata": {
    "ExecuteTime": {
     "end_time": "2022-09-01T13:34:50.222442Z",
     "start_time": "2022-09-01T13:34:50.206783Z"
    }
   },
   "outputs": [],
   "source": [
    "def breack_down_time(dataframe, time_col):\n",
    "    col_index = [\n",
    "        index for index, col in enumerate(dataframe.columns) if col == time_col\n",
    "    ][0]\n",
    "    dataframe.insert(\n",
    "        col_index + 1,\n",
    "        column=f\"{time_col}_hour\",\n",
    "        value=pd.DatetimeIndex(\n",
    "            pd.to_timedelta(dataframe[time_col] +\n",
    "                            ':00').values.astype('datetime64[ns]')).hour)\n",
    "    dataframe.insert(\n",
    "        col_index + 2,\n",
    "        column=f\"{time_col}_min\",\n",
    "        value=pd.DatetimeIndex(\n",
    "            pd.to_timedelta(dataframe[time_col] +\n",
    "                            ':00').values.astype('datetime64[ns]')).minute)"
   ]
  },
  {
   "cell_type": "code",
   "execution_count": 26,
   "id": "708ca8ab",
   "metadata": {
    "ExecuteTime": {
     "end_time": "2022-09-01T13:34:52.238380Z",
     "start_time": "2022-09-01T13:34:51.864253Z"
    }
   },
   "outputs": [],
   "source": [
    "breack_down_time(df_train, 'Time_Orderd')"
   ]
  },
  {
   "cell_type": "code",
   "execution_count": 27,
   "id": "b4c354d3",
   "metadata": {
    "ExecuteTime": {
     "end_time": "2022-09-01T13:34:52.411847Z",
     "start_time": "2022-09-01T13:34:52.399873Z"
    }
   },
   "outputs": [
    {
     "data": {
      "text/plain": [
       "(19.0, 30.0)"
      ]
     },
     "execution_count": 27,
     "metadata": {},
     "output_type": "execute_result"
    }
   ],
   "source": [
    "df_train['Time_Orderd_hour'].median(), df_train['Time_Orderd_min'].median()"
   ]
  },
  {
   "cell_type": "code",
   "execution_count": 28,
   "id": "91977f41",
   "metadata": {
    "ExecuteTime": {
     "end_time": "2022-09-01T13:34:52.601298Z",
     "start_time": "2022-09-01T13:34:52.590331Z"
    }
   },
   "outputs": [],
   "source": [
    "# fill nully value in hour and min in dataset\n",
    "df_train['Time_Orderd_hour'].fillna(value=19, inplace=True)\n",
    "df_train['Time_Orderd_min'].fillna(value=30, inplace=True)"
   ]
  },
  {
   "cell_type": "markdown",
   "id": "11e5b4f3",
   "metadata": {},
   "source": [
    "### `Time_Order_picked` :\t*Represent the time when the order was picked from the restaurant.*"
   ]
  },
  {
   "cell_type": "code",
   "execution_count": 29,
   "id": "67573356",
   "metadata": {
    "ExecuteTime": {
     "end_time": "2022-09-01T13:34:55.466138Z",
     "start_time": "2022-09-01T13:34:55.448186Z"
    }
   },
   "outputs": [
    {
     "data": {
      "text/plain": [
       "0        11:45\n",
       "1        19:50\n",
       "2         8:45\n",
       "3        18:10\n",
       "4        13:45\n",
       "         ...  \n",
       "45588    11:45\n",
       "45589    20:10\n",
       "45590    24:05\n",
       "45591    13:40\n",
       "45592    17:15\n",
       "Name: Time_Order_picked, Length: 45593, dtype: object"
      ]
     },
     "execution_count": 29,
     "metadata": {},
     "output_type": "execute_result"
    }
   ],
   "source": [
    "df_train['Time_Order_picked']"
   ]
  },
  {
   "cell_type": "code",
   "execution_count": 30,
   "id": "c25cdd5f",
   "metadata": {
    "ExecuteTime": {
     "end_time": "2022-09-01T13:34:55.792951Z",
     "start_time": "2022-09-01T13:34:55.593419Z"
    }
   },
   "outputs": [],
   "source": [
    "breack_down_time(df_train, 'Time_Order_picked')"
   ]
  },
  {
   "cell_type": "markdown",
   "id": "2460b1be",
   "metadata": {},
   "source": [
    "### `Weather conditions` : *Represent the weather conditions (windy, sunny, cloudy, stormy, fog, sandstorms, etc.)*"
   ]
  },
  {
   "cell_type": "code",
   "execution_count": 31,
   "id": "6872680c",
   "metadata": {
    "ExecuteTime": {
     "end_time": "2022-09-01T13:34:57.362359Z",
     "start_time": "2022-09-01T13:34:57.348399Z"
    }
   },
   "outputs": [],
   "source": [
    "def fill_na_value_by_norm(col, dataset=None):\n",
    "    if type(col)==str:\n",
    "        data = dataset[col]\n",
    "    elif col:\n",
    "        data = col\n",
    "    norm = data.value_counts(normalize=True)\n",
    "    norm1 = pd.Series(np.random.choice(norm.index, p=norm.values, size=len(data)))\n",
    "    data.fillna(norm1, inplace=True)"
   ]
  },
  {
   "cell_type": "code",
   "execution_count": 32,
   "id": "524197b3",
   "metadata": {
    "ExecuteTime": {
     "end_time": "2022-09-01T13:34:59.263660Z",
     "start_time": "2022-09-01T13:34:59.243714Z"
    },
    "scrolled": true
   },
   "outputs": [],
   "source": [
    "weather_nom = df_train['Weather conditions'].value_counts(normalize=True)\n",
    "weather_random = pd.Series(np.random.choice(weather_nom.index, p=weather_nom.values, size=len(df_train)))\n",
    "df_train['Weather conditions'].fillna(weather_random, inplace=True)"
   ]
  },
  {
   "cell_type": "markdown",
   "id": "3b383ac8",
   "metadata": {},
   "source": [
    "### `Road_traffic_density` :\t*Represent the road traffic density (Jam, High, Medium and Low)*"
   ]
  },
  {
   "cell_type": "code",
   "execution_count": 33,
   "id": "f0fd25d1",
   "metadata": {
    "ExecuteTime": {
     "end_time": "2022-09-01T13:35:02.855338Z",
     "start_time": "2022-09-01T13:35:02.832382Z"
    }
   },
   "outputs": [
    {
     "data": {
      "text/plain": [
       "601"
      ]
     },
     "execution_count": 33,
     "metadata": {},
     "output_type": "execute_result"
    }
   ],
   "source": [
    "df_train['Road_traffic_density'].isna().sum()"
   ]
  },
  {
   "cell_type": "code",
   "execution_count": 34,
   "id": "50e2f547",
   "metadata": {
    "ExecuteTime": {
     "end_time": "2022-09-01T13:35:03.991299Z",
     "start_time": "2022-09-01T13:35:03.979329Z"
    }
   },
   "outputs": [
    {
     "data": {
      "text/plain": [
       "Low       15477\n",
       "Jam       14143\n",
       "Medium    10947\n",
       "High       4425\n",
       "NaN         601\n",
       "Name: Road_traffic_density, dtype: int64"
      ]
     },
     "execution_count": 34,
     "metadata": {},
     "output_type": "execute_result"
    }
   ],
   "source": [
    "df_train['Road_traffic_density'].value_counts(dropna=False)"
   ]
  },
  {
   "cell_type": "code",
   "execution_count": 35,
   "id": "2c081d5d",
   "metadata": {
    "ExecuteTime": {
     "end_time": "2022-09-01T13:35:04.308446Z",
     "start_time": "2022-09-01T13:35:04.295483Z"
    }
   },
   "outputs": [],
   "source": [
    "df_train['Road_traffic_density'].fillna('Low', inplace=True)"
   ]
  },
  {
   "cell_type": "markdown",
   "id": "3e500e70",
   "metadata": {},
   "source": [
    "### `Vehicle_condition` :\t*Represent the condition of the Vehicle. (Smooth, Good or Average)*"
   ]
  },
  {
   "cell_type": "code",
   "execution_count": 36,
   "id": "855b7f5d",
   "metadata": {
    "ExecuteTime": {
     "end_time": "2022-09-01T13:35:06.518459Z",
     "start_time": "2022-09-01T13:35:06.507453Z"
    }
   },
   "outputs": [
    {
     "data": {
      "text/plain": [
       "0"
      ]
     },
     "execution_count": 36,
     "metadata": {},
     "output_type": "execute_result"
    }
   ],
   "source": [
    "df_train['Vehicle_condition'].isna().sum()"
   ]
  },
  {
   "cell_type": "code",
   "execution_count": 37,
   "id": "94751a14",
   "metadata": {
    "ExecuteTime": {
     "end_time": "2022-09-01T13:35:06.660045Z",
     "start_time": "2022-09-01T13:35:06.637104Z"
    }
   },
   "outputs": [
    {
     "data": {
      "text/plain": [
       "2    15034\n",
       "1    15030\n",
       "0    15009\n",
       "3      520\n",
       "Name: Vehicle_condition, dtype: int64"
      ]
     },
     "execution_count": 37,
     "metadata": {},
     "output_type": "execute_result"
    }
   ],
   "source": [
    "df_train['Vehicle_condition'].value_counts()"
   ]
  },
  {
   "cell_type": "markdown",
   "id": "95d1ab42",
   "metadata": {},
   "source": [
    "### `Type_of_order` :\t*Represent the type of order (Snack, Meal, Buffet, Drinks, etc.)*"
   ]
  },
  {
   "cell_type": "code",
   "execution_count": 38,
   "id": "761309e4",
   "metadata": {
    "ExecuteTime": {
     "end_time": "2022-09-01T13:35:11.061875Z",
     "start_time": "2022-09-01T13:35:11.043922Z"
    }
   },
   "outputs": [
    {
     "data": {
      "text/plain": [
       "0"
      ]
     },
     "execution_count": 38,
     "metadata": {},
     "output_type": "execute_result"
    }
   ],
   "source": [
    "df_train['Type_of_order'].isna().sum()"
   ]
  },
  {
   "cell_type": "code",
   "execution_count": 39,
   "id": "8569b5de",
   "metadata": {
    "ExecuteTime": {
     "end_time": "2022-09-01T13:35:11.378697Z",
     "start_time": "2022-09-01T13:35:11.366731Z"
    }
   },
   "outputs": [
    {
     "data": {
      "text/plain": [
       "Snack     11533\n",
       "Meal      11458\n",
       "Drinks    11322\n",
       "Buffet    11280\n",
       "Name: Type_of_order, dtype: int64"
      ]
     },
     "execution_count": 39,
     "metadata": {},
     "output_type": "execute_result"
    }
   ],
   "source": [
    "df_train['Type_of_order'].value_counts()"
   ]
  },
  {
   "cell_type": "markdown",
   "id": "1c0529f4",
   "metadata": {},
   "source": [
    "### `Type_of_vehicle` :\t*Represent the type of vehicle one is using (Motorbike, Bicycle etc.)*"
   ]
  },
  {
   "cell_type": "code",
   "execution_count": 40,
   "id": "bf247e14",
   "metadata": {
    "ExecuteTime": {
     "end_time": "2022-09-01T13:35:15.560598Z",
     "start_time": "2022-09-01T13:35:15.544603Z"
    }
   },
   "outputs": [
    {
     "data": {
      "text/plain": [
       "0"
      ]
     },
     "execution_count": 40,
     "metadata": {},
     "output_type": "execute_result"
    }
   ],
   "source": [
    "df_train['Type_of_vehicle'].isna().sum()"
   ]
  },
  {
   "cell_type": "code",
   "execution_count": 41,
   "id": "4981d253",
   "metadata": {
    "ExecuteTime": {
     "end_time": "2022-09-01T13:35:16.382508Z",
     "start_time": "2022-09-01T13:35:16.368507Z"
    }
   },
   "outputs": [
    {
     "data": {
      "text/plain": [
       "motorcycle          26435\n",
       "scooter             15276\n",
       "electric_scooter     3814\n",
       "bicycle                68\n",
       "Name: Type_of_vehicle, dtype: int64"
      ]
     },
     "execution_count": 41,
     "metadata": {},
     "output_type": "execute_result"
    }
   ],
   "source": [
    "df_train['Type_of_vehicle'].value_counts()"
   ]
  },
  {
   "cell_type": "markdown",
   "id": "1734c46d",
   "metadata": {},
   "source": [
    "### `multiple_deliveries` :\t*Represent the number of orders to be delivered in one attempt.*"
   ]
  },
  {
   "cell_type": "code",
   "execution_count": 42,
   "id": "4ad13a89",
   "metadata": {
    "ExecuteTime": {
     "end_time": "2022-09-01T13:35:21.538659Z",
     "start_time": "2022-09-01T13:35:21.526659Z"
    }
   },
   "outputs": [
    {
     "data": {
      "text/plain": [
       "993"
      ]
     },
     "execution_count": 42,
     "metadata": {},
     "output_type": "execute_result"
    }
   ],
   "source": [
    "df_train['multiple_deliveries'].isna().sum()"
   ]
  },
  {
   "cell_type": "code",
   "execution_count": 43,
   "id": "c99b95cf",
   "metadata": {
    "ExecuteTime": {
     "end_time": "2022-09-01T13:35:33.417634Z",
     "start_time": "2022-09-01T13:35:33.408697Z"
    }
   },
   "outputs": [
    {
     "data": {
      "text/plain": [
       "1.0    28159\n",
       "0.0    14095\n",
       "2.0     1985\n",
       "3.0      361\n",
       "Name: multiple_deliveries, dtype: int64"
      ]
     },
     "execution_count": 43,
     "metadata": {},
     "output_type": "execute_result"
    }
   ],
   "source": [
    "df_train['multiple_deliveries'].value_counts()"
   ]
  },
  {
   "cell_type": "code",
   "execution_count": 44,
   "id": "fe5c08b8",
   "metadata": {
    "ExecuteTime": {
     "end_time": "2022-09-01T13:35:34.108592Z",
     "start_time": "2022-09-01T13:35:34.088607Z"
    }
   },
   "outputs": [],
   "source": [
    "df_train['multiple_deliveries'].fillna(1., inplace=True)"
   ]
  },
  {
   "cell_type": "markdown",
   "id": "cd2e602c",
   "metadata": {},
   "source": [
    "### `Festival` :\t*Represent whether day is festive or not.*"
   ]
  },
  {
   "cell_type": "code",
   "execution_count": 45,
   "id": "c31b926a",
   "metadata": {
    "ExecuteTime": {
     "end_time": "2022-09-01T13:35:35.649837Z",
     "start_time": "2022-09-01T13:35:35.632887Z"
    }
   },
   "outputs": [
    {
     "data": {
      "text/plain": [
       "228"
      ]
     },
     "execution_count": 45,
     "metadata": {},
     "output_type": "execute_result"
    }
   ],
   "source": [
    "df_train['Festival'].isna().sum()"
   ]
  },
  {
   "cell_type": "code",
   "execution_count": 46,
   "id": "a33c0395",
   "metadata": {
    "ExecuteTime": {
     "end_time": "2022-09-01T13:35:36.364215Z",
     "start_time": "2022-09-01T13:35:36.345232Z"
    }
   },
   "outputs": [
    {
     "data": {
      "text/plain": [
       "No     44469\n",
       "Yes      896\n",
       "Name: Festival, dtype: int64"
      ]
     },
     "execution_count": 46,
     "metadata": {},
     "output_type": "execute_result"
    }
   ],
   "source": [
    "df_train['Festival'].value_counts()"
   ]
  },
  {
   "cell_type": "code",
   "execution_count": 47,
   "id": "9572dc9b",
   "metadata": {
    "ExecuteTime": {
     "end_time": "2022-09-01T13:35:39.128784Z",
     "start_time": "2022-09-01T13:35:39.112864Z"
    }
   },
   "outputs": [],
   "source": [
    "df_train['Festival'].fillna('No', inplace=True)"
   ]
  },
  {
   "cell_type": "markdown",
   "id": "a336600b",
   "metadata": {},
   "source": [
    "### `City` :\t*Represent the city*"
   ]
  },
  {
   "cell_type": "code",
   "execution_count": 48,
   "id": "f5455867",
   "metadata": {
    "ExecuteTime": {
     "end_time": "2022-09-01T13:35:43.067231Z",
     "start_time": "2022-09-01T13:35:43.057258Z"
    }
   },
   "outputs": [
    {
     "data": {
      "text/plain": [
       "1200"
      ]
     },
     "execution_count": 48,
     "metadata": {},
     "output_type": "execute_result"
    }
   ],
   "source": [
    "df_train['City'].isna().sum()"
   ]
  },
  {
   "cell_type": "code",
   "execution_count": 49,
   "id": "a77f33cb",
   "metadata": {
    "ExecuteTime": {
     "end_time": "2022-09-01T13:35:43.765772Z",
     "start_time": "2022-09-01T13:35:43.750810Z"
    }
   },
   "outputs": [
    {
     "data": {
      "text/plain": [
       "Metropolitian    34093\n",
       "Urban            10136\n",
       "Semi-Urban         164\n",
       "Name: City, dtype: int64"
      ]
     },
     "execution_count": 49,
     "metadata": {},
     "output_type": "execute_result"
    }
   ],
   "source": [
    "df_train['City'].value_counts()"
   ]
  },
  {
   "cell_type": "code",
   "execution_count": 50,
   "id": "e1af1df5",
   "metadata": {
    "ExecuteTime": {
     "end_time": "2022-09-01T13:35:44.494718Z",
     "start_time": "2022-09-01T13:35:44.480760Z"
    }
   },
   "outputs": [],
   "source": [
    "df_train['City'].fillna('Metropolitian', inplace=True)"
   ]
  },
  {
   "cell_type": "markdown",
   "id": "4646eddc",
   "metadata": {},
   "source": [
    "### `Time_taken (min)` :\t*Represent the time taken by the delivery person to deliver the order. TARGET*"
   ]
  },
  {
   "cell_type": "code",
   "execution_count": 51,
   "id": "8704f73d",
   "metadata": {
    "ExecuteTime": {
     "end_time": "2022-09-01T13:35:48.387028Z",
     "start_time": "2022-09-01T13:35:48.376058Z"
    }
   },
   "outputs": [
    {
     "data": {
      "text/plain": [
       "0        24.0\n",
       "1        33.0\n",
       "2        26.0\n",
       "3        21.0\n",
       "4        30.0\n",
       "         ... \n",
       "45588    32.0\n",
       "45589    36.0\n",
       "45590    16.0\n",
       "45591    26.0\n",
       "45592    36.0\n",
       "Name: Time_taken (min), Length: 45593, dtype: float64"
      ]
     },
     "execution_count": 51,
     "metadata": {},
     "output_type": "execute_result"
    }
   ],
   "source": [
    "df_train['Time_taken (min)']"
   ]
  },
  {
   "cell_type": "code",
   "execution_count": 52,
   "id": "73d8937f",
   "metadata": {
    "ExecuteTime": {
     "end_time": "2022-09-01T13:35:49.057138Z",
     "start_time": "2022-09-01T13:35:48.963868Z"
    }
   },
   "outputs": [
    {
     "data": {
      "text/plain": [
       "ID                                0\n",
       "Delivery_person_ID                0\n",
       "Delivery_person_Age               0\n",
       "Delivery_person_Ratings           0\n",
       "Restaurant_latitude               0\n",
       "Restaurant_longitude              0\n",
       "Delivery_location_latitude        0\n",
       "Delivery_location_longitude       0\n",
       "Order_Date                        0\n",
       "Order_Date_Year                   0\n",
       "Order_Date_Month                  0\n",
       "Order_Date_Day                    0\n",
       "Order_Date_WeekDay                0\n",
       "Order_Date_Week                   0\n",
       "Order_Date_Quarter                0\n",
       "Time_Orderd                    1731\n",
       "Time_Orderd_hour                  0\n",
       "Time_Orderd_min                   0\n",
       "Time_Order_picked                 0\n",
       "Time_Order_picked_hour            0\n",
       "Time_Order_picked_min             0\n",
       "Weather conditions                0\n",
       "Road_traffic_density              0\n",
       "Vehicle_condition                 0\n",
       "Type_of_order                     0\n",
       "Type_of_vehicle                   0\n",
       "multiple_deliveries               0\n",
       "Festival                          0\n",
       "City                              0\n",
       "Time_taken (min)                  0\n",
       "dtype: int64"
      ]
     },
     "execution_count": 52,
     "metadata": {},
     "output_type": "execute_result"
    }
   ],
   "source": [
    "df_train.isna().sum()"
   ]
  },
  {
   "cell_type": "markdown",
   "id": "73630205",
   "metadata": {},
   "source": [
    "### Model"
   ]
  },
  {
   "cell_type": "code",
   "execution_count": 59,
   "id": "05b2acd2",
   "metadata": {
    "ExecuteTime": {
     "end_time": "2022-09-02T08:08:46.656354Z",
     "start_time": "2022-09-02T08:08:45.240012Z"
    }
   },
   "outputs": [],
   "source": [
    "from sklearn.preprocessing import LabelEncoder, OneHotEncoder, MinMaxScaler\n",
    "from sklearn.model_selection import train_test_split\n",
    "from catboost import CatBoostRegressor"
   ]
  },
  {
   "cell_type": "code",
   "execution_count": 60,
   "id": "a04c5f2b",
   "metadata": {
    "ExecuteTime": {
     "end_time": "2022-09-02T08:08:48.639566Z",
     "start_time": "2022-09-02T08:08:48.614668Z"
    }
   },
   "outputs": [],
   "source": [
    "def labelencoder_fit_transform(dataframe):\n",
    "    data = dataframe.copy()\n",
    "    obj_cols = data.select_dtypes('object').columns\n",
    "    obj_cols_fit = {}\n",
    "    for col in obj_cols:\n",
    "        obj_cols_fit[col] = LabelEncoder().fit(data[col])\n",
    "    for col, labeled in obj_cols_fit.items():\n",
    "        data[col] = labeled.fit_transform(data[col])\n",
    "    return obj_cols_fit, data\n",
    "\n",
    "def labelencoder_only_transform(labeled_dict, new_data):\n",
    "    data = new_data.copy()\n",
    "    for col, lable in labeled_dict.items():\n",
    "        if col in data.columns:\n",
    "            data[col] = lable.fit_transform(data[col])\n",
    "    return data\n",
    "\n",
    "def onehotencoder_fit_transform(dataframe, columns, drop=True, drop_first=True):\n",
    "    data = dataframe.copy()\n",
    "    if type(columns) == list:\n",
    "        cols = columns\n",
    "    else:\n",
    "        cols = [columns]\n",
    "    col_fit = {}\n",
    "    for c in cols:\n",
    "        if drop_first:\n",
    "            col_fit[c] = one_hot = OneHotEncoder(drop='first').fit(data[[c]])\n",
    "            temp_arr = pd.DataFrame(data=one_hot.transform(data[[c]]).toarray(),\n",
    "                                    columns=one_hot.categories_[0][1:])\n",
    "            index_col = [i for i, col in enumerate(data.columns) if col == c][0]\n",
    "            for k, i in enumerate(temp_arr.columns):\n",
    "                data.insert(index_col + k + 1, column=f\"{c}_{i}\", value=temp_arr[i])\n",
    "        else:\n",
    "            col_fit[c] = one_hot = OneHotEncoder().fit(data[[c]])\n",
    "            temp_arr = pd.DataFrame(data=one_hot.transform(data[[c]]).toarray(),\n",
    "                                    columns=one_hot.categories_[0])\n",
    "            index_col = [i for i, col in enumerate(data.columns) if col == c][0]\n",
    "            for k, i in enumerate(temp_arr.columns):\n",
    "                data.insert(index_col + k + 1, column=f\"{c}_{i}\", value=temp_arr[i])\n",
    "    if drop:\n",
    "        return col_fit, data.drop(columns=cols)\n",
    "    return col_fit, data\n",
    "\n",
    "def onehotencoder_only_transform(onehot_dict, new_data, drop=True):\n",
    "    data = new_data.copy()\n",
    "    for col, lable in onehot_dict.items():\n",
    "        if col in data.columns:\n",
    "            temp_arr = pd.DataFrame(data=lable.transform(data[[col]]).toarray(),\n",
    "                                    columns=lable.categories_[0][1:])\n",
    "            index_col = [i for i, c in enumerate(data.columns) if c == col][0]\n",
    "            for k, i in enumerate(temp_arr.columns):\n",
    "                data.insert(index_col + k + 1, column=f\"{col}_{i}\", value=temp_arr[i])\n",
    "    if drop:\n",
    "        return data.drop(columns=[x for x in onehot_dict.keys()])\n",
    "    return data"
   ]
  },
  {
   "cell_type": "code",
   "execution_count": 73,
   "id": "226f8003",
   "metadata": {
    "ExecuteTime": {
     "end_time": "2022-09-02T08:17:30.244798Z",
     "start_time": "2022-09-02T08:17:30.233790Z"
    }
   },
   "outputs": [
    {
     "data": {
      "text/plain": [
       "array([0.03, 0.04, 0.05, 0.06, 0.07, 0.08, 0.09, 0.1 ])"
      ]
     },
     "execution_count": 73,
     "metadata": {},
     "output_type": "execute_result"
    }
   ],
   "source": [
    "np.arange(0.03, .1, .01)"
   ]
  },
  {
   "cell_type": "code",
   "execution_count": 101,
   "id": "33388fd1",
   "metadata": {
    "ExecuteTime": {
     "end_time": "2022-09-02T17:33:43.107137Z",
     "start_time": "2022-09-02T17:33:42.864584Z"
    }
   },
   "outputs": [],
   "source": [
    "df_temp = df_train.drop(columns=['ID', 'Order_Date', 'Time_Orderd', 'Order_Date_Year'])\n",
    "\n",
    "label_dict, df_final = labelencoder_fit_transform(df_temp)\n",
    "\n",
    "x = df_final.drop(columns='Time_taken (min)')\n",
    "y = df_final['Time_taken (min)']\n",
    "\n",
    "scaller = MinMaxScaler()\n",
    "scaller.fit(x)\n",
    "x = scaller.transform(x)\n",
    "\n",
    "x_train, x_test, y_train, y_test = train_test_split(x, y, test_size=0.05, random_state=111)"
   ]
  },
  {
   "cell_type": "code",
   "execution_count": 81,
   "id": "05d23e30",
   "metadata": {
    "ExecuteTime": {
     "end_time": "2022-09-02T09:09:53.268423Z",
     "start_time": "2022-09-02T09:09:53.248478Z"
    }
   },
   "outputs": [
    {
     "data": {
      "text/plain": [
       "array([ 7,  8,  9, 10, 11, 12, 13])"
      ]
     },
     "execution_count": 81,
     "metadata": {},
     "output_type": "execute_result"
    }
   ],
   "source": [
    "np.arange(7, 14, 1)"
   ]
  },
  {
   "cell_type": "code",
   "execution_count": 82,
   "id": "dd52af09",
   "metadata": {
    "ExecuteTime": {
     "end_time": "2022-09-02T10:24:59.760141Z",
     "start_time": "2022-09-02T09:16:24.498207Z"
    },
    "scrolled": false
   },
   "outputs": [
    {
     "data": {
      "application/vnd.jupyter.widget-view+json": {
       "model_id": "c908ca2d4d664affa019ce27cdd657be",
       "version_major": 2,
       "version_minor": 0
      },
      "text/plain": [
       "MetricVisualizer(layout=Layout(align_self='stretch', height='500px'))"
      ]
     },
     "metadata": {},
     "output_type": "display_data"
    },
    {
     "name": "stdout",
     "output_type": "stream",
     "text": [
      "bestTest = 4.11144395\n",
      "bestIteration = 996\n",
      "bestTest = 4.114187467\n",
      "bestIteration = 994\n",
      "bestTest = 4.05961225\n",
      "bestIteration = 1011\n",
      "bestTest = 4.061353372\n",
      "bestIteration = 1098\n",
      "bestTest = 4.082823447\n",
      "bestIteration = 1145\n",
      "bestTest = 4.08276344\n",
      "bestIteration = 1099\n",
      "bestTest = 4.062103346\n",
      "bestIteration = 1197\n",
      "bestTest = 4.03055337\n",
      "bestIteration = 1249\n",
      "bestTest = 4.062526569\n",
      "bestIteration = 1069\n",
      "bestTest = 4.000081379\n",
      "bestIteration = 1098\n",
      "Training on fold [0/5]\n",
      "bestTest = 4.037249072\n",
      "bestIteration = 1199\n",
      "Training on fold [1/5]\n",
      "bestTest = 4.093120564\n",
      "bestIteration = 1178\n",
      "Training on fold [2/5]\n",
      "bestTest = 4.136611477\n",
      "bestIteration = 1139\n",
      "Training on fold [3/5]\n",
      "bestTest = 4.123637377\n",
      "bestIteration = 1025\n",
      "Training on fold [4/5]\n",
      "bestTest = 4.09512385\n",
      "bestIteration = 1199\n"
     ]
    }
   ],
   "source": [
    "model_cat = CatBoostRegressor(verbose=False, task_type=\"GPU\")\n",
    "\n",
    "grid = {'iterations':[1000, 1100, 1200, 1300],\n",
    "        'learning_rate':np.arange(0.08, .13, .01),\n",
    "        'depth':np.arange(7, 14, 1),\n",
    "        'l2_leaf_reg':np.arange(1, 11, 1)}\n",
    "\n",
    "randomized_search_result = model_cat.randomized_search(grid, x, y, cv=5,\n",
    "                                                       plot=True,\n",
    "                                                       train_size=0.95,\n",
    "                                                       verbose=False)"
   ]
  },
  {
   "cell_type": "code",
   "execution_count": 88,
   "id": "e9940600",
   "metadata": {
    "ExecuteTime": {
     "end_time": "2022-09-02T17:11:26.519502Z",
     "start_time": "2022-09-02T17:11:26.494569Z"
    }
   },
   "outputs": [
    {
     "data": {
      "text/plain": [
       "{'loss_function': 'RMSE',\n",
       " 'verbose': False,\n",
       " 'task_type': 'GPU',\n",
       " 'depth': 13,\n",
       " 'l2_leaf_reg': 4,\n",
       " 'iterations': 1200,\n",
       " 'learning_rate': 0.1}"
      ]
     },
     "execution_count": 88,
     "metadata": {},
     "output_type": "execute_result"
    }
   ],
   "source": [
    "'''\n",
    "model_cat_ = CatBoostRegressor(iterations=1200, \n",
    "                                learning_rate=0.1, \n",
    "                                depth=13,\n",
    "                                l2_leaf_reg=4,\n",
    "                                task_type='GPU',\n",
    "                                verbose=False,\n",
    "                                loss_function='RMSE')\n",
    "'''\n",
    "model_cat.get_params()"
   ]
  },
  {
   "cell_type": "code",
   "execution_count": 85,
   "id": "fb1772be",
   "metadata": {
    "ExecuteTime": {
     "end_time": "2022-09-02T14:33:16.258489Z",
     "start_time": "2022-09-02T11:17:21.453875Z"
    },
    "scrolled": true
   },
   "outputs": [
    {
     "data": {
      "application/vnd.jupyter.widget-view+json": {
       "model_id": "e62745b98260463181569c730ab313a1",
       "version_major": 2,
       "version_minor": 0
      },
      "text/plain": [
       "MetricVisualizer(layout=Layout(align_self='stretch', height='500px'))"
      ]
     },
     "metadata": {},
     "output_type": "display_data"
    },
    {
     "name": "stdout",
     "output_type": "stream",
     "text": [
      "bestTest = 4.111881886\n",
      "bestIteration = 1093\n",
      "bestTest = 4.062447073\n",
      "bestIteration = 1095\n",
      "bestTest = 4.05961225\n",
      "bestIteration = 1011\n",
      "bestTest = 4.07485932\n",
      "bestIteration = 1099\n",
      "bestTest = 4.056178026\n",
      "bestIteration = 1084\n",
      "bestTest = 4.071132444\n",
      "bestIteration = 1099\n",
      "bestTest = 4.085693953\n",
      "bestIteration = 1198\n",
      "bestTest = 4.055443855\n",
      "bestIteration = 1198\n",
      "bestTest = 4.057427881\n",
      "bestIteration = 1162\n",
      "bestTest = 4.067452068\n",
      "bestIteration = 1196\n",
      "bestTest = 4.05329021\n",
      "bestIteration = 1192\n",
      "bestTest = 4.064851715\n",
      "bestIteration = 1199\n",
      "bestTest = 4.090769765\n",
      "bestIteration = 1091\n",
      "bestTest = 4.083255641\n",
      "bestIteration = 1048\n",
      "bestTest = 4.03451966\n",
      "bestIteration = 989\n",
      "bestTest = 4.040696806\n",
      "bestIteration = 1074\n",
      "bestTest = 4.035998453\n",
      "bestIteration = 1089\n",
      "bestTest = 4.05793941\n",
      "bestIteration = 1066\n",
      "bestTest = 4.074297773\n",
      "bestIteration = 1199\n",
      "bestTest = 4.083152422\n",
      "bestIteration = 1199\n",
      "bestTest = 4.03308493\n",
      "bestIteration = 1191\n",
      "bestTest = 4.031554711\n",
      "bestIteration = 1197\n",
      "bestTest = 4.032829828\n",
      "bestIteration = 1198\n",
      "bestTest = 4.050867286\n",
      "bestIteration = 1195\n",
      "bestTest = 4.021901986\n",
      "bestIteration = 1096\n",
      "bestTest = 4.026551049\n",
      "bestIteration = 1070\n",
      "bestTest = 4.023655808\n",
      "bestIteration = 1039\n",
      "bestTest = 4.043530696\n",
      "bestIteration = 1043\n",
      "bestTest = 4.01018184\n",
      "bestIteration = 1081\n",
      "bestTest = 4.006699263\n",
      "bestIteration = 1099\n",
      "bestTest = 4.016308542\n",
      "bestIteration = 1194\n",
      "bestTest = 4.026551049\n",
      "bestIteration = 1070\n",
      "bestTest = 4.02364495\n",
      "bestIteration = 1184\n",
      "bestTest = 4.041606825\n",
      "bestIteration = 1180\n",
      "bestTest = 4.000020559\n",
      "bestIteration = 1190\n",
      "bestTest = 4.000735567\n",
      "bestIteration = 1161\n",
      "bestTest = 4.000081379\n",
      "bestIteration = 1098\n",
      "bestTest = 4.011243151\n",
      "bestIteration = 1094\n",
      "bestTest = 3.998695991\n",
      "bestIteration = 1099\n",
      "bestTest = 4.021223762\n",
      "bestIteration = 1082\n",
      "bestTest = 4.015717049\n",
      "bestIteration = 1011\n",
      "bestTest = 4.020988998\n",
      "bestIteration = 1090\n",
      "bestTest = 4.000081379\n",
      "bestIteration = 1098\n",
      "bestTest = 4.004262908\n",
      "bestIteration = 1185\n",
      "bestTest = 3.995293884\n",
      "bestIteration = 1181\n",
      "bestTest = 4.014902083\n",
      "bestIteration = 1191\n",
      "bestTest = 4.015386389\n",
      "bestIteration = 1123\n",
      "bestTest = 4.020766364\n",
      "bestIteration = 1186\n",
      "Training on fold [0/5]\n",
      "bestTest = 4.043233297\n",
      "bestIteration = 1024\n",
      "Training on fold [1/5]\n",
      "bestTest = 4.090726832\n",
      "bestIteration = 1190\n",
      "Training on fold [2/5]\n",
      "bestTest = 4.15286759\n",
      "bestIteration = 1104\n",
      "Training on fold [3/5]\n",
      "bestTest = 4.114479562\n",
      "bestIteration = 1199\n",
      "Training on fold [4/5]\n",
      "bestTest = 4.081396084\n",
      "bestIteration = 1114\n"
     ]
    }
   ],
   "source": [
    "model_cat_3 = CatBoostRegressor(verbose=False, task_type=\"GPU\")\n",
    "\n",
    "grid = {'iterations':[1100, 1200],\n",
    "        'learning_rate':[.1, 0.11, 0.12],\n",
    "        'depth':[9, 10, 11, 13],\n",
    "        'l2_leaf_reg':[4, 6]}\n",
    "\n",
    "grid_search_result_3 = model_cat_3.grid_search(grid, x, y, cv=5,\n",
    "                                               plot=True,\n",
    "                                               train_size=0.95,\n",
    "                                               verbose=False)"
   ]
  },
  {
   "cell_type": "code",
   "execution_count": 86,
   "id": "6a68eb3f",
   "metadata": {
    "ExecuteTime": {
     "end_time": "2022-09-02T14:46:40.134558Z",
     "start_time": "2022-09-02T14:46:40.103606Z"
    }
   },
   "outputs": [
    {
     "data": {
      "text/plain": [
       "{'loss_function': 'RMSE',\n",
       " 'verbose': False,\n",
       " 'task_type': 'GPU',\n",
       " 'depth': 13,\n",
       " 'l2_leaf_reg': 4,\n",
       " 'iterations': 1200,\n",
       " 'learning_rate': 0.12}"
      ]
     },
     "execution_count": 86,
     "metadata": {},
     "output_type": "execute_result"
    }
   ],
   "source": [
    "model_cat_3.get_params()"
   ]
  },
  {
   "cell_type": "code",
   "execution_count": 120,
   "id": "ab1555da",
   "metadata": {
    "ExecuteTime": {
     "end_time": "2022-09-02T18:26:12.582525Z",
     "start_time": "2022-09-02T18:23:35.378457Z"
    }
   },
   "outputs": [
    {
     "data": {
      "application/vnd.jupyter.widget-view+json": {
       "model_id": "798b160a39d34874a13421986f719156",
       "version_major": 2,
       "version_minor": 0
      },
      "text/plain": [
       "MetricVisualizer(layout=Layout(align_self='stretch', height='500px'))"
      ]
     },
     "metadata": {},
     "output_type": "display_data"
    },
    {
     "data": {
      "text/plain": [
       "<catboost.core.CatBoostRegressor at 0x244e63adc60>"
      ]
     },
     "execution_count": 120,
     "metadata": {},
     "output_type": "execute_result"
    }
   ],
   "source": [
    "model_cat_ = CatBoostRegressor(iterations=1000, \n",
    "                                learning_rate=0.1, \n",
    "                                depth=10,\n",
    "                                l2_leaf_reg=7,\n",
    "                                task_type='GPU',\n",
    "                                verbose=False,\n",
    "                                loss_function='RMSE', random_state=111)\n",
    "\n",
    "model_cat_.fit(x, y, plot=True)"
   ]
  },
  {
   "cell_type": "code",
   "execution_count": 121,
   "id": "6c240886",
   "metadata": {
    "ExecuteTime": {
     "end_time": "2022-09-02T18:34:18.599710Z",
     "start_time": "2022-09-02T18:34:18.540872Z"
    }
   },
   "outputs": [
    {
     "data": {
      "text/plain": [
       "0.8221127134660854"
      ]
     },
     "execution_count": 121,
     "metadata": {},
     "output_type": "execute_result"
    }
   ],
   "source": [
    "model_cat_.score(x_test, y_test)"
   ]
  },
  {
   "cell_type": "code",
   "execution_count": 93,
   "id": "3228d84a",
   "metadata": {
    "ExecuteTime": {
     "end_time": "2022-09-01T13:22:20.207222Z",
     "start_time": "2022-09-01T13:22:20.148345Z"
    }
   },
   "outputs": [
    {
     "data": {
      "text/plain": [
       "0.8024506284770904"
      ]
     },
     "execution_count": 93,
     "metadata": {},
     "output_type": "execute_result"
    }
   ],
   "source": [
    "model_cat_.score(x_test, y_test)"
   ]
  },
  {
   "cell_type": "code",
   "execution_count": 122,
   "id": "7ae4a77a",
   "metadata": {
    "ExecuteTime": {
     "end_time": "2022-09-02T18:34:29.098004Z",
     "start_time": "2022-09-02T18:34:28.971342Z"
    }
   },
   "outputs": [
    {
     "data": {
      "text/plain": [
       "array([25.92626098, 30.51416612, 29.19103429, ..., 29.68434813,\n",
       "       25.12396962, 21.4723358 ])"
      ]
     },
     "execution_count": 122,
     "metadata": {},
     "output_type": "execute_result"
    }
   ],
   "source": [
    "df_test_temp = df_test.drop(columns=['ID', 'Order_Date', 'Time_Orderd', 'Order_Date_Year'])\n",
    "\n",
    "df_test_final = labelencoder_only_transform(label_dict, df_test_temp)\n",
    "\n",
    "df_test_final = scaller.transform(df_test_final)\n",
    "\n",
    "y_pred = model_cat_.predict(df_test_final)\n",
    "\n",
    "y_pred"
   ]
  },
  {
   "cell_type": "code",
   "execution_count": 123,
   "id": "4c9a884d",
   "metadata": {
    "ExecuteTime": {
     "end_time": "2022-09-02T18:34:30.494747Z",
     "start_time": "2022-09-02T18:34:30.443884Z"
    },
    "scrolled": true
   },
   "outputs": [
    {
     "name": "stderr",
     "output_type": "stream",
     "text": [
      "C:\\Users\\home_\\AppData\\Local\\Temp\\ipykernel_20384\\4012768717.py:2: SettingWithCopyWarning: \n",
      "A value is trying to be set on a copy of a slice from a DataFrame.\n",
      "Try using .loc[row_indexer,col_indexer] = value instead\n",
      "\n",
      "See the caveats in the documentation: https://pandas.pydata.org/pandas-docs/stable/user_guide/indexing.html#returning-a-view-versus-a-copy\n",
      "  submission['Time_taken (min)'] = y_pred.reshape(len(df_test))\n"
     ]
    }
   ],
   "source": [
    "submission = df_test[['ID']]\n",
    "submission['Time_taken (min)'] = y_pred.reshape(len(df_test))\n",
    "submission.to_csv('submission.csv', index=False)"
   ]
  },
  {
   "cell_type": "code",
   "execution_count": 105,
   "id": "2217bf9b",
   "metadata": {
    "ExecuteTime": {
     "end_time": "2022-09-02T17:37:00.730275Z",
     "start_time": "2022-09-02T17:37:00.672426Z"
    }
   },
   "outputs": [],
   "source": [
    "df_test = pd.read_csv('test.csv')"
   ]
  },
  {
   "cell_type": "code",
   "execution_count": 106,
   "id": "6814b781",
   "metadata": {
    "ExecuteTime": {
     "end_time": "2022-09-02T17:37:01.908020Z",
     "start_time": "2022-09-02T17:37:01.625752Z"
    }
   },
   "outputs": [],
   "source": [
    "# age_nom = df_train['Delivery_person_Age'].value_counts(normalize=True)\n",
    "fill_test_age = pd.Series(np.random.choice(age_nom.index, p=age_nom.values, size=len(df_test)))\n",
    "df_test['Delivery_person_Age'].fillna(fill_test_age, inplace=True)\n",
    "df_test['Delivery_person_Ratings'].fillna(4.7, inplace=True)\n",
    "o_date = df_test['Order_Date'].str.split('-', expand=True).rename(columns={0:'Day', 1:'Month', 2:'Year'})\n",
    "o_date['Date'] = o_date['Year'] + '-' + o_date['Month'] + '-' + o_date['Day']\n",
    "df_test['Order_Date'] = pd.to_datetime(o_date['Date'])\n",
    "breack_down_date(df_test, 'Order_Date')\n",
    "breack_down_time(df_test, 'Time_Orderd')\n",
    "df_test['Time_Orderd_hour'].fillna(value=19, inplace=True)\n",
    "df_test['Time_Orderd_min'].fillna(value=30, inplace=True)\n",
    "breack_down_time(df_test, 'Time_Order_picked')\n",
    "# weather_nom = df_train['Weather conditions'].value_counts(normalize=True)\n",
    "weather_test_random = pd.Series(np.random.choice(weather_nom.index, p=weather_nom.values, size=len(df_test)))\n",
    "df_test['Weather conditions'].fillna(weather_random, inplace=True)\n",
    "df_test['Road_traffic_density'].fillna('Low', inplace=True)\n",
    "df_test['multiple_deliveries'].fillna(1., inplace=True)\n",
    "df_test['Festival'].fillna('No', inplace=True)\n",
    "df_test['City'].fillna('Metropolitian', inplace=True)\n",
    "\n",
    "df_test_temp = df_test.drop(columns=['ID', 'Order_Date', 'Time_Orderd', 'Order_Date_Year'])\n",
    "df_test_final = labelencoder_only_transform(label_dict, df_test_temp)\n",
    "df_test_final = scaller.transform(df_test_final)"
   ]
  },
  {
   "cell_type": "code",
   "execution_count": 94,
   "id": "22f915cf",
   "metadata": {
    "ExecuteTime": {
     "end_time": "2022-09-02T17:29:19.410413Z",
     "start_time": "2022-09-02T17:29:19.361543Z"
    }
   },
   "outputs": [
    {
     "data": {
      "text/html": [
       "<div>\n",
       "<style scoped>\n",
       "    .dataframe tbody tr th:only-of-type {\n",
       "        vertical-align: middle;\n",
       "    }\n",
       "\n",
       "    .dataframe tbody tr th {\n",
       "        vertical-align: top;\n",
       "    }\n",
       "\n",
       "    .dataframe thead th {\n",
       "        text-align: right;\n",
       "    }\n",
       "</style>\n",
       "<table border=\"1\" class=\"dataframe\">\n",
       "  <thead>\n",
       "    <tr style=\"text-align: right;\">\n",
       "      <th></th>\n",
       "      <th>ID</th>\n",
       "      <th>Delivery_person_ID</th>\n",
       "      <th>Delivery_person_Age</th>\n",
       "      <th>Delivery_person_Ratings</th>\n",
       "      <th>Restaurant_latitude</th>\n",
       "      <th>Restaurant_longitude</th>\n",
       "      <th>Delivery_location_latitude</th>\n",
       "      <th>Delivery_location_longitude</th>\n",
       "      <th>Order_Date</th>\n",
       "      <th>Order_Date_Year</th>\n",
       "      <th>...</th>\n",
       "      <th>Time_Orderd</th>\n",
       "      <th>Time_Order_picked</th>\n",
       "      <th>Weather conditions</th>\n",
       "      <th>Road_traffic_density</th>\n",
       "      <th>Vehicle_condition</th>\n",
       "      <th>Type_of_order</th>\n",
       "      <th>Type_of_vehicle</th>\n",
       "      <th>multiple_deliveries</th>\n",
       "      <th>Festival</th>\n",
       "      <th>City</th>\n",
       "    </tr>\n",
       "  </thead>\n",
       "  <tbody>\n",
       "    <tr>\n",
       "      <th>0</th>\n",
       "      <td>0x2318</td>\n",
       "      <td>COIMBRES13DEL01</td>\n",
       "      <td>22.0</td>\n",
       "      <td>4.7</td>\n",
       "      <td>11.003669</td>\n",
       "      <td>76.976494</td>\n",
       "      <td>11.043669</td>\n",
       "      <td>77.016494</td>\n",
       "      <td>2022-03-30</td>\n",
       "      <td>2022</td>\n",
       "      <td>...</td>\n",
       "      <td>NaN</td>\n",
       "      <td>15:05</td>\n",
       "      <td>NaN</td>\n",
       "      <td>NaN</td>\n",
       "      <td>3</td>\n",
       "      <td>Drinks</td>\n",
       "      <td>electric_scooter</td>\n",
       "      <td>1.0</td>\n",
       "      <td>No</td>\n",
       "      <td>Metropolitian</td>\n",
       "    </tr>\n",
       "    <tr>\n",
       "      <th>1</th>\n",
       "      <td>0x3474</td>\n",
       "      <td>BANGRES15DEL01</td>\n",
       "      <td>28.0</td>\n",
       "      <td>4.6</td>\n",
       "      <td>12.975377</td>\n",
       "      <td>77.696664</td>\n",
       "      <td>13.085377</td>\n",
       "      <td>77.806664</td>\n",
       "      <td>2022-03-29</td>\n",
       "      <td>2022</td>\n",
       "      <td>...</td>\n",
       "      <td>20:30</td>\n",
       "      <td>20:35</td>\n",
       "      <td>Windy</td>\n",
       "      <td>Jam</td>\n",
       "      <td>0</td>\n",
       "      <td>Snack</td>\n",
       "      <td>motorcycle</td>\n",
       "      <td>1.0</td>\n",
       "      <td>No</td>\n",
       "      <td>Metropolitian</td>\n",
       "    </tr>\n",
       "    <tr>\n",
       "      <th>2</th>\n",
       "      <td>0x9420</td>\n",
       "      <td>JAPRES09DEL03</td>\n",
       "      <td>23.0</td>\n",
       "      <td>4.5</td>\n",
       "      <td>26.911378</td>\n",
       "      <td>75.789034</td>\n",
       "      <td>27.001378</td>\n",
       "      <td>75.879034</td>\n",
       "      <td>2022-03-10</td>\n",
       "      <td>2022</td>\n",
       "      <td>...</td>\n",
       "      <td>19:35</td>\n",
       "      <td>19:45</td>\n",
       "      <td>Stormy</td>\n",
       "      <td>Jam</td>\n",
       "      <td>0</td>\n",
       "      <td>Drinks</td>\n",
       "      <td>motorcycle</td>\n",
       "      <td>1.0</td>\n",
       "      <td>No</td>\n",
       "      <td>Metropolitian</td>\n",
       "    </tr>\n",
       "    <tr>\n",
       "      <th>3</th>\n",
       "      <td>0x72ee</td>\n",
       "      <td>JAPRES07DEL03</td>\n",
       "      <td>21.0</td>\n",
       "      <td>4.8</td>\n",
       "      <td>26.766536</td>\n",
       "      <td>75.837333</td>\n",
       "      <td>26.856536</td>\n",
       "      <td>75.927333</td>\n",
       "      <td>2022-04-02</td>\n",
       "      <td>2022</td>\n",
       "      <td>...</td>\n",
       "      <td>17:15</td>\n",
       "      <td>17:20</td>\n",
       "      <td>Fog</td>\n",
       "      <td>Medium</td>\n",
       "      <td>1</td>\n",
       "      <td>Meal</td>\n",
       "      <td>scooter</td>\n",
       "      <td>1.0</td>\n",
       "      <td>No</td>\n",
       "      <td>Metropolitian</td>\n",
       "    </tr>\n",
       "    <tr>\n",
       "      <th>4</th>\n",
       "      <td>0xa759</td>\n",
       "      <td>CHENRES19DEL01</td>\n",
       "      <td>31.0</td>\n",
       "      <td>4.6</td>\n",
       "      <td>12.986047</td>\n",
       "      <td>80.218114</td>\n",
       "      <td>13.096047</td>\n",
       "      <td>80.328114</td>\n",
       "      <td>2022-03-27</td>\n",
       "      <td>2022</td>\n",
       "      <td>...</td>\n",
       "      <td>18:25</td>\n",
       "      <td>18:40</td>\n",
       "      <td>Sunny</td>\n",
       "      <td>Medium</td>\n",
       "      <td>2</td>\n",
       "      <td>Drinks</td>\n",
       "      <td>scooter</td>\n",
       "      <td>1.0</td>\n",
       "      <td>No</td>\n",
       "      <td>Metropolitian</td>\n",
       "    </tr>\n",
       "    <tr>\n",
       "      <th>...</th>\n",
       "      <td>...</td>\n",
       "      <td>...</td>\n",
       "      <td>...</td>\n",
       "      <td>...</td>\n",
       "      <td>...</td>\n",
       "      <td>...</td>\n",
       "      <td>...</td>\n",
       "      <td>...</td>\n",
       "      <td>...</td>\n",
       "      <td>...</td>\n",
       "      <td>...</td>\n",
       "      <td>...</td>\n",
       "      <td>...</td>\n",
       "      <td>...</td>\n",
       "      <td>...</td>\n",
       "      <td>...</td>\n",
       "      <td>...</td>\n",
       "      <td>...</td>\n",
       "      <td>...</td>\n",
       "      <td>...</td>\n",
       "      <td>...</td>\n",
       "    </tr>\n",
       "    <tr>\n",
       "      <th>11394</th>\n",
       "      <td>0x6909</td>\n",
       "      <td>JAPRES01DEL01</td>\n",
       "      <td>35.0</td>\n",
       "      <td>4.6</td>\n",
       "      <td>26.905190</td>\n",
       "      <td>75.810753</td>\n",
       "      <td>27.015190</td>\n",
       "      <td>75.920753</td>\n",
       "      <td>2022-03-27</td>\n",
       "      <td>2022</td>\n",
       "      <td>...</td>\n",
       "      <td>21:35</td>\n",
       "      <td>21:45</td>\n",
       "      <td>Sunny</td>\n",
       "      <td>Jam</td>\n",
       "      <td>1</td>\n",
       "      <td>Snack</td>\n",
       "      <td>scooter</td>\n",
       "      <td>1.0</td>\n",
       "      <td>No</td>\n",
       "      <td>Metropolitian</td>\n",
       "    </tr>\n",
       "    <tr>\n",
       "      <th>11395</th>\n",
       "      <td>0x443b</td>\n",
       "      <td>JAPRES11DEL01</td>\n",
       "      <td>33.0</td>\n",
       "      <td>4.9</td>\n",
       "      <td>26.902940</td>\n",
       "      <td>75.793007</td>\n",
       "      <td>26.912940</td>\n",
       "      <td>75.803007</td>\n",
       "      <td>2022-03-11</td>\n",
       "      <td>2022</td>\n",
       "      <td>...</td>\n",
       "      <td>11:40</td>\n",
       "      <td>11:45</td>\n",
       "      <td>Sandstorms</td>\n",
       "      <td>High</td>\n",
       "      <td>1</td>\n",
       "      <td>Drinks</td>\n",
       "      <td>scooter</td>\n",
       "      <td>1.0</td>\n",
       "      <td>No</td>\n",
       "      <td>Metropolitian</td>\n",
       "    </tr>\n",
       "    <tr>\n",
       "      <th>11396</th>\n",
       "      <td>0x1ea5</td>\n",
       "      <td>SURRES11DEL03</td>\n",
       "      <td>31.0</td>\n",
       "      <td>4.7</td>\n",
       "      <td>21.157735</td>\n",
       "      <td>72.768778</td>\n",
       "      <td>21.217735</td>\n",
       "      <td>72.828778</td>\n",
       "      <td>2022-03-11</td>\n",
       "      <td>2022</td>\n",
       "      <td>...</td>\n",
       "      <td>NaN</td>\n",
       "      <td>21:05</td>\n",
       "      <td>NaN</td>\n",
       "      <td>NaN</td>\n",
       "      <td>3</td>\n",
       "      <td>Drinks</td>\n",
       "      <td>scooter</td>\n",
       "      <td>1.0</td>\n",
       "      <td>No</td>\n",
       "      <td>Metropolitian</td>\n",
       "    </tr>\n",
       "    <tr>\n",
       "      <th>11397</th>\n",
       "      <td>0x22d4</td>\n",
       "      <td>VADRES03DEL02</td>\n",
       "      <td>27.0</td>\n",
       "      <td>4.7</td>\n",
       "      <td>22.320000</td>\n",
       "      <td>73.170000</td>\n",
       "      <td>22.450000</td>\n",
       "      <td>73.300000</td>\n",
       "      <td>2022-03-06</td>\n",
       "      <td>2022</td>\n",
       "      <td>...</td>\n",
       "      <td>18:35</td>\n",
       "      <td>18:40</td>\n",
       "      <td>Sandstorms</td>\n",
       "      <td>Medium</td>\n",
       "      <td>0</td>\n",
       "      <td>Meal</td>\n",
       "      <td>motorcycle</td>\n",
       "      <td>0.0</td>\n",
       "      <td>No</td>\n",
       "      <td>Metropolitian</td>\n",
       "    </tr>\n",
       "    <tr>\n",
       "      <th>11398</th>\n",
       "      <td>0xb7be</td>\n",
       "      <td>CHENRES07DEL02</td>\n",
       "      <td>39.0</td>\n",
       "      <td>5.0</td>\n",
       "      <td>13.081878</td>\n",
       "      <td>80.248519</td>\n",
       "      <td>13.131878</td>\n",
       "      <td>80.298519</td>\n",
       "      <td>2022-03-24</td>\n",
       "      <td>2022</td>\n",
       "      <td>...</td>\n",
       "      <td>22:20</td>\n",
       "      <td>22:25</td>\n",
       "      <td>Windy</td>\n",
       "      <td>Low</td>\n",
       "      <td>2</td>\n",
       "      <td>Drinks</td>\n",
       "      <td>motorcycle</td>\n",
       "      <td>1.0</td>\n",
       "      <td>No</td>\n",
       "      <td>Urban</td>\n",
       "    </tr>\n",
       "  </tbody>\n",
       "</table>\n",
       "<p>11399 rows × 25 columns</p>\n",
       "</div>"
      ],
      "text/plain": [
       "           ID Delivery_person_ID  Delivery_person_Age  \\\n",
       "0      0x2318    COIMBRES13DEL01                 22.0   \n",
       "1      0x3474     BANGRES15DEL01                 28.0   \n",
       "2      0x9420      JAPRES09DEL03                 23.0   \n",
       "3      0x72ee      JAPRES07DEL03                 21.0   \n",
       "4      0xa759     CHENRES19DEL01                 31.0   \n",
       "...       ...                ...                  ...   \n",
       "11394  0x6909      JAPRES01DEL01                 35.0   \n",
       "11395  0x443b      JAPRES11DEL01                 33.0   \n",
       "11396  0x1ea5      SURRES11DEL03                 31.0   \n",
       "11397  0x22d4      VADRES03DEL02                 27.0   \n",
       "11398  0xb7be     CHENRES07DEL02                 39.0   \n",
       "\n",
       "       Delivery_person_Ratings  Restaurant_latitude  Restaurant_longitude  \\\n",
       "0                          4.7            11.003669             76.976494   \n",
       "1                          4.6            12.975377             77.696664   \n",
       "2                          4.5            26.911378             75.789034   \n",
       "3                          4.8            26.766536             75.837333   \n",
       "4                          4.6            12.986047             80.218114   \n",
       "...                        ...                  ...                   ...   \n",
       "11394                      4.6            26.905190             75.810753   \n",
       "11395                      4.9            26.902940             75.793007   \n",
       "11396                      4.7            21.157735             72.768778   \n",
       "11397                      4.7            22.320000             73.170000   \n",
       "11398                      5.0            13.081878             80.248519   \n",
       "\n",
       "       Delivery_location_latitude  Delivery_location_longitude Order_Date  \\\n",
       "0                       11.043669                    77.016494 2022-03-30   \n",
       "1                       13.085377                    77.806664 2022-03-29   \n",
       "2                       27.001378                    75.879034 2022-03-10   \n",
       "3                       26.856536                    75.927333 2022-04-02   \n",
       "4                       13.096047                    80.328114 2022-03-27   \n",
       "...                           ...                          ...        ...   \n",
       "11394                   27.015190                    75.920753 2022-03-27   \n",
       "11395                   26.912940                    75.803007 2022-03-11   \n",
       "11396                   21.217735                    72.828778 2022-03-11   \n",
       "11397                   22.450000                    73.300000 2022-03-06   \n",
       "11398                   13.131878                    80.298519 2022-03-24   \n",
       "\n",
       "       Order_Date_Year  ...  Time_Orderd  Time_Order_picked  \\\n",
       "0                 2022  ...          NaN              15:05   \n",
       "1                 2022  ...        20:30              20:35   \n",
       "2                 2022  ...        19:35              19:45   \n",
       "3                 2022  ...        17:15              17:20   \n",
       "4                 2022  ...        18:25              18:40   \n",
       "...                ...  ...          ...                ...   \n",
       "11394             2022  ...        21:35              21:45   \n",
       "11395             2022  ...        11:40              11:45   \n",
       "11396             2022  ...          NaN              21:05   \n",
       "11397             2022  ...        18:35              18:40   \n",
       "11398             2022  ...        22:20              22:25   \n",
       "\n",
       "       Weather conditions  Road_traffic_density  Vehicle_condition  \\\n",
       "0                     NaN                   NaN                  3   \n",
       "1                   Windy                   Jam                  0   \n",
       "2                  Stormy                   Jam                  0   \n",
       "3                     Fog                Medium                  1   \n",
       "4                   Sunny                Medium                  2   \n",
       "...                   ...                   ...                ...   \n",
       "11394               Sunny                   Jam                  1   \n",
       "11395          Sandstorms                  High                  1   \n",
       "11396                 NaN                   NaN                  3   \n",
       "11397          Sandstorms                Medium                  0   \n",
       "11398               Windy                   Low                  2   \n",
       "\n",
       "      Type_of_order   Type_of_vehicle multiple_deliveries Festival  \\\n",
       "0            Drinks  electric_scooter                 1.0       No   \n",
       "1             Snack        motorcycle                 1.0       No   \n",
       "2            Drinks        motorcycle                 1.0       No   \n",
       "3              Meal           scooter                 1.0       No   \n",
       "4            Drinks           scooter                 1.0       No   \n",
       "...             ...               ...                 ...      ...   \n",
       "11394         Snack           scooter                 1.0       No   \n",
       "11395        Drinks           scooter                 1.0       No   \n",
       "11396        Drinks           scooter                 1.0       No   \n",
       "11397          Meal        motorcycle                 0.0       No   \n",
       "11398        Drinks        motorcycle                 1.0       No   \n",
       "\n",
       "                City  \n",
       "0      Metropolitian  \n",
       "1      Metropolitian  \n",
       "2      Metropolitian  \n",
       "3      Metropolitian  \n",
       "4      Metropolitian  \n",
       "...              ...  \n",
       "11394  Metropolitian  \n",
       "11395  Metropolitian  \n",
       "11396  Metropolitian  \n",
       "11397  Metropolitian  \n",
       "11398          Urban  \n",
       "\n",
       "[11399 rows x 25 columns]"
      ]
     },
     "execution_count": 94,
     "metadata": {},
     "output_type": "execute_result"
    }
   ],
   "source": [
    "df_test"
   ]
  },
  {
   "cell_type": "code",
   "execution_count": 108,
   "id": "0b06f7be",
   "metadata": {
    "ExecuteTime": {
     "end_time": "2022-09-02T17:50:44.886768Z",
     "start_time": "2022-09-02T17:37:28.096717Z"
    }
   },
   "outputs": [
    {
     "data": {
      "application/vnd.jupyter.widget-view+json": {
       "model_id": "54545e64901c4c258abaeb1b5fb146eb",
       "version_major": 2,
       "version_minor": 0
      },
      "text/plain": [
       "MetricVisualizer(layout=Layout(align_self='stretch', height='500px'))"
      ]
     },
     "metadata": {},
     "output_type": "display_data"
    },
    {
     "data": {
      "text/plain": [
       "<catboost.core.CatBoostRegressor at 0x244ed0f7550>"
      ]
     },
     "execution_count": 108,
     "metadata": {},
     "output_type": "execute_result"
    }
   ],
   "source": [
    "model1_cat = CatBoostRegressor(iterations=1200, \n",
    "                                learning_rate=0.1, \n",
    "                                depth=13,\n",
    "                                l2_leaf_reg=4,\n",
    "                                task_type='GPU',\n",
    "                                verbose=False,\n",
    "                                loss_function='RMSE')\n",
    "\n",
    "model1_cat.fit(x_train, y_train, plot=True)"
   ]
  },
  {
   "cell_type": "code",
   "execution_count": null,
   "id": "0ae63ae4",
   "metadata": {},
   "outputs": [],
   "source": []
  },
  {
   "cell_type": "code",
   "execution_count": 125,
   "id": "197d17a3",
   "metadata": {
    "ExecuteTime": {
     "end_time": "2022-09-02T18:36:18.497548Z",
     "start_time": "2022-09-02T18:36:18.060323Z"
    }
   },
   "outputs": [
    {
     "name": "stderr",
     "output_type": "stream",
     "text": [
      "C:\\Users\\home_\\AppData\\Local\\Temp\\ipykernel_20384\\2547071693.py:3: SettingWithCopyWarning: \n",
      "A value is trying to be set on a copy of a slice from a DataFrame.\n",
      "Try using .loc[row_indexer,col_indexer] = value instead\n",
      "\n",
      "See the caveats in the documentation: https://pandas.pydata.org/pandas-docs/stable/user_guide/indexing.html#returning-a-view-versus-a-copy\n",
      "  submission['Time_taken (min)'] = y_pred.reshape(len(df_test))\n"
     ]
    },
    {
     "data": {
      "text/html": [
       "<div>\n",
       "<style scoped>\n",
       "    .dataframe tbody tr th:only-of-type {\n",
       "        vertical-align: middle;\n",
       "    }\n",
       "\n",
       "    .dataframe tbody tr th {\n",
       "        vertical-align: top;\n",
       "    }\n",
       "\n",
       "    .dataframe thead th {\n",
       "        text-align: right;\n",
       "    }\n",
       "</style>\n",
       "<table border=\"1\" class=\"dataframe\">\n",
       "  <thead>\n",
       "    <tr style=\"text-align: right;\">\n",
       "      <th></th>\n",
       "      <th>ID</th>\n",
       "      <th>Time_taken (min)</th>\n",
       "    </tr>\n",
       "  </thead>\n",
       "  <tbody>\n",
       "    <tr>\n",
       "      <th>0</th>\n",
       "      <td>0x2318</td>\n",
       "      <td>26.492094</td>\n",
       "    </tr>\n",
       "    <tr>\n",
       "      <th>1</th>\n",
       "      <td>0x3474</td>\n",
       "      <td>30.739778</td>\n",
       "    </tr>\n",
       "    <tr>\n",
       "      <th>2</th>\n",
       "      <td>0x9420</td>\n",
       "      <td>28.483676</td>\n",
       "    </tr>\n",
       "    <tr>\n",
       "      <th>3</th>\n",
       "      <td>0x72ee</td>\n",
       "      <td>29.676157</td>\n",
       "    </tr>\n",
       "    <tr>\n",
       "      <th>4</th>\n",
       "      <td>0xa759</td>\n",
       "      <td>21.648012</td>\n",
       "    </tr>\n",
       "    <tr>\n",
       "      <th>...</th>\n",
       "      <td>...</td>\n",
       "      <td>...</td>\n",
       "    </tr>\n",
       "    <tr>\n",
       "      <th>11394</th>\n",
       "      <td>0x6909</td>\n",
       "      <td>22.214744</td>\n",
       "    </tr>\n",
       "    <tr>\n",
       "      <th>11395</th>\n",
       "      <td>0x443b</td>\n",
       "      <td>29.240942</td>\n",
       "    </tr>\n",
       "    <tr>\n",
       "      <th>11396</th>\n",
       "      <td>0x1ea5</td>\n",
       "      <td>28.608651</td>\n",
       "    </tr>\n",
       "    <tr>\n",
       "      <th>11397</th>\n",
       "      <td>0x22d4</td>\n",
       "      <td>26.120442</td>\n",
       "    </tr>\n",
       "    <tr>\n",
       "      <th>11398</th>\n",
       "      <td>0xb7be</td>\n",
       "      <td>20.910549</td>\n",
       "    </tr>\n",
       "  </tbody>\n",
       "</table>\n",
       "<p>11399 rows × 2 columns</p>\n",
       "</div>"
      ],
      "text/plain": [
       "           ID  Time_taken (min)\n",
       "0      0x2318         26.492094\n",
       "1      0x3474         30.739778\n",
       "2      0x9420         28.483676\n",
       "3      0x72ee         29.676157\n",
       "4      0xa759         21.648012\n",
       "...       ...               ...\n",
       "11394  0x6909         22.214744\n",
       "11395  0x443b         29.240942\n",
       "11396  0x1ea5         28.608651\n",
       "11397  0x22d4         26.120442\n",
       "11398  0xb7be         20.910549\n",
       "\n",
       "[11399 rows x 2 columns]"
      ]
     },
     "execution_count": 125,
     "metadata": {},
     "output_type": "execute_result"
    }
   ],
   "source": [
    "y_pred = model1_cat.predict(df_test_final)\n",
    "submission = df_test[['ID']]\n",
    "submission['Time_taken (min)'] = y_pred.reshape(len(df_test))\n",
    "submission.to_csv('submission.csv', index=False)\n",
    "submission"
   ]
  },
  {
   "cell_type": "code",
   "execution_count": 126,
   "id": "a57c46d1",
   "metadata": {
    "ExecuteTime": {
     "end_time": "2022-09-02T18:40:04.783586Z",
     "start_time": "2022-09-02T18:40:04.195944Z"
    }
   },
   "outputs": [
    {
     "data": {
      "text/plain": [
       "['cat_hig_acc.pkl']"
      ]
     },
     "execution_count": 126,
     "metadata": {},
     "output_type": "execute_result"
    }
   ],
   "source": [
    "import joblib\n",
    "\n",
    "joblib.dump(model1_cat, 'cat_hig_acc.pkl')"
   ]
  },
  {
   "cell_type": "code",
   "execution_count": 127,
   "id": "7c22b128",
   "metadata": {
    "ExecuteTime": {
     "end_time": "2022-09-02T18:40:46.533374Z",
     "start_time": "2022-09-02T18:40:46.493442Z"
    }
   },
   "outputs": [],
   "source": [
    "zz_cat = joblib.load('cat_hig_acc.pkl')"
   ]
  },
  {
   "cell_type": "code",
   "execution_count": 128,
   "id": "baca37ce",
   "metadata": {
    "ExecuteTime": {
     "end_time": "2022-09-02T18:41:06.633026Z",
     "start_time": "2022-09-02T18:41:06.524321Z"
    }
   },
   "outputs": [
    {
     "name": "stderr",
     "output_type": "stream",
     "text": [
      "C:\\Users\\home_\\AppData\\Local\\Temp\\ipykernel_20384\\1963507365.py:3: SettingWithCopyWarning: \n",
      "A value is trying to be set on a copy of a slice from a DataFrame.\n",
      "Try using .loc[row_indexer,col_indexer] = value instead\n",
      "\n",
      "See the caveats in the documentation: https://pandas.pydata.org/pandas-docs/stable/user_guide/indexing.html#returning-a-view-versus-a-copy\n",
      "  submission['Time_taken (min)'] = y_pred.reshape(len(df_test))\n"
     ]
    },
    {
     "data": {
      "text/html": [
       "<div>\n",
       "<style scoped>\n",
       "    .dataframe tbody tr th:only-of-type {\n",
       "        vertical-align: middle;\n",
       "    }\n",
       "\n",
       "    .dataframe tbody tr th {\n",
       "        vertical-align: top;\n",
       "    }\n",
       "\n",
       "    .dataframe thead th {\n",
       "        text-align: right;\n",
       "    }\n",
       "</style>\n",
       "<table border=\"1\" class=\"dataframe\">\n",
       "  <thead>\n",
       "    <tr style=\"text-align: right;\">\n",
       "      <th></th>\n",
       "      <th>ID</th>\n",
       "      <th>Time_taken (min)</th>\n",
       "    </tr>\n",
       "  </thead>\n",
       "  <tbody>\n",
       "    <tr>\n",
       "      <th>0</th>\n",
       "      <td>0x2318</td>\n",
       "      <td>26.492094</td>\n",
       "    </tr>\n",
       "    <tr>\n",
       "      <th>1</th>\n",
       "      <td>0x3474</td>\n",
       "      <td>30.739778</td>\n",
       "    </tr>\n",
       "    <tr>\n",
       "      <th>2</th>\n",
       "      <td>0x9420</td>\n",
       "      <td>28.483676</td>\n",
       "    </tr>\n",
       "    <tr>\n",
       "      <th>3</th>\n",
       "      <td>0x72ee</td>\n",
       "      <td>29.676157</td>\n",
       "    </tr>\n",
       "    <tr>\n",
       "      <th>4</th>\n",
       "      <td>0xa759</td>\n",
       "      <td>21.648012</td>\n",
       "    </tr>\n",
       "    <tr>\n",
       "      <th>...</th>\n",
       "      <td>...</td>\n",
       "      <td>...</td>\n",
       "    </tr>\n",
       "    <tr>\n",
       "      <th>11394</th>\n",
       "      <td>0x6909</td>\n",
       "      <td>22.214744</td>\n",
       "    </tr>\n",
       "    <tr>\n",
       "      <th>11395</th>\n",
       "      <td>0x443b</td>\n",
       "      <td>29.240942</td>\n",
       "    </tr>\n",
       "    <tr>\n",
       "      <th>11396</th>\n",
       "      <td>0x1ea5</td>\n",
       "      <td>28.608651</td>\n",
       "    </tr>\n",
       "    <tr>\n",
       "      <th>11397</th>\n",
       "      <td>0x22d4</td>\n",
       "      <td>26.120442</td>\n",
       "    </tr>\n",
       "    <tr>\n",
       "      <th>11398</th>\n",
       "      <td>0xb7be</td>\n",
       "      <td>20.910549</td>\n",
       "    </tr>\n",
       "  </tbody>\n",
       "</table>\n",
       "<p>11399 rows × 2 columns</p>\n",
       "</div>"
      ],
      "text/plain": [
       "           ID  Time_taken (min)\n",
       "0      0x2318         26.492094\n",
       "1      0x3474         30.739778\n",
       "2      0x9420         28.483676\n",
       "3      0x72ee         29.676157\n",
       "4      0xa759         21.648012\n",
       "...       ...               ...\n",
       "11394  0x6909         22.214744\n",
       "11395  0x443b         29.240942\n",
       "11396  0x1ea5         28.608651\n",
       "11397  0x22d4         26.120442\n",
       "11398  0xb7be         20.910549\n",
       "\n",
       "[11399 rows x 2 columns]"
      ]
     },
     "execution_count": 128,
     "metadata": {},
     "output_type": "execute_result"
    }
   ],
   "source": [
    "y_pred = zz_cat.predict(df_test_final)\n",
    "submission = df_test[['ID']]\n",
    "submission['Time_taken (min)'] = y_pred.reshape(len(df_test))\n",
    "submission.to_csv('submission.csv', index=False)\n",
    "submission"
   ]
  },
  {
   "cell_type": "code",
   "execution_count": 110,
   "id": "ca96adab",
   "metadata": {
    "ExecuteTime": {
     "end_time": "2022-09-02T18:05:55.733359Z",
     "start_time": "2022-09-02T17:53:46.336208Z"
    }
   },
   "outputs": [
    {
     "data": {
      "application/vnd.jupyter.widget-view+json": {
       "model_id": "8c5d110e87184875b93da3832a9b07fa",
       "version_major": 2,
       "version_minor": 0
      },
      "text/plain": [
       "MetricVisualizer(layout=Layout(align_self='stretch', height='500px'))"
      ]
     },
     "metadata": {},
     "output_type": "display_data"
    },
    {
     "data": {
      "text/plain": [
       "<catboost.core.CatBoostRegressor at 0x244ed1061a0>"
      ]
     },
     "execution_count": 110,
     "metadata": {},
     "output_type": "execute_result"
    }
   ],
   "source": [
    "model2_cat = CatBoostRegressor(iterations=1200, \n",
    "                                learning_rate=0.12, \n",
    "                                depth=13,\n",
    "                                l2_leaf_reg=4,\n",
    "                                task_type='GPU',\n",
    "                                verbose=False,\n",
    "                                loss_function='RMSE')\n",
    "\n",
    "model2_cat.fit(x_train, y_train, plot=True)"
   ]
  },
  {
   "cell_type": "code",
   "execution_count": 124,
   "id": "a6ef67e2",
   "metadata": {
    "ExecuteTime": {
     "end_time": "2022-09-02T18:35:25.575579Z",
     "start_time": "2022-09-02T18:35:25.477840Z"
    }
   },
   "outputs": [
    {
     "name": "stderr",
     "output_type": "stream",
     "text": [
      "C:\\Users\\home_\\AppData\\Local\\Temp\\ipykernel_20384\\3966075859.py:3: SettingWithCopyWarning: \n",
      "A value is trying to be set on a copy of a slice from a DataFrame.\n",
      "Try using .loc[row_indexer,col_indexer] = value instead\n",
      "\n",
      "See the caveats in the documentation: https://pandas.pydata.org/pandas-docs/stable/user_guide/indexing.html#returning-a-view-versus-a-copy\n",
      "  submission['Time_taken (min)'] = y_pred.reshape(len(df_test))\n"
     ]
    },
    {
     "data": {
      "text/html": [
       "<div>\n",
       "<style scoped>\n",
       "    .dataframe tbody tr th:only-of-type {\n",
       "        vertical-align: middle;\n",
       "    }\n",
       "\n",
       "    .dataframe tbody tr th {\n",
       "        vertical-align: top;\n",
       "    }\n",
       "\n",
       "    .dataframe thead th {\n",
       "        text-align: right;\n",
       "    }\n",
       "</style>\n",
       "<table border=\"1\" class=\"dataframe\">\n",
       "  <thead>\n",
       "    <tr style=\"text-align: right;\">\n",
       "      <th></th>\n",
       "      <th>ID</th>\n",
       "      <th>Time_taken (min)</th>\n",
       "    </tr>\n",
       "  </thead>\n",
       "  <tbody>\n",
       "    <tr>\n",
       "      <th>0</th>\n",
       "      <td>0x2318</td>\n",
       "      <td>26.963534</td>\n",
       "    </tr>\n",
       "    <tr>\n",
       "      <th>1</th>\n",
       "      <td>0x3474</td>\n",
       "      <td>30.802397</td>\n",
       "    </tr>\n",
       "    <tr>\n",
       "      <th>2</th>\n",
       "      <td>0x9420</td>\n",
       "      <td>28.931918</td>\n",
       "    </tr>\n",
       "    <tr>\n",
       "      <th>3</th>\n",
       "      <td>0x72ee</td>\n",
       "      <td>30.019608</td>\n",
       "    </tr>\n",
       "    <tr>\n",
       "      <th>4</th>\n",
       "      <td>0xa759</td>\n",
       "      <td>21.553518</td>\n",
       "    </tr>\n",
       "    <tr>\n",
       "      <th>...</th>\n",
       "      <td>...</td>\n",
       "      <td>...</td>\n",
       "    </tr>\n",
       "    <tr>\n",
       "      <th>11394</th>\n",
       "      <td>0x6909</td>\n",
       "      <td>22.403667</td>\n",
       "    </tr>\n",
       "    <tr>\n",
       "      <th>11395</th>\n",
       "      <td>0x443b</td>\n",
       "      <td>29.465797</td>\n",
       "    </tr>\n",
       "    <tr>\n",
       "      <th>11396</th>\n",
       "      <td>0x1ea5</td>\n",
       "      <td>29.703914</td>\n",
       "    </tr>\n",
       "    <tr>\n",
       "      <th>11397</th>\n",
       "      <td>0x22d4</td>\n",
       "      <td>25.349227</td>\n",
       "    </tr>\n",
       "    <tr>\n",
       "      <th>11398</th>\n",
       "      <td>0xb7be</td>\n",
       "      <td>21.441461</td>\n",
       "    </tr>\n",
       "  </tbody>\n",
       "</table>\n",
       "<p>11399 rows × 2 columns</p>\n",
       "</div>"
      ],
      "text/plain": [
       "           ID  Time_taken (min)\n",
       "0      0x2318         26.963534\n",
       "1      0x3474         30.802397\n",
       "2      0x9420         28.931918\n",
       "3      0x72ee         30.019608\n",
       "4      0xa759         21.553518\n",
       "...       ...               ...\n",
       "11394  0x6909         22.403667\n",
       "11395  0x443b         29.465797\n",
       "11396  0x1ea5         29.703914\n",
       "11397  0x22d4         25.349227\n",
       "11398  0xb7be         21.441461\n",
       "\n",
       "[11399 rows x 2 columns]"
      ]
     },
     "execution_count": 124,
     "metadata": {},
     "output_type": "execute_result"
    }
   ],
   "source": [
    "y_pred = model2_cat.predict(df_test_final)\n",
    "submission = df_test[['ID']]\n",
    "submission['Time_taken (min)'] = y_pred.reshape(len(df_test))\n",
    "submission.to_csv('submission.csv', index=False)\n",
    "submission"
   ]
  },
  {
   "cell_type": "code",
   "execution_count": null,
   "id": "e1c9eb1a",
   "metadata": {},
   "outputs": [],
   "source": []
  },
  {
   "cell_type": "code",
   "execution_count": null,
   "id": "083957f0",
   "metadata": {},
   "outputs": [],
   "source": []
  },
  {
   "cell_type": "code",
   "execution_count": null,
   "id": "bb4c751a",
   "metadata": {},
   "outputs": [],
   "source": []
  },
  {
   "cell_type": "code",
   "execution_count": 129,
   "id": "f5048cc1",
   "metadata": {
    "ExecuteTime": {
     "end_time": "2022-09-02T18:43:51.663839Z",
     "start_time": "2022-09-02T18:43:49.524362Z"
    }
   },
   "outputs": [
    {
     "data": {
      "text/plain": [
       "<AxesSubplot:>"
      ]
     },
     "execution_count": 129,
     "metadata": {},
     "output_type": "execute_result"
    },
    {
     "data": {
      "image/png": "[encoded data removed]",
      "text/plain": [
       "<Figure size 1080x1080 with 2 Axes>"
      ]
     },
     "metadata": {
      "needs_background": "light"
     },
     "output_type": "display_data"
    }
   ],
   "source": [
    "df_temp = df_train.drop(columns=['ID', 'Order_Date', 'Time_Orderd', 'Order_Date_Year', 'Restaurant_latitude', \n",
    "                                 'Restaurant_longitude', 'Order_Date_Month', 'Time_Orderd_hour', 'Time_Orderd_min',\n",
    "                                 'Time_Order_picked'])\n",
    "\n",
    "label_dict, df_final = labelencoder_fit_transform(df_temp)\n",
    "\n",
    "plt.figure(figsize=(15, 15))\n",
    "sns.heatmap(df_final.corr(), annot=True)"
   ]
  },
  {
   "cell_type": "code",
   "execution_count": 130,
   "id": "5cf56944",
   "metadata": {
    "ExecuteTime": {
     "end_time": "2022-09-02T18:43:53.275905Z",
     "start_time": "2022-09-02T18:43:53.164204Z"
    }
   },
   "outputs": [],
   "source": [
    "# split data into x, and y\n",
    "x = df_final.drop(columns=['Time_taken (min)'])\n",
    "y = df_final['Time_taken (min)']\n",
    "\n",
    "x_scaller = MinMaxScaler(feature_range=(-1, 1))\n",
    "x_scaller.fit(x)\n",
    "x = x_scaller.transform(x)\n",
    "\n",
    "x_train, x_test, y_train, y_test = train_test_split(x, y, test_size=0.05, random_state=111)"
   ]
  },
  {
   "cell_type": "code",
   "execution_count": null,
   "id": "088cebbb",
   "metadata": {
    "ExecuteTime": {
     "start_time": "2022-09-02T18:46:38.242Z"
    },
    "scrolled": false
   },
   "outputs": [
    {
     "data": {
      "application/vnd.jupyter.widget-view+json": {
       "model_id": "86d69c64d6a94c3088322c6c7e55f364",
       "version_major": 2,
       "version_minor": 0
      },
      "text/plain": [
       "MetricVisualizer(layout=Layout(align_self='stretch', height='500px'))"
      ]
     },
     "metadata": {},
     "output_type": "display_data"
    },
    {
     "name": "stdout",
     "output_type": "stream",
     "text": [
      "bestTest = 4.236679238\n",
      "bestIteration = 990\n",
      "bestTest = 4.225316807\n",
      "bestIteration = 998\n",
      "bestTest = 4.20224677\n",
      "bestIteration = 984\n",
      "bestTest = 4.199625623\n",
      "bestIteration = 994\n",
      "bestTest = 4.204444181\n",
      "bestIteration = 944\n",
      "bestTest = 4.506715781\n",
      "bestIteration = 957\n",
      "bestTest = 4.279815175\n",
      "bestIteration = 998\n",
      "bestTest = 4.21806238\n",
      "bestIteration = 999\n",
      "bestTest = 4.25998176\n",
      "bestIteration = 968\n",
      "bestTest = 4.204040272\n",
      "bestIteration = 998\n",
      "bestTest = 4.323202009\n",
      "bestIteration = 999\n",
      "bestTest = 4.222998497\n",
      "bestIteration = 999\n",
      "bestTest = 4.256529282\n",
      "bestIteration = 999\n",
      "bestTest = 4.392704444\n",
      "bestIteration = 997\n",
      "bestTest = 4.198346442\n",
      "bestIteration = 997\n",
      "bestTest = 4.235672712\n",
      "bestIteration = 999\n",
      "bestTest = 4.241046598\n",
      "bestIteration = 998\n",
      "bestTest = 4.20151662\n",
      "bestIteration = 999\n",
      "bestTest = 4.193347112\n",
      "bestIteration = 985\n",
      "bestTest = 4.179870835\n",
      "bestIteration = 994\n",
      "bestTest = 4.202913495\n",
      "bestIteration = 997\n",
      "bestTest = 4.242028039\n",
      "bestIteration = 997\n",
      "bestTest = 4.198512698\n",
      "bestIteration = 999\n",
      "bestTest = 4.209873997\n",
      "bestIteration = 999\n",
      "bestTest = 4.184737785\n",
      "bestIteration = 995\n",
      "bestTest = 4.339764693\n",
      "bestIteration = 945\n",
      "bestTest = 4.216406812\n",
      "bestIteration = 999\n",
      "bestTest = 4.260148785\n",
      "bestIteration = 999\n",
      "bestTest = 4.199271504\n",
      "bestIteration = 996\n",
      "bestTest = 4.173085258\n",
      "bestIteration = 966\n",
      "bestTest = 4.224115433\n",
      "bestIteration = 999\n",
      "bestTest = 4.22148992\n",
      "bestIteration = 998\n",
      "bestTest = 4.214987022\n",
      "bestIteration = 931\n",
      "bestTest = 4.20490789\n",
      "bestIteration = 998\n",
      "bestTest = 4.193996545\n",
      "bestIteration = 996\n",
      "bestTest = 4.24373099\n",
      "bestIteration = 999\n",
      "bestTest = 4.22581109\n",
      "bestIteration = 996\n",
      "bestTest = 4.210782605\n",
      "bestIteration = 999\n",
      "bestTest = 4.199374156\n",
      "bestIteration = 999\n",
      "bestTest = 4.206850962\n",
      "bestIteration = 971\n",
      "bestTest = 4.296660344\n",
      "bestIteration = 999\n",
      "bestTest = 4.233115297\n",
      "bestIteration = 999\n",
      "bestTest = 4.207257817\n",
      "bestIteration = 997\n",
      "bestTest = 4.222578422\n",
      "bestIteration = 995\n",
      "bestTest = 4.188439353\n",
      "bestIteration = 999\n",
      "bestTest = 4.249632677\n",
      "bestIteration = 990\n",
      "bestTest = 4.23950977\n",
      "bestIteration = 999\n",
      "bestTest = 4.313218942\n",
      "bestIteration = 996\n",
      "bestTest = 4.212756149\n",
      "bestIteration = 995\n",
      "bestTest = 4.177939822\n",
      "bestIteration = 996\n",
      "bestTest = 4.232117513\n",
      "bestIteration = 1098\n",
      "bestTest = 4.21759242\n",
      "bestIteration = 1086\n",
      "bestTest = 4.191448988\n",
      "bestIteration = 1095\n",
      "bestTest = 4.198569189\n",
      "bestIteration = 1089\n",
      "bestTest = 4.204444181\n",
      "bestIteration = 944\n",
      "bestTest = 4.435983508\n",
      "bestIteration = 1098\n",
      "bestTest = 4.237697443\n",
      "bestIteration = 1099\n",
      "bestTest = 4.212343402\n",
      "bestIteration = 1076\n",
      "bestTest = 4.233615486\n",
      "bestIteration = 1098\n",
      "bestTest = 4.196170123\n",
      "bestIteration = 1041\n",
      "bestTest = 4.268898616\n",
      "bestIteration = 1099\n",
      "bestTest = 4.206980011\n",
      "bestIteration = 1099\n",
      "bestTest = 4.244289847\n",
      "bestIteration = 1043\n",
      "bestTest = 4.378553289\n",
      "bestIteration = 1072\n",
      "bestTest = 4.196151211\n",
      "bestIteration = 1064\n",
      "bestTest = 4.224468324\n",
      "bestIteration = 1091\n",
      "bestTest = 4.225969436\n",
      "bestIteration = 1098\n",
      "bestTest = 4.195583577\n",
      "bestIteration = 1094\n",
      "bestTest = 4.181647407\n",
      "bestIteration = 1099\n",
      "bestTest = 4.179841277\n",
      "bestIteration = 1092\n",
      "bestTest = 4.201727608\n",
      "bestIteration = 1004\n",
      "bestTest = 4.223086906\n",
      "bestIteration = 1098\n",
      "bestTest = 4.193452061\n",
      "bestIteration = 1076\n",
      "bestTest = 4.199278805\n",
      "bestIteration = 1098\n",
      "bestTest = 4.180589018\n",
      "bestIteration = 1099\n",
      "bestTest = 4.293329996\n",
      "bestIteration = 1099\n",
      "bestTest = 4.206140908\n",
      "bestIteration = 1098\n",
      "bestTest = 4.241657262\n",
      "bestIteration = 1090\n",
      "bestTest = 4.190505629\n",
      "bestIteration = 1042\n",
      "bestTest = 4.172636168\n",
      "bestIteration = 1041\n",
      "bestTest = 4.211019899\n",
      "bestIteration = 1093\n",
      "bestTest = 4.210112413\n",
      "bestIteration = 1096\n",
      "bestTest = 4.210510172\n",
      "bestIteration = 1027\n",
      "bestTest = 4.199007129\n",
      "bestIteration = 1090\n",
      "bestTest = 4.190721691\n",
      "bestIteration = 1099\n",
      "bestTest = 4.229765192\n",
      "bestIteration = 1092\n",
      "bestTest = 4.21440074\n",
      "bestIteration = 1098\n",
      "bestTest = 4.193157425\n",
      "bestIteration = 1094\n",
      "bestTest = 4.189309987\n",
      "bestIteration = 1098\n",
      "bestTest = 4.190205405\n",
      "bestIteration = 1097\n",
      "bestTest = 4.248286401\n",
      "bestIteration = 1099\n",
      "bestTest = 4.222934432\n",
      "bestIteration = 1067\n",
      "bestTest = 4.203548792\n",
      "bestIteration = 1078\n",
      "bestTest = 4.215255528\n",
      "bestIteration = 1097\n",
      "bestTest = 4.186450253\n",
      "bestIteration = 1072\n",
      "bestTest = 4.239581456\n",
      "bestIteration = 1068\n",
      "bestTest = 4.23198923\n",
      "bestIteration = 1097\n",
      "bestTest = 4.312060881\n",
      "bestIteration = 1079\n",
      "bestTest = 4.204821672\n",
      "bestIteration = 1088\n",
      "bestTest = 4.175863657\n",
      "bestIteration = 1098\n",
      "bestTest = 4.221992981\n",
      "bestIteration = 1192\n",
      "bestTest = 4.210609338\n",
      "bestIteration = 1197\n",
      "bestTest = 4.190813363\n",
      "bestIteration = 1196\n",
      "bestTest = 4.193105592\n",
      "bestIteration = 1171\n",
      "bestTest = 4.203025929\n",
      "bestIteration = 1195\n",
      "bestTest = 4.402812275\n",
      "bestIteration = 1142\n",
      "bestTest = 4.219911349\n",
      "bestIteration = 1199\n",
      "bestTest = 4.204872288\n",
      "bestIteration = 1197\n",
      "bestTest = 4.222633951\n",
      "bestIteration = 1194\n",
      "bestTest = 4.187193584\n",
      "bestIteration = 1199\n",
      "bestTest = 4.245496983\n",
      "bestIteration = 1192\n",
      "bestTest = 4.198546635\n",
      "bestIteration = 1194\n",
      "bestTest = 4.23459077\n",
      "bestIteration = 1194\n",
      "bestTest = 4.287689538\n",
      "bestIteration = 1199\n",
      "bestTest = 4.19388688\n",
      "bestIteration = 1160\n",
      "bestTest = 4.214949793\n",
      "bestIteration = 1167\n",
      "bestTest = 4.211563397\n",
      "bestIteration = 1194\n",
      "bestTest = 4.187096017\n",
      "bestIteration = 1199\n",
      "bestTest = 4.180475766\n",
      "bestIteration = 1168\n",
      "bestTest = 4.177982345\n",
      "bestIteration = 1186\n",
      "bestTest = 4.197561903\n",
      "bestIteration = 1183\n",
      "bestTest = 4.215973887\n",
      "bestIteration = 1199\n",
      "bestTest = 4.186068951\n",
      "bestIteration = 1158\n",
      "bestTest = 4.194623733\n",
      "bestIteration = 1199\n",
      "bestTest = 4.180568525\n",
      "bestIteration = 1159\n",
      "bestTest = 4.23342036\n",
      "bestIteration = 1199\n",
      "bestTest = 4.201505888\n",
      "bestIteration = 1195\n",
      "bestTest = 4.235802586\n",
      "bestIteration = 1199\n",
      "bestTest = 4.1864537\n",
      "bestIteration = 1152\n",
      "bestTest = 4.168191071\n",
      "bestIteration = 1173\n",
      "bestTest = 4.209458826\n",
      "bestIteration = 1111\n",
      "bestTest = 4.194242959\n",
      "bestIteration = 1188\n",
      "bestTest = 4.205600354\n",
      "bestIteration = 1199\n",
      "bestTest = 4.19514098\n",
      "bestIteration = 1199\n",
      "bestTest = 4.186164172\n",
      "bestIteration = 1177\n",
      "bestTest = 4.227321325\n",
      "bestIteration = 1114\n",
      "bestTest = 4.209957969\n",
      "bestIteration = 1199\n",
      "bestTest = 4.189174581\n",
      "bestIteration = 1197\n",
      "bestTest = 4.179987988\n",
      "bestIteration = 1199\n",
      "bestTest = 4.181461071\n",
      "bestIteration = 1193\n",
      "bestTest = 4.23764041\n",
      "bestIteration = 1179\n",
      "bestTest = 4.208695\n",
      "bestIteration = 1199\n",
      "bestTest = 4.195409252\n",
      "bestIteration = 1190\n",
      "bestTest = 4.202851913\n",
      "bestIteration = 1199\n",
      "bestTest = 4.182655292\n",
      "bestIteration = 1190\n",
      "bestTest = 4.232852611\n",
      "bestIteration = 1199\n",
      "bestTest = 4.217882784\n",
      "bestIteration = 1198\n",
      "bestTest = 4.309732944\n",
      "bestIteration = 1164\n",
      "bestTest = 4.187440183\n",
      "bestIteration = 1199\n",
      "bestTest = 4.169426512\n",
      "bestIteration = 1157\n",
      "bestTest = 4.217668114\n",
      "bestIteration = 1291\n",
      "bestTest = 4.208210922\n",
      "bestIteration = 1299\n",
      "bestTest = 4.185068138\n",
      "bestIteration = 1299\n",
      "bestTest = 4.190856186\n",
      "bestIteration = 1295\n",
      "bestTest = 4.20261802\n",
      "bestIteration = 1295\n",
      "bestTest = 4.402812275\n",
      "bestIteration = 1142\n",
      "bestTest = 4.207606978\n",
      "bestIteration = 1299\n",
      "bestTest = 4.202726814\n",
      "bestIteration = 1255\n",
      "bestTest = 4.20989392\n",
      "bestIteration = 1298\n",
      "bestTest = 4.186814935\n",
      "bestIteration = 1299\n",
      "bestTest = 4.233250576\n",
      "bestIteration = 1299\n",
      "bestTest = 4.196410177\n",
      "bestIteration = 1299\n",
      "bestTest = 4.214891168\n",
      "bestIteration = 1296\n",
      "bestTest = 4.255127754\n",
      "bestIteration = 1299\n",
      "bestTest = 4.193653993\n",
      "bestIteration = 1299\n",
      "bestTest = 4.203582046\n",
      "bestIteration = 1295\n",
      "bestTest = 4.203740585\n",
      "bestIteration = 1294\n",
      "bestTest = 4.184929794\n",
      "bestIteration = 1299\n",
      "bestTest = 4.176790675\n",
      "bestIteration = 1299\n",
      "bestTest = 4.174468532\n",
      "bestIteration = 1282\n",
      "bestTest = 4.195160112\n",
      "bestIteration = 1297\n",
      "bestTest = 4.199263343\n",
      "bestIteration = 1293\n",
      "bestTest = 4.183875468\n",
      "bestIteration = 1299\n",
      "bestTest = 4.185940766\n",
      "bestIteration = 1299\n",
      "bestTest = 4.174738996\n",
      "bestIteration = 1297\n",
      "bestTest = 4.214553095\n",
      "bestIteration = 1298\n",
      "bestTest = 4.188283464\n",
      "bestIteration = 1299\n",
      "bestTest = 4.221736865\n",
      "bestIteration = 1298\n",
      "bestTest = 4.178293592\n",
      "bestIteration = 1297\n",
      "bestTest = 4.160580851\n",
      "bestIteration = 1299\n",
      "bestTest = 4.195191497\n",
      "bestIteration = 1299\n",
      "bestTest = 4.192059132\n",
      "bestIteration = 1233\n",
      "bestTest = 4.204342081\n",
      "bestIteration = 1260\n",
      "bestTest = 4.1949331\n",
      "bestIteration = 1289\n",
      "bestTest = 4.184275074\n",
      "bestIteration = 1293\n",
      "bestTest = 4.220318655\n",
      "bestIteration = 1266\n",
      "bestTest = 4.204100979\n",
      "bestIteration = 1298\n",
      "bestTest = 4.180678971\n",
      "bestIteration = 1293\n"
     ]
    },
    {
     "name": "stdout",
     "output_type": "stream",
     "text": [
      "bestTest = 4.169935422\n",
      "bestIteration = 1290\n",
      "bestTest = 4.178139698\n",
      "bestIteration = 1278\n",
      "bestTest = 4.227336898\n",
      "bestIteration = 1284\n",
      "bestTest = 4.207897173\n",
      "bestIteration = 1244\n",
      "bestTest = 4.195409252\n",
      "bestIteration = 1190\n",
      "bestTest = 4.195928121\n",
      "bestIteration = 1275\n",
      "bestTest = 4.181804838\n",
      "bestIteration = 1279\n",
      "bestTest = 4.229073486\n",
      "bestIteration = 1295\n",
      "bestTest = 4.211038959\n",
      "bestIteration = 1293\n",
      "bestTest = 4.263733701\n",
      "bestIteration = 1299\n",
      "bestTest = 4.180321305\n",
      "bestIteration = 1297\n",
      "bestTest = 4.167013915\n",
      "bestIteration = 1298\n",
      "bestTest = 4.24644554\n",
      "bestIteration = 999\n",
      "bestTest = 4.21724986\n",
      "bestIteration = 994\n",
      "bestTest = 4.183547608\n",
      "bestIteration = 991\n",
      "bestTest = 4.181546261\n",
      "bestIteration = 986\n",
      "bestTest = 4.17082181\n",
      "bestIteration = 990\n",
      "bestTest = 4.229968163\n",
      "bestIteration = 999\n",
      "bestTest = 4.462128773\n",
      "bestIteration = 971\n",
      "bestTest = 4.228975819\n",
      "bestIteration = 994\n",
      "bestTest = 4.2519704\n",
      "bestIteration = 990\n",
      "bestTest = 4.179549565\n",
      "bestIteration = 975\n",
      "bestTest = 4.421641479\n",
      "bestIteration = 974\n",
      "bestTest = 4.466278508\n",
      "bestIteration = 999\n",
      "bestTest = 4.215198619\n",
      "bestIteration = 999\n",
      "bestTest = 4.492129414\n",
      "bestIteration = 999\n",
      "bestTest = 4.205205134\n",
      "bestIteration = 999\n",
      "bestTest = 4.1995539\n",
      "bestIteration = 994\n",
      "bestTest = 4.273408207\n",
      "bestIteration = 997\n",
      "bestTest = 4.179650113\n",
      "bestIteration = 999\n",
      "bestTest = 4.175328471\n",
      "bestIteration = 990\n",
      "bestTest = 4.156924984\n",
      "bestIteration = 985\n",
      "bestTest = 4.5486547\n",
      "bestIteration = 970\n",
      "bestTest = 4.379638996\n",
      "bestIteration = 999\n",
      "bestTest = 4.191322688\n",
      "bestIteration = 992\n",
      "bestTest = 4.170423078\n",
      "bestIteration = 999\n",
      "bestTest = 4.17080754\n",
      "bestIteration = 961\n",
      "bestTest = 4.194236939\n",
      "bestIteration = 988\n",
      "bestTest = 4.214440755\n",
      "bestIteration = 995\n",
      "bestTest = 4.170330309\n",
      "bestIteration = 991\n",
      "bestTest = 4.187262504\n",
      "bestIteration = 986\n",
      "bestTest = 4.160749049\n",
      "bestIteration = 992\n",
      "bestTest = 4.193241731\n",
      "bestIteration = 998\n",
      "bestTest = 4.224357742\n",
      "bestIteration = 952\n",
      "bestTest = 4.181213257\n",
      "bestIteration = 999\n",
      "bestTest = 4.193282164\n",
      "bestIteration = 999\n",
      "bestTest = 4.159040527\n",
      "bestIteration = 992\n",
      "bestTest = 4.249807324\n",
      "bestIteration = 999\n",
      "bestTest = 4.263450479\n",
      "bestIteration = 999\n",
      "bestTest = 4.199528775\n",
      "bestIteration = 997\n",
      "bestTest = 4.177925144\n",
      "bestIteration = 999\n",
      "bestTest = 4.171677314\n",
      "bestIteration = 998\n",
      "bestTest = 4.230943647\n",
      "bestIteration = 999\n",
      "bestTest = 4.187311393\n",
      "bestIteration = 972\n",
      "bestTest = 4.22559234\n",
      "bestIteration = 995\n",
      "bestTest = 4.191609708\n",
      "bestIteration = 999\n",
      "bestTest = 4.200054006\n",
      "bestIteration = 999\n",
      "bestTest = 4.196778506\n",
      "bestIteration = 998\n",
      "bestTest = 4.221530082\n",
      "bestIteration = 974\n",
      "bestTest = 4.204172624\n",
      "bestIteration = 999\n",
      "bestTest = 4.158437249\n",
      "bestIteration = 995\n",
      "bestTest = 4.168464107\n",
      "bestIteration = 999\n",
      "bestTest = 4.234032549\n",
      "bestIteration = 1090\n",
      "bestTest = 4.203276534\n",
      "bestIteration = 1099\n",
      "bestTest = 4.182526786\n",
      "bestIteration = 1099\n",
      "bestTest = 4.181546261\n",
      "bestIteration = 986\n",
      "bestTest = 4.164589309\n",
      "bestIteration = 1065\n",
      "bestTest = 4.192034822\n",
      "bestIteration = 1098\n",
      "bestTest = 4.347052314\n",
      "bestIteration = 1099\n",
      "bestTest = 4.209810589\n",
      "bestIteration = 1099\n",
      "bestTest = 4.220707332\n",
      "bestIteration = 1098\n",
      "bestTest = 4.165875175\n",
      "bestIteration = 1099\n",
      "bestTest = 4.399329008\n",
      "bestIteration = 1068\n",
      "bestTest = 4.420210286\n",
      "bestIteration = 1098\n",
      "bestTest = 4.19617958\n",
      "bestIteration = 1094\n",
      "bestTest = 4.303368004\n",
      "bestIteration = 1099\n",
      "bestTest = 4.180948603\n",
      "bestIteration = 1094\n",
      "bestTest = 4.18100792\n",
      "bestIteration = 1096\n",
      "bestTest = 4.1995743\n",
      "bestIteration = 1097\n",
      "bestTest = 4.174353384\n",
      "bestIteration = 1090\n",
      "bestTest = 4.16702993\n",
      "bestIteration = 1099\n",
      "bestTest = 4.149738545\n",
      "bestIteration = 1098\n",
      "bestTest = 4.526698952\n",
      "bestIteration = 1074\n",
      "bestTest = 4.305831542\n",
      "bestIteration = 1099\n",
      "bestTest = 4.181712968\n",
      "bestIteration = 1084\n",
      "bestTest = 4.157387051\n",
      "bestIteration = 1072\n",
      "bestTest = 4.169341507\n",
      "bestIteration = 1089\n",
      "bestTest = 4.186324234\n",
      "bestIteration = 1089\n",
      "bestTest = 4.192613261\n",
      "bestIteration = 1097\n",
      "bestTest = 4.168200591\n",
      "bestIteration = 1098\n",
      "bestTest = 4.174230024\n",
      "bestIteration = 1099\n",
      "bestTest = 4.155701234\n",
      "bestIteration = 1099\n",
      "bestTest = 4.189565717\n",
      "bestIteration = 1085\n",
      "bestTest = 4.201574358\n",
      "bestIteration = 1087\n",
      "bestTest = 4.172324932\n",
      "bestIteration = 1098\n",
      "bestTest = 4.174296134\n",
      "bestIteration = 1098\n",
      "bestTest = 4.155199697\n",
      "bestIteration = 1097\n",
      "bestTest = 4.206472367\n",
      "bestIteration = 1099\n",
      "bestTest = 4.213124119\n",
      "bestIteration = 1099\n",
      "bestTest = 4.192139373\n",
      "bestIteration = 1092\n",
      "bestTest = 4.165445659\n",
      "bestIteration = 1098\n",
      "bestTest = 4.161937295\n",
      "bestIteration = 1098\n",
      "bestTest = 4.203698752\n",
      "bestIteration = 1090\n",
      "bestTest = 4.179456998\n",
      "bestIteration = 1065\n",
      "bestTest = 4.213680401\n",
      "bestIteration = 1087\n",
      "bestTest = 4.160559393\n",
      "bestIteration = 1098\n",
      "bestTest = 4.174865366\n",
      "bestIteration = 1094\n",
      "bestTest = 4.187519436\n",
      "bestIteration = 1097\n",
      "bestTest = 4.217414942\n",
      "bestIteration = 1069\n",
      "bestTest = 4.20344002\n",
      "bestIteration = 1097\n",
      "bestTest = 4.154120893\n",
      "bestIteration = 1071\n",
      "bestTest = 4.148492894\n",
      "bestIteration = 1092\n",
      "bestTest = 4.228006066\n",
      "bestIteration = 1198\n",
      "bestTest = 4.19435584\n",
      "bestIteration = 1187\n",
      "bestTest = 4.174370451\n",
      "bestIteration = 1197\n",
      "bestTest = 4.180878716\n",
      "bestIteration = 1196\n",
      "bestTest = 4.163947851\n",
      "bestIteration = 1172\n",
      "bestTest = 4.184310421\n",
      "bestIteration = 1162\n",
      "bestTest = 4.236165574\n",
      "bestIteration = 1193\n",
      "bestTest = 4.194007082\n",
      "bestIteration = 1199\n",
      "bestTest = 4.213263892\n",
      "bestIteration = 1183\n",
      "bestTest = 4.161011737\n",
      "bestIteration = 1191\n",
      "bestTest = 4.333269049\n",
      "bestIteration = 1196\n",
      "bestTest = 4.39692729\n",
      "bestIteration = 1170\n",
      "bestTest = 4.193539587\n",
      "bestIteration = 1199\n",
      "bestTest = 4.211277737\n",
      "bestIteration = 1199\n",
      "bestTest = 4.175768633\n",
      "bestIteration = 1189\n",
      "bestTest = 4.171395192\n",
      "bestIteration = 1199\n",
      "bestTest = 4.18201337\n",
      "bestIteration = 1199\n",
      "bestTest = 4.161287194\n",
      "bestIteration = 1199\n",
      "bestTest = 4.163262105\n",
      "bestIteration = 1177\n",
      "bestTest = 4.146620344\n",
      "bestIteration = 1196\n",
      "bestTest = 4.359615354\n",
      "bestIteration = 1199\n",
      "bestTest = 4.210052007\n",
      "bestIteration = 1199\n",
      "bestTest = 4.179393128\n",
      "bestIteration = 1196\n",
      "bestTest = 4.151490866\n",
      "bestIteration = 1198\n",
      "bestTest = 4.159475474\n",
      "bestIteration = 1186\n",
      "bestTest = 4.172897026\n",
      "bestIteration = 1181\n",
      "bestTest = 4.178544385\n",
      "bestIteration = 1198\n",
      "bestTest = 4.161527093\n",
      "bestIteration = 1166\n",
      "bestTest = 4.170970352\n",
      "bestIteration = 1137\n",
      "bestTest = 4.152454165\n",
      "bestIteration = 1176\n",
      "bestTest = 4.180635182\n",
      "bestIteration = 1187\n",
      "bestTest = 4.188239323\n",
      "bestIteration = 1198\n",
      "bestTest = 4.163881144\n",
      "bestIteration = 1155\n",
      "bestTest = 4.159739109\n",
      "bestIteration = 1198\n",
      "bestTest = 4.150541468\n",
      "bestIteration = 1193\n",
      "bestTest = 4.198157195\n",
      "bestIteration = 1154\n",
      "bestTest = 4.204429167\n",
      "bestIteration = 1199\n",
      "bestTest = 4.175695852\n",
      "bestIteration = 1198\n",
      "bestTest = 4.159088447\n",
      "bestIteration = 1195\n",
      "bestTest = 4.155041475\n",
      "bestIteration = 1175\n",
      "bestTest = 4.20151061\n",
      "bestIteration = 1173\n",
      "bestTest = 4.179456998\n",
      "bestIteration = 1065\n",
      "bestTest = 4.212642904\n",
      "bestIteration = 1134\n",
      "bestTest = 4.146819337\n",
      "bestIteration = 1199\n",
      "bestTest = 4.168635015\n",
      "bestIteration = 1159\n",
      "bestTest = 4.182143401\n",
      "bestIteration = 1182\n",
      "bestTest = 4.217169027\n",
      "bestIteration = 1191\n",
      "bestTest = 4.187003833\n",
      "bestIteration = 1199\n",
      "bestTest = 4.144750429\n",
      "bestIteration = 1196\n",
      "bestTest = 4.143834089\n",
      "bestIteration = 1199\n",
      "bestTest = 4.213168213\n",
      "bestIteration = 1265\n",
      "bestTest = 4.187697535\n",
      "bestIteration = 1295\n",
      "bestTest = 4.174198481\n",
      "bestIteration = 1294\n",
      "bestTest = 4.17882365\n",
      "bestIteration = 1297\n",
      "bestTest = 4.160726291\n",
      "bestIteration = 1291\n",
      "bestTest = 4.18317488\n",
      "bestIteration = 1293\n",
      "bestTest = 4.195913076\n",
      "bestIteration = 1298\n",
      "bestTest = 4.185099384\n",
      "bestIteration = 1299\n",
      "bestTest = 4.196377727\n",
      "bestIteration = 1287\n",
      "bestTest = 4.158190882\n",
      "bestIteration = 1299\n",
      "bestTest = 4.260202765\n",
      "bestIteration = 1299\n",
      "bestTest = 4.24641963\n",
      "bestIteration = 1298\n",
      "bestTest = 4.18068609\n",
      "bestIteration = 1251\n",
      "bestTest = 4.180791356\n",
      "bestIteration = 1298\n",
      "bestTest = 4.170197963\n",
      "bestIteration = 1287\n",
      "bestTest = 4.166424129\n",
      "bestIteration = 1257\n",
      "bestTest = 4.167924942\n",
      "bestIteration = 1299\n",
      "bestTest = 4.157151685\n",
      "bestIteration = 1257\n",
      "bestTest = 4.15694234\n",
      "bestIteration = 1249\n",
      "bestTest = 4.144954734\n",
      "bestIteration = 1299\n",
      "bestTest = 4.283852268\n",
      "bestIteration = 1299\n",
      "bestTest = 4.187234721\n",
      "bestIteration = 1298\n",
      "bestTest = 4.172795883\n",
      "bestIteration = 1271\n",
      "bestTest = 4.142015171\n",
      "bestIteration = 1299\n",
      "bestTest = 4.155470114\n",
      "bestIteration = 1270\n",
      "bestTest = 4.169698818\n",
      "bestIteration = 1233\n"
     ]
    },
    {
     "name": "stdout",
     "output_type": "stream",
     "text": [
      "bestTest = 4.170847973\n",
      "bestIteration = 1283\n",
      "bestTest = 4.158106732\n",
      "bestIteration = 1260\n",
      "bestTest = 4.169265802\n",
      "bestIteration = 1299\n",
      "bestTest = 4.151276673\n",
      "bestIteration = 1235\n",
      "bestTest = 4.18035086\n",
      "bestIteration = 1273\n",
      "bestTest = 4.177209525\n",
      "bestIteration = 1274\n",
      "bestTest = 4.158874211\n",
      "bestIteration = 1299\n",
      "bestTest = 4.151091146\n",
      "bestIteration = 1297\n",
      "bestTest = 4.14632586\n",
      "bestIteration = 1288\n",
      "bestTest = 4.183160221\n",
      "bestIteration = 1299\n",
      "bestTest = 4.190352614\n",
      "bestIteration = 1298\n",
      "bestTest = 4.163014724\n",
      "bestIteration = 1298\n",
      "bestTest = 4.145581727\n",
      "bestIteration = 1299\n",
      "bestTest = 4.152507808\n",
      "bestIteration = 1297\n",
      "bestTest = 4.200060233\n",
      "bestIteration = 1239\n",
      "bestTest = 4.179262365\n",
      "bestIteration = 1296\n",
      "bestTest = 4.207539249\n",
      "bestIteration = 1242\n",
      "bestTest = 4.141281152\n",
      "bestIteration = 1298\n",
      "bestTest = 4.168485741\n",
      "bestIteration = 1297\n",
      "bestTest = 4.175462814\n",
      "bestIteration = 1297\n",
      "bestTest = 4.196607884\n",
      "bestIteration = 1297\n",
      "bestTest = 4.172496763\n",
      "bestIteration = 1269\n",
      "bestTest = 4.14443427\n",
      "bestIteration = 1202\n",
      "bestTest = 4.140281493\n",
      "bestIteration = 1295\n",
      "bestTest = 4.533123727\n",
      "bestIteration = 999\n",
      "bestTest = 4.164517848\n",
      "bestIteration = 999\n",
      "bestTest = 4.273955377\n",
      "bestIteration = 967\n",
      "bestTest = 4.153485635\n",
      "bestIteration = 998\n",
      "bestTest = 4.151161534\n",
      "bestIteration = 999\n",
      "bestTest = 4.177318981\n",
      "bestIteration = 992\n",
      "bestTest = 4.421846859\n",
      "bestIteration = 999\n",
      "bestTest = 4.177982777\n",
      "bestIteration = 999\n",
      "bestTest = 4.193535071\n",
      "bestIteration = 999\n",
      "bestTest = 4.24079695\n",
      "bestIteration = 990\n",
      "bestTest = 4.247671171\n",
      "bestIteration = 996\n",
      "bestTest = 4.564039364\n",
      "bestIteration = 996\n",
      "bestTest = 4.154897356\n",
      "bestIteration = 986\n",
      "bestTest = 4.152271948\n",
      "bestIteration = 958\n",
      "bestTest = 4.15212795\n",
      "bestIteration = 999\n",
      "bestTest = 4.307820577\n",
      "bestIteration = 990\n",
      "bestTest = 4.181037039\n",
      "bestIteration = 999\n",
      "bestTest = 4.363505455\n",
      "bestIteration = 954\n",
      "bestTest = 4.206250682\n",
      "bestIteration = 999\n",
      "bestTest = 4.158036461\n",
      "bestIteration = 950\n",
      "bestTest = 4.468802179\n",
      "bestIteration = 954\n",
      "bestTest = 4.482341913\n",
      "bestIteration = 993\n",
      "bestTest = 4.185204754\n",
      "bestIteration = 999\n",
      "bestTest = 4.16921908\n",
      "bestIteration = 883\n",
      "bestTest = 4.154474737\n",
      "bestIteration = 993\n",
      "bestTest = 4.223587642\n",
      "bestIteration = 999\n",
      "bestTest = 4.400382332\n",
      "bestIteration = 999\n",
      "bestTest = 4.495486011\n",
      "bestIteration = 980\n",
      "bestTest = 4.186602549\n",
      "bestIteration = 999\n",
      "bestTest = 4.147106827\n",
      "bestIteration = 998\n",
      "bestTest = 4.265088421\n",
      "bestIteration = 999\n",
      "bestTest = 4.16456289\n",
      "bestIteration = 999\n",
      "bestTest = 4.186220615\n",
      "bestIteration = 999\n",
      "bestTest = 4.144622054\n",
      "bestIteration = 994\n",
      "bestTest = 4.183434435\n",
      "bestIteration = 997\n",
      "bestTest = 4.358619423\n",
      "bestIteration = 998\n",
      "bestTest = 4.172846887\n",
      "bestIteration = 954\n",
      "bestTest = 4.183307031\n",
      "bestIteration = 931\n",
      "bestTest = 4.138751045\n",
      "bestIteration = 979\n",
      "bestTest = 4.149601414\n",
      "bestIteration = 992\n",
      "bestTest = 4.18662969\n",
      "bestIteration = 992\n",
      "bestTest = 4.17929689\n",
      "bestIteration = 998\n",
      "bestTest = 4.305438191\n",
      "bestIteration = 999\n",
      "bestTest = 4.13110864\n",
      "bestIteration = 998\n",
      "bestTest = 4.172117428\n",
      "bestIteration = 995\n",
      "bestTest = 4.154982873\n",
      "bestIteration = 999\n",
      "bestTest = 4.161777163\n",
      "bestIteration = 999\n",
      "bestTest = 4.143344828\n",
      "bestIteration = 979\n",
      "bestTest = 4.172915612\n",
      "bestIteration = 995\n",
      "bestTest = 4.167675024\n",
      "bestIteration = 999\n",
      "bestTest = 4.31020018\n",
      "bestIteration = 1099\n",
      "bestTest = 4.157485749\n",
      "bestIteration = 1099\n",
      "bestTest = 4.273955377\n",
      "bestIteration = 967\n",
      "bestTest = 4.146626216\n",
      "bestIteration = 1097\n",
      "bestTest = 4.140025768\n",
      "bestIteration = 1076\n",
      "bestTest = 4.164740888\n",
      "bestIteration = 1099\n",
      "bestTest = 4.401115554\n",
      "bestIteration = 1022\n",
      "bestTest = 4.166352916\n",
      "bestIteration = 1095\n",
      "bestTest = 4.154994594\n",
      "bestIteration = 1096\n",
      "bestTest = 4.193176566\n",
      "bestIteration = 1099\n",
      "bestTest = 4.208159918\n",
      "bestIteration = 1094\n",
      "bestTest = 4.52723503\n",
      "bestIteration = 1087\n",
      "bestTest = 4.150080159\n",
      "bestIteration = 1099\n",
      "bestTest = 4.147747628\n",
      "bestIteration = 1097\n",
      "bestTest = 4.145942826\n",
      "bestIteration = 1098\n",
      "bestTest = 4.283365525\n",
      "bestIteration = 1099\n",
      "bestTest = 4.155325575\n",
      "bestIteration = 1096\n",
      "bestTest = 4.348731349\n",
      "bestIteration = 1086\n",
      "bestTest = 4.164148831\n",
      "bestIteration = 1097\n",
      "bestTest = 4.150206193\n",
      "bestIteration = 1089\n",
      "bestTest = 4.459972183\n",
      "bestIteration = 1072\n",
      "bestTest = 4.464714376\n",
      "bestIteration = 1077\n",
      "bestTest = 4.149042409\n",
      "bestIteration = 1092\n",
      "bestTest = 4.16921908\n",
      "bestIteration = 883\n",
      "bestTest = 4.148882648\n",
      "bestIteration = 1083\n",
      "bestTest = 4.183712296\n",
      "bestIteration = 1099\n",
      "bestTest = 4.397587878\n",
      "bestIteration = 1074\n",
      "bestTest = 4.495486011\n",
      "bestIteration = 980\n",
      "bestTest = 4.147516064\n",
      "bestIteration = 1096\n",
      "bestTest = 4.127788044\n",
      "bestIteration = 1089\n",
      "bestTest = 4.222735181\n",
      "bestIteration = 1099\n",
      "bestTest = 4.159544637\n",
      "bestIteration = 1089\n",
      "bestTest = 4.155962505\n",
      "bestIteration = 1099\n",
      "bestTest = 4.136635155\n",
      "bestIteration = 1087\n",
      "bestTest = 4.159331725\n",
      "bestIteration = 1099\n",
      "bestTest = 4.350782854\n",
      "bestIteration = 1044\n",
      "bestTest = 4.163781298\n",
      "bestIteration = 1076\n",
      "bestTest = 4.164559642\n",
      "bestIteration = 1098\n",
      "bestTest = 4.129093452\n",
      "bestIteration = 1097\n",
      "bestTest = 4.129755609\n",
      "bestIteration = 1098\n",
      "bestTest = 4.181003822\n",
      "bestIteration = 1089\n",
      "bestTest = 4.169053604\n",
      "bestIteration = 1081\n",
      "bestTest = 4.269060012\n",
      "bestIteration = 1099\n",
      "bestTest = 4.130891207\n",
      "bestIteration = 1029\n",
      "bestTest = 4.169085834\n",
      "bestIteration = 1099\n",
      "bestTest = 4.144543939\n",
      "bestIteration = 1096\n",
      "bestTest = 4.157548871\n",
      "bestIteration = 1095\n",
      "bestTest = 4.1384645\n",
      "bestIteration = 1081\n",
      "bestTest = 4.148432678\n",
      "bestIteration = 1098\n",
      "bestTest = 4.147979614\n",
      "bestIteration = 1098\n",
      "bestTest = 4.251800932\n",
      "bestIteration = 1197\n",
      "bestTest = 4.154583055\n",
      "bestIteration = 1192\n",
      "bestTest = 4.187059402\n",
      "bestIteration = 1199\n",
      "bestTest = 4.144813963\n",
      "bestIteration = 1198\n",
      "bestTest = 4.137248587\n",
      "bestIteration = 1147\n",
      "bestTest = 4.159625939\n",
      "bestIteration = 1162\n",
      "bestTest = 4.237906205\n",
      "bestIteration = 1199\n",
      "bestTest = 4.153171878\n",
      "bestIteration = 1191\n",
      "bestTest = 4.142048266\n",
      "bestIteration = 1194\n",
      "bestTest = 4.177039831\n",
      "bestIteration = 1185\n",
      "bestTest = 4.183419776\n",
      "bestIteration = 1198\n",
      "bestTest = 4.522181701\n",
      "bestIteration = 1164\n",
      "bestTest = 4.141664618\n",
      "bestIteration = 1188\n",
      "bestTest = 4.146679282\n",
      "bestIteration = 1199\n",
      "bestTest = 4.14042917\n",
      "bestIteration = 1199\n",
      "bestTest = 4.183633617\n",
      "bestIteration = 1199\n",
      "bestTest = 4.142693985\n",
      "bestIteration = 1199\n",
      "bestTest = 4.30455962\n",
      "bestIteration = 1199\n",
      "bestTest = 4.161884424\n",
      "bestIteration = 1195\n",
      "bestTest = 4.144637503\n",
      "bestIteration = 1153\n",
      "bestTest = 4.422297151\n",
      "bestIteration = 1181\n",
      "bestTest = 4.29174654\n",
      "bestIteration = 1199\n",
      "bestTest = 4.142013647\n",
      "bestIteration = 1181\n",
      "bestTest = 4.15239444\n",
      "bestIteration = 1197\n",
      "bestTest = 4.145948046\n",
      "bestIteration = 1140\n",
      "bestTest = 4.179742459\n",
      "bestIteration = 1146\n",
      "bestTest = 4.201267412\n",
      "bestIteration = 1199\n",
      "bestTest = 4.472942095\n",
      "bestIteration = 1188\n",
      "bestTest = 4.13717709\n",
      "bestIteration = 1182\n",
      "bestTest = 4.124690854\n",
      "bestIteration = 1188\n",
      "bestTest = 4.197743658\n",
      "bestIteration = 1146\n",
      "bestTest = 4.148946988\n",
      "bestIteration = 1191\n",
      "bestTest = 4.140401726\n",
      "bestIteration = 1199\n",
      "bestTest = 4.136085518\n",
      "bestIteration = 1152\n",
      "bestTest = 4.142489569\n",
      "bestIteration = 1187\n",
      "bestTest = 4.254194064\n",
      "bestIteration = 1199\n",
      "bestTest = 4.156254136\n",
      "bestIteration = 1199\n",
      "bestTest = 4.155308647\n",
      "bestIteration = 1199\n",
      "bestTest = 4.128086908\n",
      "bestIteration = 1196\n",
      "bestTest = 4.120269544\n",
      "bestIteration = 1199\n",
      "bestTest = 4.181003822\n",
      "bestIteration = 1089\n",
      "bestTest = 4.156875737\n",
      "bestIteration = 1177\n",
      "bestTest = 4.231492046\n",
      "bestIteration = 1145\n",
      "bestTest = 4.13050696\n",
      "bestIteration = 1110\n",
      "bestTest = 4.157519371\n",
      "bestIteration = 1187\n",
      "bestTest = 4.135054723\n",
      "bestIteration = 1199\n",
      "bestTest = 4.148139192\n",
      "bestIteration = 1195\n",
      "bestTest = 4.133385762\n",
      "bestIteration = 1192\n",
      "bestTest = 4.132635153\n",
      "bestIteration = 1192\n",
      "bestTest = 4.135278044\n",
      "bestIteration = 1195\n",
      "bestTest = 4.194281447\n",
      "bestIteration = 1294\n",
      "bestTest = 4.149835469\n",
      "bestIteration = 1298\n",
      "bestTest = 4.177004855\n",
      "bestIteration = 1292\n",
      "bestTest = 4.138712259\n",
      "bestIteration = 1299\n",
      "bestTest = 4.134697255\n",
      "bestIteration = 1296\n",
      "bestTest = 4.1509936\n",
      "bestIteration = 1281\n",
      "bestTest = 4.198345154\n",
      "bestIteration = 1299\n",
      "bestTest = 4.145041762\n",
      "bestIteration = 1299\n",
      "bestTest = 4.138553843\n",
      "bestIteration = 1288\n",
      "bestTest = 4.168754215\n",
      "bestIteration = 1293\n",
      "bestTest = 4.172120238\n",
      "bestIteration = 1296\n",
      "bestTest = 4.321691057\n",
      "bestIteration = 1299\n",
      "bestTest = 4.138423097\n",
      "bestIteration = 1294\n",
      "bestTest = 4.140144484\n",
      "bestIteration = 1281\n"
     ]
    },
    {
     "name": "stdout",
     "output_type": "stream",
     "text": [
      "bestTest = 4.133697748\n",
      "bestIteration = 1297\n",
      "bestTest = 4.16555131\n",
      "bestIteration = 1299\n",
      "bestTest = 4.137095128\n",
      "bestIteration = 1286\n",
      "bestTest = 4.201287375\n",
      "bestIteration = 1292\n",
      "bestTest = 4.148357243\n",
      "bestIteration = 1299\n",
      "bestTest = 4.138895291\n",
      "bestIteration = 1289\n",
      "bestTest = 4.302036868\n",
      "bestIteration = 1293\n",
      "bestTest = 4.202666731\n",
      "bestIteration = 1299\n",
      "bestTest = 4.134566386\n",
      "bestIteration = 1299\n",
      "bestTest = 4.143244269\n",
      "bestIteration = 1289\n",
      "bestTest = 4.142434926\n",
      "bestIteration = 1286\n",
      "bestTest = 4.164250617\n",
      "bestIteration = 1299\n",
      "bestTest = 4.182897631\n",
      "bestIteration = 1258\n",
      "bestTest = 4.408738293\n",
      "bestIteration = 1264\n",
      "bestTest = 4.125371644\n",
      "bestIteration = 1299\n",
      "bestTest = 4.122838117\n",
      "bestIteration = 1227\n",
      "bestTest = 4.180304694\n",
      "bestIteration = 1291\n",
      "bestTest = 4.142491311\n",
      "bestIteration = 1285\n",
      "bestTest = 4.127389742\n",
      "bestIteration = 1297\n",
      "bestTest = 4.134493752\n",
      "bestIteration = 1251\n",
      "bestTest = 4.130768732\n",
      "bestIteration = 1257\n",
      "bestTest = 4.17731013\n",
      "bestIteration = 1299\n",
      "bestTest = 4.143894373\n",
      "bestIteration = 1275\n",
      "bestTest = 4.138350094\n",
      "bestIteration = 1299\n",
      "bestTest = 4.121494624\n",
      "bestIteration = 1269\n",
      "bestTest = 4.118018238\n",
      "bestIteration = 1298\n",
      "bestTest = 4.177535509\n",
      "bestIteration = 1284\n",
      "bestTest = 4.151480874\n",
      "bestIteration = 1292\n",
      "bestTest = 4.177216866\n",
      "bestIteration = 1298\n",
      "bestTest = 4.122087119\n",
      "bestIteration = 1299\n",
      "bestTest = 4.149249328\n",
      "bestIteration = 1299\n",
      "bestTest = 4.130583375\n",
      "bestIteration = 1299\n",
      "bestTest = 4.140885891\n",
      "bestIteration = 1299\n",
      "bestTest = 4.127687762\n",
      "bestIteration = 1299\n",
      "bestTest = 4.122920143\n",
      "bestIteration = 1299\n",
      "bestTest = 4.127242254\n",
      "bestIteration = 1293\n",
      "bestTest = 4.594274537\n",
      "bestIteration = 991\n",
      "bestTest = 4.53439498\n",
      "bestIteration = 999\n",
      "bestTest = 4.486461495\n",
      "bestIteration = 999\n",
      "bestTest = 4.344581013\n",
      "bestIteration = 967\n",
      "bestTest = 4.1971193\n",
      "bestIteration = 993\n",
      "bestTest = 4.295523012\n",
      "bestIteration = 983\n",
      "bestTest = 4.627052388\n",
      "bestIteration = 998\n",
      "bestTest = 4.543649408\n",
      "bestIteration = 993\n",
      "bestTest = 4.464250585\n",
      "bestIteration = 999\n",
      "bestTest = 4.143321103\n",
      "bestIteration = 999\n",
      "bestTest = 4.438192801\n",
      "bestIteration = 967\n",
      "bestTest = 4.505093024\n",
      "bestIteration = 999\n",
      "bestTest = 4.304960174\n",
      "bestIteration = 983\n",
      "bestTest = 4.110409906\n",
      "bestIteration = 998\n",
      "bestTest = 4.172166927\n",
      "bestIteration = 998\n",
      "bestTest = 4.266566364\n",
      "bestIteration = 999\n",
      "bestTest = 4.165552609\n",
      "bestIteration = 958\n",
      "bestTest = 4.137223301\n",
      "bestIteration = 999\n",
      "bestTest = 4.159904956\n",
      "bestIteration = 999\n",
      "bestTest = 4.116806363\n",
      "bestIteration = 982\n",
      "bestTest = 4.352480755\n",
      "bestIteration = 982\n",
      "bestTest = 4.407432638\n",
      "bestIteration = 991\n",
      "bestTest = 4.18776817\n",
      "bestIteration = 998\n",
      "bestTest = 4.183020951\n",
      "bestIteration = 998\n",
      "bestTest = 4.166876702\n",
      "bestIteration = 999\n",
      "bestTest = 4.292126858\n",
      "bestIteration = 988\n",
      "bestTest = 4.302123652\n",
      "bestIteration = 998\n",
      "bestTest = 4.449865093\n",
      "bestIteration = 952\n",
      "bestTest = 4.348167041\n",
      "bestIteration = 995\n",
      "bestTest = 4.134256428\n",
      "bestIteration = 982\n",
      "bestTest = 4.151637059\n",
      "bestIteration = 998\n",
      "bestTest = 4.240850325\n",
      "bestIteration = 999\n",
      "bestTest = 4.233907946\n",
      "bestIteration = 978\n",
      "bestTest = 4.12279415\n",
      "bestIteration = 995\n",
      "bestTest = 4.123956813\n",
      "bestIteration = 997\n",
      "bestTest = 4.252971373\n",
      "bestIteration = 914\n",
      "bestTest = 4.155483569\n",
      "bestIteration = 996\n",
      "bestTest = 4.158690975\n",
      "bestIteration = 985\n",
      "bestTest = 4.151550821\n",
      "bestIteration = 975\n",
      "bestTest = 4.139504685\n",
      "bestIteration = 992\n",
      "bestTest = 4.383285018\n",
      "bestIteration = 998\n",
      "bestTest = 4.133457979\n",
      "bestIteration = 999\n",
      "bestTest = 4.166910032\n",
      "bestIteration = 998\n",
      "bestTest = 4.137029296\n",
      "bestIteration = 985\n",
      "bestTest = 4.116382242\n",
      "bestIteration = 980\n",
      "bestTest = 4.158393225\n",
      "bestIteration = 988\n",
      "bestTest = 4.16017962\n",
      "bestIteration = 996\n",
      "bestTest = 4.176100128\n",
      "bestIteration = 990\n",
      "bestTest = 4.148099189\n",
      "bestIteration = 999\n",
      "bestTest = 4.118011668\n",
      "bestIteration = 997\n",
      "bestTest = 4.588959185\n",
      "bestIteration = 1092\n",
      "bestTest = 4.378311275\n",
      "bestIteration = 1099\n",
      "bestTest = 4.325046482\n",
      "bestIteration = 1099\n",
      "bestTest = 4.277350779\n",
      "bestIteration = 1091\n",
      "bestTest = 4.166534734\n",
      "bestIteration = 1099\n",
      "bestTest = 4.23437077\n",
      "bestIteration = 1099\n",
      "bestTest = 4.549120988\n",
      "bestIteration = 1057\n",
      "bestTest = 4.350570595\n",
      "bestIteration = 1075\n",
      "bestTest = 4.375729437\n",
      "bestIteration = 1098\n",
      "bestTest = 4.135947279\n",
      "bestIteration = 1092\n",
      "bestTest = 4.397096497\n",
      "bestIteration = 1093\n",
      "bestTest = 4.446348714\n",
      "bestIteration = 1048\n",
      "bestTest = 4.197739146\n",
      "bestIteration = 1065\n",
      "bestTest = 4.106124546\n",
      "bestIteration = 1059\n",
      "bestTest = 4.153605486\n",
      "bestIteration = 1062\n",
      "bestTest = 4.20945197\n",
      "bestIteration = 1099\n",
      "bestTest = 4.146312158\n",
      "bestIteration = 1087\n",
      "bestTest = 4.132107682\n",
      "bestIteration = 1089\n",
      "bestTest = 4.150130573\n",
      "bestIteration = 1095\n",
      "bestTest = 4.113458216\n",
      "bestIteration = 1010\n",
      "bestTest = 4.340064545\n",
      "bestIteration = 1089\n",
      "bestTest = 4.246100635\n",
      "bestIteration = 1099\n",
      "bestTest = 4.151192166\n",
      "bestIteration = 1096\n",
      "bestTest = 4.183003919\n",
      "bestIteration = 1098\n",
      "bestTest = 4.143139355\n",
      "bestIteration = 1093\n",
      "bestTest = 4.286448419\n",
      "bestIteration = 1097\n",
      "bestTest = 4.249978781\n",
      "bestIteration = 1099\n",
      "bestTest = 4.428436992\n",
      "bestIteration = 1056\n",
      "bestTest = 4.30127208\n",
      "bestIteration = 1087\n",
      "bestTest = 4.127096071\n",
      "bestIteration = 1043\n",
      "bestTest = 4.13961383\n",
      "bestIteration = 1074\n",
      "bestTest = 4.203650482\n",
      "bestIteration = 1046\n",
      "bestTest = 4.206899195\n",
      "bestIteration = 1049\n",
      "bestTest = 4.115492894\n",
      "bestIteration = 1096\n",
      "bestTest = 4.110153859\n",
      "bestIteration = 1089\n",
      "bestTest = 4.217913572\n",
      "bestIteration = 1099\n",
      "bestTest = 4.145448157\n",
      "bestIteration = 1091\n",
      "bestTest = 4.155861167\n",
      "bestIteration = 1095\n",
      "bestTest = 4.125123521\n",
      "bestIteration = 1093\n",
      "bestTest = 4.132835474\n",
      "bestIteration = 1099\n",
      "bestTest = 4.340920141\n",
      "bestIteration = 1093\n",
      "bestTest = 4.133457106\n",
      "bestIteration = 1001\n",
      "bestTest = 4.132881298\n",
      "bestIteration = 1097\n",
      "bestTest = 4.132169009\n",
      "bestIteration = 1098\n",
      "bestTest = 4.104925636\n",
      "bestIteration = 1093\n",
      "bestTest = 4.154199262\n",
      "bestIteration = 1094\n",
      "bestTest = 4.135546056\n",
      "bestIteration = 1099\n",
      "bestTest = 4.143002441\n",
      "bestIteration = 1094\n",
      "bestTest = 4.139501852\n",
      "bestIteration = 1098\n",
      "bestTest = 4.115406775\n",
      "bestIteration = 1093\n",
      "bestTest = 4.5095624\n",
      "bestIteration = 1199\n",
      "bestTest = 4.240655745\n",
      "bestIteration = 1199\n",
      "bestTest = 4.191143883\n",
      "bestIteration = 1197\n",
      "bestTest = 4.226613856\n",
      "bestIteration = 1184\n",
      "bestTest = 4.147358854\n",
      "bestIteration = 1197\n",
      "bestTest = 4.201922918\n",
      "bestIteration = 1199\n",
      "bestTest = 4.528016025\n",
      "bestIteration = 1197\n",
      "bestTest = 4.189821432\n",
      "bestIteration = 1199\n",
      "bestTest = 4.198779681\n",
      "bestIteration = 1193\n",
      "bestTest = 4.134952437\n",
      "bestIteration = 1199\n",
      "bestTest = 4.374647708\n",
      "bestIteration = 1184\n",
      "bestTest = 4.438064582\n",
      "bestIteration = 1180\n",
      "bestTest = 4.186081877\n",
      "bestIteration = 1199\n",
      "bestTest = 4.105276251\n",
      "bestIteration = 1164\n",
      "bestTest = 4.151808009\n",
      "bestIteration = 1178\n",
      "bestTest = 4.185843601\n",
      "bestIteration = 1199\n",
      "bestTest = 4.13114335\n",
      "bestIteration = 1199\n",
      "bestTest = 4.128773473\n",
      "bestIteration = 1199\n",
      "bestTest = 4.136568444\n",
      "bestIteration = 1197\n",
      "bestTest = 4.113458216\n",
      "bestIteration = 1010\n",
      "bestTest = 4.322464333\n",
      "bestIteration = 1198\n",
      "bestTest = 4.203329313\n",
      "bestIteration = 1199\n",
      "bestTest = 4.140505838\n",
      "bestIteration = 1199\n",
      "bestTest = 4.159417151\n",
      "bestIteration = 1197\n",
      "bestTest = 4.134482628\n",
      "bestIteration = 1199\n",
      "bestTest = 4.284828955\n",
      "bestIteration = 1115\n",
      "bestTest = 4.249974324\n",
      "bestIteration = 1157\n",
      "bestTest = 4.325993856\n",
      "bestIteration = 1190\n",
      "bestTest = 4.189495974\n",
      "bestIteration = 1198\n",
      "bestTest = 4.125019239\n",
      "bestIteration = 1185\n",
      "bestTest = 4.139405558\n",
      "bestIteration = 1113\n",
      "bestTest = 4.160120006\n",
      "bestIteration = 1199\n",
      "bestTest = 4.160281503\n",
      "bestIteration = 1199\n",
      "bestTest = 4.112789269\n",
      "bestIteration = 1192\n",
      "bestTest = 4.108015336\n",
      "bestIteration = 1155\n",
      "bestTest = 4.186281795\n",
      "bestIteration = 1199\n",
      "bestTest = 4.13139766\n",
      "bestIteration = 1193\n",
      "bestTest = 4.140939902\n",
      "bestIteration = 1196\n",
      "bestTest = 4.123362181\n",
      "bestIteration = 1154\n",
      "bestTest = 4.129552518\n",
      "bestIteration = 1193\n",
      "bestTest = 4.238060269\n",
      "bestIteration = 1199\n",
      "bestTest = 4.130663501\n",
      "bestIteration = 1172\n",
      "bestTest = 4.117296807\n",
      "bestIteration = 1189\n",
      "bestTest = 4.127302124\n",
      "bestIteration = 1199\n",
      "bestTest = 4.102081383\n",
      "bestIteration = 1196\n",
      "bestTest = 4.144661437\n",
      "bestIteration = 1169\n",
      "bestTest = 4.125315462\n",
      "bestIteration = 1199\n",
      "bestTest = 4.140210266\n",
      "bestIteration = 1199\n",
      "bestTest = 4.126702948\n",
      "bestIteration = 1188\n",
      "bestTest = 4.105267245\n",
      "bestIteration = 1199\n",
      "bestTest = 4.404961636\n",
      "bestIteration = 1298\n",
      "bestTest = 4.180013446\n",
      "bestIteration = 1298\n"
     ]
    },
    {
     "name": "stdout",
     "output_type": "stream",
     "text": [
      "bestTest = 4.167599938\n",
      "bestIteration = 1299\n",
      "bestTest = 4.226109851\n",
      "bestIteration = 1293\n",
      "bestTest = 4.137637657\n",
      "bestIteration = 1286\n",
      "bestTest = 4.165810447\n",
      "bestIteration = 1299\n",
      "bestTest = 4.409523709\n",
      "bestIteration = 1298\n",
      "bestTest = 4.166526725\n",
      "bestIteration = 1298\n",
      "bestTest = 4.156325305\n",
      "bestIteration = 1297\n",
      "bestTest = 4.131288079\n",
      "bestIteration = 1298\n",
      "bestTest = 4.230322697\n",
      "bestIteration = 1299\n",
      "bestTest = 4.429200184\n",
      "bestIteration = 1269\n",
      "bestTest = 4.148697884\n",
      "bestIteration = 1298\n",
      "bestTest = 4.104752954\n",
      "bestIteration = 1254\n",
      "bestTest = 4.132545682\n",
      "bestIteration = 1298\n",
      "bestTest = 4.143105399\n",
      "bestIteration = 1299\n",
      "bestTest = 4.130812832\n",
      "bestIteration = 1298\n",
      "bestTest = 4.121637942\n",
      "bestIteration = 1292\n",
      "bestTest = 4.131303142\n",
      "bestIteration = 1297\n",
      "bestTest = 4.11258819\n",
      "bestIteration = 1270\n",
      "bestTest = 4.191936292\n",
      "bestIteration = 1299\n",
      "bestTest = 4.162427188\n",
      "bestIteration = 1283\n",
      "bestTest = 4.120952597\n",
      "bestIteration = 1288\n",
      "bestTest = 4.141585794\n",
      "bestIteration = 1293\n",
      "bestTest = 4.128778715\n",
      "bestIteration = 1292\n",
      "bestTest = 4.208046335\n",
      "bestIteration = 1299\n",
      "bestTest = 4.191707815\n",
      "bestIteration = 1297\n",
      "bestTest = 4.255107408\n",
      "bestIteration = 1258\n",
      "bestTest = 4.152606187\n",
      "bestIteration = 1290\n",
      "bestTest = 4.124617609\n",
      "bestIteration = 1253\n",
      "bestTest = 4.138575416\n",
      "bestIteration = 1299\n",
      "bestTest = 4.126238756\n",
      "bestIteration = 1294\n",
      "bestTest = 4.150169035\n",
      "bestIteration = 1271\n",
      "bestTest = 4.108273273\n",
      "bestIteration = 1297\n",
      "bestTest = 4.10755496\n",
      "bestIteration = 1219\n",
      "bestTest = 4.144192293\n",
      "bestIteration = 1268\n",
      "bestTest = 4.125976696\n",
      "bestIteration = 1289\n",
      "bestTest = 4.119995723\n",
      "bestIteration = 1299\n",
      "bestTest = 4.120721059\n",
      "bestIteration = 1255\n",
      "bestTest = 4.122556153\n",
      "bestIteration = 1297\n",
      "bestTest = 4.166419584\n",
      "bestIteration = 1298\n",
      "bestTest = 4.123381647\n",
      "bestIteration = 1296\n",
      "bestTest = 4.111030323\n",
      "bestIteration = 1298\n",
      "bestTest = 4.118329418\n",
      "bestIteration = 1290\n",
      "bestTest = 4.098115653\n",
      "bestIteration = 1270\n",
      "bestTest = 4.134554389\n",
      "bestIteration = 1276\n",
      "bestTest = 4.120950408\n",
      "bestIteration = 1299\n",
      "bestTest = 4.140208306\n",
      "bestIteration = 1260\n",
      "bestTest = 4.12276112\n",
      "bestIteration = 1296\n",
      "bestTest = 4.101765892\n",
      "bestIteration = 1285\n",
      "bestTest = 4.223292333\n",
      "bestIteration = 998\n",
      "bestTest = 4.207813589\n",
      "bestIteration = 989\n",
      "bestTest = 4.191409614\n",
      "bestIteration = 999\n",
      "bestTest = 4.122739027\n",
      "bestIteration = 986\n",
      "bestTest = 4.104419871\n",
      "bestIteration = 975\n",
      "bestTest = 4.542488548\n",
      "bestIteration = 985\n",
      "bestTest = 4.584940353\n",
      "bestIteration = 998\n",
      "bestTest = 4.156274098\n",
      "bestIteration = 999\n",
      "bestTest = 4.199979928\n",
      "bestIteration = 999\n",
      "bestTest = 4.169210428\n",
      "bestIteration = 999\n",
      "bestTest = 4.387286305\n",
      "bestIteration = 999\n",
      "bestTest = 4.209780598\n",
      "bestIteration = 998\n",
      "bestTest = 4.334988789\n",
      "bestIteration = 999\n",
      "bestTest = 4.166426077\n",
      "bestIteration = 993\n",
      "bestTest = 4.100011015\n",
      "bestIteration = 999\n",
      "bestTest = 4.470290844\n",
      "bestIteration = 999\n",
      "bestTest = 4.167049407\n",
      "bestIteration = 998\n",
      "bestTest = 4.136014\n",
      "bestIteration = 998\n",
      "bestTest = 4.117972687\n",
      "bestIteration = 907\n",
      "bestTest = 4.106177696\n",
      "bestIteration = 981\n",
      "bestTest = 4.367740634\n",
      "bestIteration = 999\n",
      "bestTest = 4.470782047\n",
      "bestIteration = 969\n",
      "bestTest = 4.151389202\n",
      "bestIteration = 982\n",
      "bestTest = 4.111502154\n",
      "bestIteration = 999\n",
      "bestTest = 4.130748647\n",
      "bestIteration = 998\n",
      "bestTest = 4.316397934\n",
      "bestIteration = 999\n",
      "bestTest = 4.224397876\n",
      "bestIteration = 986\n",
      "bestTest = 4.192518617\n",
      "bestIteration = 999\n",
      "bestTest = 4.189090838\n",
      "bestIteration = 979\n",
      "bestTest = 4.113006124\n",
      "bestIteration = 987\n",
      "bestTest = 4.248433084\n",
      "bestIteration = 998\n",
      "bestTest = 4.281121834\n",
      "bestIteration = 999\n",
      "bestTest = 4.137478764\n",
      "bestIteration = 999\n",
      "bestTest = 4.147661092\n",
      "bestIteration = 997\n",
      "bestTest = 4.10694368\n",
      "bestIteration = 988\n",
      "bestTest = 4.280029257\n",
      "bestIteration = 988\n",
      "bestTest = 4.289614033\n",
      "bestIteration = 999\n",
      "bestTest = 4.128260362\n",
      "bestIteration = 993\n",
      "bestTest = 4.109670462\n",
      "bestIteration = 989\n",
      "bestTest = 4.118254527\n",
      "bestIteration = 957\n",
      "bestTest = 4.130707821\n",
      "bestIteration = 998\n",
      "bestTest = 4.138145028\n",
      "bestIteration = 965\n",
      "bestTest = 4.133398416\n",
      "bestIteration = 999\n",
      "bestTest = 4.108378858\n",
      "bestIteration = 958\n",
      "bestTest = 4.093242868\n",
      "bestIteration = 997\n",
      "bestTest = 4.183220368\n",
      "bestIteration = 992\n",
      "bestTest = 4.114905148\n",
      "bestIteration = 996\n",
      "bestTest = 4.132796633\n",
      "bestIteration = 999\n",
      "bestTest = 4.119393952\n",
      "bestIteration = 998\n",
      "bestTest = 4.098327343\n",
      "bestIteration = 997\n",
      "bestTest = 4.163908866\n",
      "bestIteration = 1090\n",
      "bestTest = 4.178772287\n",
      "bestIteration = 1099\n",
      "bestTest = 4.177153177\n",
      "bestIteration = 1098\n",
      "bestTest = 4.114406309\n",
      "bestIteration = 1096\n",
      "bestTest = 4.103826364\n",
      "bestIteration = 1079\n",
      "bestTest = 4.538696218\n",
      "bestIteration = 1053\n",
      "bestTest = 4.569376006\n",
      "bestIteration = 1094\n",
      "bestTest = 4.139817952\n",
      "bestIteration = 1098\n",
      "bestTest = 4.177209957\n",
      "bestIteration = 1093\n",
      "bestTest = 4.135389918\n",
      "bestIteration = 1089\n",
      "bestTest = 4.335344096\n",
      "bestIteration = 1099\n",
      "bestTest = 4.13699093\n",
      "bestIteration = 1099\n",
      "bestTest = 4.304951166\n",
      "bestIteration = 1099\n",
      "bestTest = 4.127270222\n",
      "bestIteration = 1094\n",
      "bestTest = 4.098750251\n",
      "bestIteration = 1099\n",
      "bestTest = 4.398774882\n",
      "bestIteration = 1099\n",
      "bestTest = 4.163388823\n",
      "bestIteration = 1038\n",
      "bestTest = 4.12208515\n",
      "bestIteration = 1097\n",
      "bestTest = 4.117247086\n",
      "bestIteration = 1099\n",
      "bestTest = 4.093156061\n",
      "bestIteration = 1096\n",
      "bestTest = 4.278813737\n",
      "bestIteration = 1096\n",
      "bestTest = 4.414003226\n",
      "bestIteration = 1092\n",
      "bestTest = 4.141988609\n",
      "bestIteration = 1098\n",
      "bestTest = 4.105826499\n",
      "bestIteration = 1048\n",
      "bestTest = 4.130741005\n",
      "bestIteration = 1016\n",
      "bestTest = 4.244067588\n",
      "bestIteration = 1099\n",
      "bestTest = 4.214736471\n",
      "bestIteration = 1099\n",
      "bestTest = 4.177244715\n",
      "bestIteration = 1099\n",
      "bestTest = 4.179820133\n",
      "bestIteration = 1090\n",
      "bestTest = 4.110572917\n",
      "bestIteration = 1099\n",
      "bestTest = 4.175285489\n",
      "bestIteration = 1097\n",
      "bestTest = 4.185627072\n",
      "bestIteration = 1095\n",
      "bestTest = 4.131057776\n",
      "bestIteration = 1099\n",
      "bestTest = 4.139604898\n",
      "bestIteration = 1050\n",
      "bestTest = 4.100663574\n",
      "bestIteration = 1096\n",
      "bestTest = 4.242736126\n",
      "bestIteration = 1093\n",
      "bestTest = 4.144629234\n",
      "bestIteration = 1099\n",
      "bestTest = 4.120858276\n",
      "bestIteration = 1097\n",
      "bestTest = 4.10407138\n",
      "bestIteration = 1099\n",
      "bestTest = 4.111758337\n",
      "bestIteration = 1098\n",
      "bestTest = 4.128825894\n",
      "bestIteration = 1081\n",
      "bestTest = 4.135302033\n",
      "bestIteration = 1099\n",
      "bestTest = 4.130348447\n",
      "bestIteration = 1092\n",
      "bestTest = 4.102122054\n",
      "bestIteration = 1092\n",
      "bestTest = 4.089524158\n",
      "bestIteration = 1099\n",
      "bestTest = 4.162262092\n",
      "bestIteration = 1036\n",
      "bestTest = 4.110094397\n",
      "bestIteration = 1080\n",
      "bestTest = 4.132440933\n",
      "bestIteration = 1023\n",
      "bestTest = 4.106089405\n",
      "bestIteration = 1081\n",
      "bestTest = 4.09594002\n",
      "bestIteration = 1099\n",
      "bestTest = 4.138958697\n",
      "bestIteration = 1195\n",
      "bestTest = 4.151361613\n",
      "bestIteration = 1198\n",
      "bestTest = 4.159182985\n",
      "bestIteration = 1142\n",
      "bestTest = 4.113345088\n",
      "bestIteration = 1198\n",
      "bestTest = 4.103826364\n",
      "bestIteration = 1079\n",
      "bestTest = 4.443352204\n",
      "bestIteration = 1196\n",
      "bestTest = 4.398959804\n",
      "bestIteration = 1197\n",
      "bestTest = 4.139396626\n",
      "bestIteration = 1168\n",
      "bestTest = 4.129036884\n",
      "bestIteration = 1197\n",
      "bestTest = 4.120956973\n",
      "bestIteration = 1199\n",
      "bestTest = 4.275652993\n",
      "bestIteration = 1196\n",
      "bestTest = 4.128976165\n",
      "bestIteration = 1199\n",
      "bestTest = 4.146021567\n",
      "bestIteration = 1199\n",
      "bestTest = 4.109503026\n",
      "bestIteration = 1175\n",
      "bestTest = 4.093307201\n",
      "bestIteration = 1196\n",
      "bestTest = 4.343981081\n",
      "bestIteration = 1199\n",
      "bestTest = 4.154090283\n",
      "bestIteration = 1189\n",
      "bestTest = 4.117469839\n",
      "bestIteration = 1192\n",
      "bestTest = 4.107498315\n",
      "bestIteration = 1197\n",
      "bestTest = 4.092236763\n",
      "bestIteration = 1196\n",
      "bestTest = 4.239102607\n",
      "bestIteration = 1195\n",
      "bestTest = 4.288561471\n",
      "bestIteration = 1199\n",
      "bestTest = 4.123820792\n",
      "bestIteration = 1158\n",
      "bestTest = 4.102980012\n",
      "bestIteration = 1194\n",
      "bestTest = 4.107101339\n",
      "bestIteration = 1197\n",
      "bestTest = 4.222978423\n",
      "bestIteration = 1196\n",
      "bestTest = 4.208078267\n",
      "bestIteration = 1110\n",
      "bestTest = 4.177242341\n",
      "bestIteration = 1124\n",
      "bestTest = 4.178989387\n",
      "bestIteration = 1156\n",
      "bestTest = 4.107601724\n",
      "bestIteration = 1172\n",
      "bestTest = 4.163752275\n",
      "bestIteration = 1181\n",
      "bestTest = 4.166473263\n",
      "bestIteration = 1162\n",
      "bestTest = 4.12690312\n",
      "bestIteration = 1199\n",
      "bestTest = 4.138620305\n",
      "bestIteration = 1199\n",
      "bestTest = 4.096715623\n",
      "bestIteration = 1197\n",
      "bestTest = 4.17632039\n",
      "bestIteration = 1199\n",
      "bestTest = 4.129972666\n",
      "bestIteration = 1157\n",
      "bestTest = 4.11231298\n",
      "bestIteration = 1187\n",
      "bestTest = 4.101724558\n",
      "bestIteration = 1183\n",
      "bestTest = 4.106453976\n",
      "bestIteration = 1191\n"
     ]
    },
    {
     "name": "stdout",
     "output_type": "stream",
     "text": [
      "bestTest = 4.127700215\n",
      "bestIteration = 1184\n",
      "bestTest = 4.133140083\n",
      "bestIteration = 1199\n",
      "bestTest = 4.130348447\n",
      "bestIteration = 1092\n",
      "bestTest = 4.096237906\n",
      "bestIteration = 1188\n",
      "bestTest = 4.08949946\n",
      "bestIteration = 1176\n",
      "bestTest = 4.135344558\n",
      "bestIteration = 1190\n",
      "bestTest = 4.107667369\n",
      "bestIteration = 1199\n",
      "bestTest = 4.11451064\n",
      "bestIteration = 1199\n",
      "bestTest = 4.092127676\n",
      "bestIteration = 1195\n",
      "bestTest = 4.089312453\n",
      "bestIteration = 1167\n",
      "bestTest = 4.130762182\n",
      "bestIteration = 1295\n",
      "bestTest = 4.126774845\n",
      "bestIteration = 1299\n",
      "bestTest = 4.140150801\n",
      "bestIteration = 1298\n",
      "bestTest = 4.112364734\n",
      "bestIteration = 1270\n",
      "bestTest = 4.103826364\n",
      "bestIteration = 1079\n",
      "bestTest = 4.25006578\n",
      "bestIteration = 1299\n",
      "bestTest = 4.283259832\n",
      "bestIteration = 1290\n",
      "bestTest = 4.139396626\n",
      "bestIteration = 1168\n",
      "bestTest = 4.118528245\n",
      "bestIteration = 1295\n",
      "bestTest = 4.117611545\n",
      "bestIteration = 1287\n",
      "bestTest = 4.173736547\n",
      "bestIteration = 1299\n",
      "bestTest = 4.126372949\n",
      "bestIteration = 1291\n",
      "bestTest = 4.127434315\n",
      "bestIteration = 1297\n",
      "bestTest = 4.099961525\n",
      "bestIteration = 1298\n",
      "bestTest = 4.092975831\n",
      "bestIteration = 1237\n",
      "bestTest = 4.22824282\n",
      "bestIteration = 1299\n",
      "bestTest = 4.145625888\n",
      "bestIteration = 1295\n",
      "bestTest = 4.115796814\n",
      "bestIteration = 1297\n",
      "bestTest = 4.106156612\n",
      "bestIteration = 1299\n",
      "bestTest = 4.089472556\n",
      "bestIteration = 1295\n",
      "bestTest = 4.159374222\n",
      "bestIteration = 1299\n",
      "bestTest = 4.229867532\n",
      "bestIteration = 1297\n",
      "bestTest = 4.112862944\n",
      "bestIteration = 1270\n",
      "bestTest = 4.093471995\n",
      "bestIteration = 1293\n",
      "bestTest = 4.10254523\n",
      "bestIteration = 1265\n",
      "bestTest = 4.217959968\n",
      "bestIteration = 1203\n",
      "bestTest = 4.173980484\n",
      "bestIteration = 1298\n",
      "bestTest = 4.175492404\n",
      "bestIteration = 1299\n",
      "bestTest = 4.159183635\n",
      "bestIteration = 1269\n",
      "bestTest = 4.104764378\n",
      "bestIteration = 1295\n",
      "bestTest = 4.143524608\n",
      "bestIteration = 1297\n",
      "bestTest = 4.123210612\n",
      "bestIteration = 1299\n",
      "bestTest = 4.120263635\n",
      "bestIteration = 1299\n",
      "bestTest = 4.135830187\n",
      "bestIteration = 1281\n",
      "bestTest = 4.094735045\n",
      "bestIteration = 1245\n",
      "bestTest = 4.149224333\n",
      "bestIteration = 1294\n",
      "bestTest = 4.127260608\n",
      "bestIteration = 1299\n",
      "bestTest = 4.108127074\n",
      "bestIteration = 1293\n",
      "bestTest = 4.095613708\n",
      "bestIteration = 1294\n",
      "bestTest = 4.101985089\n",
      "bestIteration = 1294\n",
      "bestTest = 4.127214067\n",
      "bestIteration = 1202\n",
      "bestTest = 4.13128677\n",
      "bestIteration = 1298\n",
      "bestTest = 4.105055912\n",
      "bestIteration = 1297\n",
      "bestTest = 4.095370388\n",
      "bestIteration = 1294\n",
      "bestTest = 4.089109779\n",
      "bestIteration = 1265\n",
      "bestTest = 4.117629723\n",
      "bestIteration = 1297\n",
      "bestTest = 4.086217219\n",
      "bestIteration = 1293\n",
      "bestTest = 4.109315393\n",
      "bestIteration = 1299\n",
      "bestTest = 4.084796112\n",
      "bestIteration = 1283\n",
      "bestTest = 4.089058172\n",
      "bestIteration = 1257\n",
      "bestTest = 4.621287285\n",
      "bestIteration = 999\n",
      "bestTest = 4.529126634\n",
      "bestIteration = 999\n",
      "bestTest = 4.306913595\n",
      "bestIteration = 999\n",
      "bestTest = 4.145733567\n",
      "bestIteration = 989\n",
      "bestTest = 4.116523109\n",
      "bestIteration = 990\n",
      "bestTest = 4.170898352\n",
      "bestIteration = 999\n",
      "bestTest = 4.629040551\n",
      "bestIteration = 965\n",
      "bestTest = 4.401501379\n",
      "bestIteration = 957\n",
      "bestTest = 4.28661841\n",
      "bestIteration = 999\n",
      "bestTest = 4.141167478\n",
      "bestIteration = 999\n",
      "bestTest = 4.650149347\n",
      "bestIteration = 863\n",
      "bestTest = 4.329339905\n",
      "bestIteration = 986\n",
      "bestTest = 4.192950737\n",
      "bestIteration = 999\n",
      "bestTest = 4.240322066\n",
      "bestIteration = 977\n",
      "bestTest = 4.124974858\n",
      "bestIteration = 998\n",
      "bestTest = 4.485048574\n",
      "bestIteration = 948\n",
      "bestTest = 4.203189425\n",
      "bestIteration = 934\n",
      "bestTest = 4.243708889\n",
      "bestIteration = 989\n",
      "bestTest = 4.133625753\n",
      "bestIteration = 999\n",
      "bestTest = 4.151209763\n",
      "bestIteration = 999\n",
      "bestTest = 4.509545601\n",
      "bestIteration = 916\n",
      "bestTest = 4.194156953\n",
      "bestIteration = 999\n",
      "bestTest = 4.290785929\n",
      "bestIteration = 999\n",
      "bestTest = 4.098812298\n",
      "bestIteration = 986\n",
      "bestTest = 4.139923386\n",
      "bestIteration = 992\n",
      "bestTest = 4.44970904\n",
      "bestIteration = 999\n",
      "bestTest = 4.369185505\n",
      "bestIteration = 999\n",
      "bestTest = 4.288083886\n",
      "bestIteration = 990\n",
      "bestTest = 4.380067891\n",
      "bestIteration = 996\n",
      "bestTest = 4.107360432\n",
      "bestIteration = 972\n",
      "bestTest = 4.367070575\n",
      "bestIteration = 979\n",
      "bestTest = 4.28128319\n",
      "bestIteration = 998\n",
      "bestTest = 4.267936878\n",
      "bestIteration = 999\n",
      "bestTest = 4.280623614\n",
      "bestIteration = 999\n",
      "bestTest = 4.095030816\n",
      "bestIteration = 968\n",
      "bestTest = 4.180666029\n",
      "bestIteration = 979\n",
      "bestTest = 4.30355011\n",
      "bestIteration = 998\n",
      "bestTest = 4.129266645\n",
      "bestIteration = 971\n",
      "bestTest = 4.114163223\n",
      "bestIteration = 999\n",
      "bestTest = 4.116195361\n",
      "bestIteration = 938\n",
      "bestTest = 4.291403174\n",
      "bestIteration = 999\n",
      "bestTest = 4.115229492\n",
      "bestIteration = 997\n",
      "bestTest = 4.147523239\n",
      "bestIteration = 993\n",
      "bestTest = 4.127255583\n",
      "bestIteration = 999\n",
      "bestTest = 4.081756224\n",
      "bestIteration = 999\n",
      "bestTest = 4.159546588\n",
      "bestIteration = 973\n",
      "bestTest = 4.107600627\n",
      "bestIteration = 995\n",
      "bestTest = 4.132643009\n",
      "bestIteration = 999\n",
      "bestTest = 4.099288395\n",
      "bestIteration = 999\n",
      "bestTest = 4.172518593\n",
      "bestIteration = 999\n",
      "bestTest = 4.615879759\n",
      "bestIteration = 1089\n",
      "bestTest = 4.341701832\n",
      "bestIteration = 1099\n",
      "bestTest = 4.215085654\n",
      "bestIteration = 1095\n",
      "bestTest = 4.124706378\n",
      "bestIteration = 1096\n",
      "bestTest = 4.112138415\n",
      "bestIteration = 1099\n",
      "bestTest = 4.118738448\n",
      "bestIteration = 1096\n",
      "bestTest = 4.500969456\n",
      "bestIteration = 1099\n",
      "bestTest = 4.378370389\n",
      "bestIteration = 1048\n",
      "bestTest = 4.157441932\n",
      "bestIteration = 1098\n",
      "bestTest = 4.122938079\n",
      "bestIteration = 1093\n",
      "bestTest = 4.564048058\n",
      "bestIteration = 1094\n",
      "bestTest = 4.327099212\n",
      "bestIteration = 1092\n",
      "bestTest = 4.165861537\n",
      "bestIteration = 1093\n",
      "bestTest = 4.155162584\n",
      "bestIteration = 1095\n",
      "bestTest = 4.12066941\n",
      "bestIteration = 1098\n",
      "bestTest = 4.407474788\n",
      "bestIteration = 1053\n",
      "bestTest = 4.155590341\n",
      "bestIteration = 1098\n",
      "bestTest = 4.240108957\n",
      "bestIteration = 1097\n",
      "bestTest = 4.110181505\n",
      "bestIteration = 1096\n",
      "bestTest = 4.114780663\n",
      "bestIteration = 1093\n",
      "bestTest = 4.439301301\n",
      "bestIteration = 1097\n",
      "bestTest = 4.154887806\n",
      "bestIteration = 1081\n",
      "bestTest = 4.264997711\n",
      "bestIteration = 1064\n",
      "bestTest = 4.089876534\n",
      "bestIteration = 1082\n",
      "bestTest = 4.12447505\n",
      "bestIteration = 1096\n",
      "bestTest = 4.384434757\n",
      "bestIteration = 1091\n",
      "bestTest = 4.273799442\n",
      "bestIteration = 1076\n",
      "bestTest = 4.192224991\n",
      "bestIteration = 1099\n",
      "bestTest = 4.307228925\n",
      "bestIteration = 1086\n",
      "bestTest = 4.093608804\n",
      "bestIteration = 1099\n",
      "bestTest = 4.302125539\n",
      "bestIteration = 1095\n",
      "bestTest = 4.273862112\n",
      "bestIteration = 1098\n",
      "bestTest = 4.170900082\n",
      "bestIteration = 1049\n",
      "bestTest = 4.249251314\n",
      "bestIteration = 1089\n",
      "bestTest = 4.088584192\n",
      "bestIteration = 1067\n",
      "bestTest = 4.167279237\n",
      "bestIteration = 1093\n",
      "bestTest = 4.212082845\n",
      "bestIteration = 1098\n",
      "bestTest = 4.129266645\n",
      "bestIteration = 971\n",
      "bestTest = 4.10823837\n",
      "bestIteration = 1037\n",
      "bestTest = 4.112584024\n",
      "bestIteration = 1067\n",
      "bestTest = 4.266826975\n",
      "bestIteration = 1099\n",
      "bestTest = 4.113255636\n",
      "bestIteration = 1098\n",
      "bestTest = 4.128818031\n",
      "bestIteration = 1099\n",
      "bestTest = 4.124367035\n",
      "bestIteration = 1095\n",
      "bestTest = 4.07830213\n",
      "bestIteration = 1094\n",
      "bestTest = 4.152606839\n",
      "bestIteration = 1099\n",
      "bestTest = 4.10381274\n",
      "bestIteration = 1093\n",
      "bestTest = 4.11058981\n",
      "bestIteration = 1099\n",
      "bestTest = 4.09777983\n",
      "bestIteration = 1099\n",
      "bestTest = 4.168390982\n",
      "bestIteration = 1094\n",
      "bestTest = 4.615879173\n",
      "bestIteration = 1157\n",
      "bestTest = 4.233295313\n",
      "bestIteration = 1181\n",
      "bestTest = 4.166203127\n",
      "bestIteration = 1196\n",
      "bestTest = 4.121854988\n",
      "bestIteration = 1197\n",
      "bestTest = 4.110733509\n",
      "bestIteration = 1198\n",
      "bestTest = 4.10495178\n",
      "bestIteration = 1199\n",
      "bestTest = 4.447040491\n",
      "bestIteration = 1152\n",
      "bestTest = 4.378370389\n",
      "bestIteration = 1048\n",
      "bestTest = 4.124582188\n",
      "bestIteration = 1199\n",
      "bestTest = 4.105414644\n",
      "bestIteration = 1198\n",
      "bestTest = 4.553764206\n",
      "bestIteration = 1167\n",
      "bestTest = 4.32709817\n",
      "bestIteration = 1198\n",
      "bestTest = 4.133809665\n",
      "bestIteration = 1190\n",
      "bestTest = 4.12628662\n",
      "bestIteration = 1196\n",
      "bestTest = 4.095719399\n",
      "bestIteration = 1199\n",
      "bestTest = 4.382259482\n",
      "bestIteration = 1196\n",
      "bestTest = 4.125019239\n",
      "bestIteration = 1194\n",
      "bestTest = 4.159931405\n",
      "bestIteration = 1199\n",
      "bestTest = 4.103357826\n",
      "bestIteration = 1198\n",
      "bestTest = 4.111680255\n",
      "bestIteration = 1166\n",
      "bestTest = 4.437446195\n",
      "bestIteration = 1142\n",
      "bestTest = 4.118113062\n",
      "bestIteration = 1199\n",
      "bestTest = 4.204345084\n",
      "bestIteration = 1199\n",
      "bestTest = 4.087460668\n",
      "bestIteration = 1170\n",
      "bestTest = 4.109877388\n",
      "bestIteration = 1199\n",
      "bestTest = 4.379809694\n",
      "bestIteration = 1193\n",
      "bestTest = 4.174041628\n",
      "bestIteration = 1199\n",
      "bestTest = 4.155658267\n",
      "bestIteration = 1199\n"
     ]
    },
    {
     "name": "stdout",
     "output_type": "stream",
     "text": [
      "bestTest = 4.29580391\n",
      "bestIteration = 1199\n",
      "bestTest = 4.089060598\n",
      "bestIteration = 1176\n",
      "bestTest = 4.200984917\n",
      "bestIteration = 1199\n",
      "bestTest = 4.186703789\n",
      "bestIteration = 1199\n",
      "bestTest = 4.132649556\n",
      "bestIteration = 1193\n",
      "bestTest = 4.150593614\n",
      "bestIteration = 1178\n",
      "bestTest = 4.084263124\n",
      "bestIteration = 1188\n",
      "bestTest = 4.158314067\n",
      "bestIteration = 1199\n",
      "bestTest = 4.150301368\n",
      "bestIteration = 1197\n",
      "bestTest = 4.114942405\n",
      "bestIteration = 1199\n",
      "bestTest = 4.100211171\n",
      "bestIteration = 1198\n",
      "bestTest = 4.11138283\n",
      "bestIteration = 1182\n",
      "bestTest = 4.218868117\n",
      "bestIteration = 1199\n",
      "bestTest = 4.110281336\n",
      "bestIteration = 1198\n",
      "bestTest = 4.117981228\n",
      "bestIteration = 1199\n",
      "bestTest = 4.110069383\n",
      "bestIteration = 1157\n",
      "bestTest = 4.072142179\n",
      "bestIteration = 1167\n",
      "bestTest = 4.134227198\n",
      "bestIteration = 1198\n",
      "bestTest = 4.099914453\n",
      "bestIteration = 1191\n",
      "bestTest = 4.107780654\n",
      "bestIteration = 1194\n",
      "bestTest = 4.090685695\n",
      "bestIteration = 1191\n",
      "bestTest = 4.114015699\n",
      "bestIteration = 1199\n",
      "bestTest = 4.423897074\n",
      "bestIteration = 1299\n",
      "bestTest = 4.213545992\n",
      "bestIteration = 1291\n",
      "bestTest = 4.133819046\n",
      "bestIteration = 1297\n",
      "bestTest = 4.121140794\n",
      "bestIteration = 1298\n",
      "bestTest = 4.109264698\n",
      "bestIteration = 1297\n",
      "bestTest = 4.096718705\n",
      "bestIteration = 1299\n",
      "bestTest = 4.400115899\n",
      "bestIteration = 1297\n",
      "bestTest = 4.353289373\n",
      "bestIteration = 1294\n",
      "bestTest = 4.118898721\n",
      "bestIteration = 1264\n",
      "bestTest = 4.101559656\n",
      "bestIteration = 1291\n",
      "bestTest = 4.468525901\n",
      "bestIteration = 1299\n",
      "bestTest = 4.321306037\n",
      "bestIteration = 1278\n",
      "bestTest = 4.123221767\n",
      "bestIteration = 1299\n",
      "bestTest = 4.093629071\n",
      "bestIteration = 1298\n",
      "bestTest = 4.088558826\n",
      "bestIteration = 1299\n",
      "bestTest = 4.250013793\n",
      "bestIteration = 1299\n",
      "bestTest = 4.122750402\n",
      "bestIteration = 1296\n",
      "bestTest = 4.117406979\n",
      "bestIteration = 1294\n",
      "bestTest = 4.0938302\n",
      "bestIteration = 1293\n",
      "bestTest = 4.106948292\n",
      "bestIteration = 1292\n",
      "bestTest = 4.402304884\n",
      "bestIteration = 1288\n",
      "bestTest = 4.1067511\n",
      "bestIteration = 1299\n",
      "bestTest = 4.174944426\n",
      "bestIteration = 1293\n",
      "bestTest = 4.08037423\n",
      "bestIteration = 1299\n",
      "bestTest = 4.099551281\n",
      "bestIteration = 1264\n",
      "bestTest = 4.365823104\n",
      "bestIteration = 1297\n",
      "bestTest = 4.162612427\n",
      "bestIteration = 1294\n",
      "bestTest = 4.112012749\n",
      "bestIteration = 1297\n",
      "bestTest = 4.159387448\n",
      "bestIteration = 1299\n",
      "bestTest = 4.082802904\n",
      "bestIteration = 1297\n",
      "bestTest = 4.190028489\n",
      "bestIteration = 1286\n",
      "bestTest = 4.147671094\n",
      "bestIteration = 1267\n",
      "bestTest = 4.121808386\n",
      "bestIteration = 1299\n",
      "bestTest = 4.142987639\n",
      "bestIteration = 1299\n",
      "bestTest = 4.076110391\n",
      "bestIteration = 1264\n",
      "bestTest = 4.132804925\n",
      "bestIteration = 1299\n",
      "bestTest = 4.129304646\n",
      "bestIteration = 1299\n",
      "bestTest = 4.112546088\n",
      "bestIteration = 1299\n",
      "bestTest = 4.097842991\n",
      "bestIteration = 1291\n",
      "bestTest = 4.111043265\n",
      "bestIteration = 1294\n",
      "bestTest = 4.173914802\n",
      "bestIteration = 1269\n",
      "bestTest = 4.100513365\n",
      "bestIteration = 1298\n",
      "bestTest = 4.108141562\n",
      "bestIteration = 1295\n",
      "bestTest = 4.101188493\n",
      "bestIteration = 1298\n",
      "bestTest = 4.071472202\n",
      "bestIteration = 1282\n",
      "bestTest = 4.131654356\n",
      "bestIteration = 1283\n",
      "bestTest = 4.093903335\n",
      "bestIteration = 1281\n",
      "bestTest = 4.090883\n",
      "bestIteration = 1299\n",
      "bestTest = 4.089690206\n",
      "bestIteration = 1213\n",
      "bestTest = 4.096627129\n",
      "bestIteration = 1299\n",
      "bestTest = 4.695122271\n",
      "bestIteration = 987\n",
      "bestTest = 4.125322021\n",
      "bestIteration = 999\n",
      "bestTest = 4.126806313\n",
      "bestIteration = 999\n"
     ]
    }
   ],
   "source": [
    "model_cat_2 = CatBoostRegressor(verbose=False, task_type=\"GPU\")\n",
    "\n",
    "grid = {'iterations':[1000, 1100, 1200, 1300],\n",
    "        'learning_rate':np.arange(0.08, .13, .01),\n",
    "        'depth':np.arange(7, 14, 1),\n",
    "        'l2_leaf_reg':np.arange(1, 11, 1)}\n",
    "\n",
    "grid_search_result_2 = model_cat_2.grid_search(grid,\n",
    "                                               X=x_train,\n",
    "                                               y=y_train,\n",
    "                                               cv=3,\n",
    "                                               plot=True, \n",
    "                                               verbose=False)"
   ]
  },
  {
   "cell_type": "code",
   "execution_count": null,
   "id": "264c8863",
   "metadata": {},
   "outputs": [],
   "source": [
    "df_test_temp = df_test.drop(columns=['ID', 'Order_Date', 'Time_Orderd', 'Order_Date_Year', 'Restaurant_latitude', \n",
    "                                 'Restaurant_longitude', 'Order_Date_Month', 'Time_Orderd_hour', 'Time_Orderd_min', \n",
    "                                 'Time_Order_picked'])\n",
    "\n",
    "df_test_final = labelencoder_only_transform(label_dict, df_test_temp)\n",
    "\n",
    "df_test_final = scaller.transform(df_test_final)\n",
    "\n",
    "y_pred = cat_model_1.predict(df_test_final)\n",
    "\n",
    "y_pred"
   ]
  },
  {
   "cell_type": "code",
   "execution_count": null,
   "id": "a1bea919",
   "metadata": {},
   "outputs": [],
   "source": []
  },
  {
   "cell_type": "code",
   "execution_count": null,
   "id": "f6efb4d0",
   "metadata": {},
   "outputs": [],
   "source": []
  },
  {
   "cell_type": "code",
   "execution_count": null,
   "id": "c6179262",
   "metadata": {},
   "outputs": [],
   "source": []
  }
 ],
 "metadata": {
  "kernelspec": {
   "display_name": "Python 3 (ipykernel)",
   "language": "python",
   "name": "python3"
  },
  "language_info": {
   "codemirror_mode": {
    "name": "ipython",
    "version": 3
   },
   "file_extension": ".py",
   "mimetype": "text/x-python",
   "name": "python",
   "nbconvert_exporter": "python",
   "pygments_lexer": "ipython3",
   "version": "3.10.6"
  },
  "latex_envs": {
   "LaTeX_envs_menu_present": true,
   "autoclose": true,
   "autocomplete": true,
   "bibliofile": "biblio.bib",
   "cite_by": "apalike",
   "current_citInitial": 1,
   "eqLabelWithNumbers": true,
   "eqNumInitial": 1,
   "hotkeys": {
    "equation": "Ctrl-E",
    "itemize": "Ctrl-I"
   },
   "labels_anchors": false,
   "latex_user_defs": false,
   "report_style_numbering": true,
   "user_envs_cfg": true
  },
  "nbTranslate": {
   "displayLangs": [
    "*"
   ],
   "hotkey": "alt-t",
   "langInMainMenu": true,
   "sourceLang": "en",
   "targetLang": "fr",
   "useGoogleTranslate": true
  },
  "toc": {
   "base_numbering": 1,
   "nav_menu": {},
   "number_sections": true,
   "sideBar": true,
   "skip_h1_title": false,
   "title_cell": "Table of Contents",
   "title_sidebar": "Contents",
   "toc_cell": false,
   "toc_position": {},
   "toc_section_display": true,
   "toc_window_display": false
  },
  "varInspector": {
   "cols": {
    "lenName": 16,
    "lenType": 16,
    "lenVar": 40
   },
   "kernels_config": {
    "python": {
     "delete_cmd_postfix": "",
     "delete_cmd_prefix": "del ",
     "library": "var_list.py",
     "varRefreshCmd": "print(var_dic_list())"
    },
    "r": {
     "delete_cmd_postfix": ") ",
     "delete_cmd_prefix": "rm(",
     "library": "var_list.r",
     "varRefreshCmd": "cat(var_dic_list()) "
    }
   },
   "position": {
    "height": "358.835px",
    "left": "868.807px",
    "right": "20px",
    "top": "120px",
    "width": "353.011px"
   },
   "types_to_exclude": [
    "module",
    "function",
    "builtin_function_or_method",
    "instance",
    "_Feature"
   ],
   "window_display": false
  }
 },
 "nbformat": 4,
 "nbformat_minor": 5
}
